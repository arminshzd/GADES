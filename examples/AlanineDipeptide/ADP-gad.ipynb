{
 "cells": [
  {
   "cell_type": "code",
   "execution_count": 4,
   "id": "7dac4225-b6a2-46a1-a921-888098dbf302",
   "metadata": {},
   "outputs": [],
   "source": [
    "import numpy as np\n",
    "import jax\n",
    "import jax.numpy as jnp\n",
    "import numpy as np\n",
    "import openmm.app as app\n",
    "import openmm.unit as unit\n",
    "import openmm as mm\n",
    "from dmff import Hamiltonian, NeighborListFreud\n",
    "from tqdm import tqdm"
   ]
  },
  {
   "cell_type": "code",
   "execution_count": null,
   "id": "28fc95d8-a20e-4736-aafb-a7746ee18f4f",
   "metadata": {},
   "outputs": [],
   "source": [
    "path = '/Users/arminsh/Documents/GADES/examples/Alanine Dipeptide/'\n",
    "prmtop = app.AmberPrmtopFile(f\"{path}/alanine-dipeptide.prmtop\")\n",
    "inpcrd = app.AmberInpcrdFile(f\"{path}/alanine-dipeptide.inpcrd\")"
   ]
  },
  {
   "cell_type": "markdown",
   "id": "79067ffc-7a78-45bd-bdf4-732252a366fa",
   "metadata": {},
   "source": [
    "## Testing to see if DMFF is comparable to OpenMM"
   ]
  },
  {
   "cell_type": "markdown",
   "id": "c96fef46",
   "metadata": {},
   "source": [
    "### DMFF"
   ]
  },
  {
   "cell_type": "code",
   "execution_count": 27,
   "id": "7b3aada2",
   "metadata": {},
   "outputs": [
    {
     "name": "stdout",
     "output_type": "stream",
     "text": [
      "DMFF Pot E:  -55.794260834909345\n"
     ]
    }
   ],
   "source": [
    "ff = Hamiltonian(f\"{path}/protein.ff14SB.xml\")\n",
    "\n",
    "potentials = ff.createPotential(prmtop.topology, nonbondedMethod=app.NoCutoff, useDispersionCorrection=False)\n",
    "params = ff.getParameters()\n",
    "positions = jnp.array(inpcrd.getPositions(asNumpy=True).value_in_unit(unit.nanometer))\n",
    "\n",
    "box = jnp.array([[20.0, 0.0, 0.0], [0.0, 20.0, 0.0], [0.0, 0.0, 20.0]])\n",
    "\n",
    "nbList = NeighborListFreud(box, 3, potentials.meta[\"cov_map\"]) # maybe remove the box?\n",
    "nbList.allocate(positions)\n",
    "pairs = nbList.pairs\n",
    "efunc_all = potentials.getPotentialFunc()\n",
    "dmff_e = efunc_all(positions, box, pairs, ff.paramset)\n",
    "\n",
    "print(\"DMFF Pot E: \", dmff_e)"
   ]
  },
  {
   "cell_type": "markdown",
   "id": "5c86802e",
   "metadata": {},
   "source": [
    "### OpenMM"
   ]
  },
  {
   "cell_type": "code",
   "execution_count": null,
   "id": "76f9c967-4e3f-4743-aa75-eb5dd6f51f28",
   "metadata": {},
   "outputs": [
    {
     "name": "stdout",
     "output_type": "stream",
     "text": [
      "OpenMM Pot E:  -55.794262524057814 kJ/mol\n"
     ]
    }
   ],
   "source": [
    "forcefield = app.ForceField(f\"{path}/protein.ff14SB.xml\")\n",
    "system = forcefield.createSystem(prmtop.topology, nonbondedMethod=app.NoCutoff)\n",
    "integrator = mm.VerletIntegrator(0.001*unit.picoseconds)\n",
    "platform = mm.Platform.getPlatformByName('Reference')\n",
    "simulation = app.Simulation(prmtop.topology, system, integrator, platform)\n",
    "simulation.context.setPositions(inpcrd.positions)\n",
    "\n",
    "state = simulation.context.getState(getEnergy=True, getVelocities=True, getForces=True, getPositions=True)\n",
    "energy = state.getPotentialEnergy()\n",
    "print(\"OpenMM Pot E: \", energy)"
   ]
  },
  {
   "cell_type": "markdown",
   "id": "5ea61b60-c8b2-4f83-b6cd-fdb68ee5f85d",
   "metadata": {},
   "source": [
    "## Computing grad"
   ]
  },
  {
   "cell_type": "markdown",
   "id": "4177fa95",
   "metadata": {},
   "source": [
    "```\n",
    "# next two not needed if box, pairs, ff.paramset are constant\n",
    "state_fnc = lambda pos: [pos, box, pairs, ff.paramset]\n",
    "sample_state = state_fnc(positions)\n",
    "```"
   ]
  },
  {
   "cell_type": "code",
   "execution_count": 37,
   "id": "8fde7c9f-e4f1-4888-a6e1-27eeaec09daf",
   "metadata": {},
   "outputs": [
    {
     "name": "stdout",
     "output_type": "stream",
     "text": [
      "Forces: \n",
      " [-1.71865366e+02 -3.18532912e+01  6.93394280e-01 -2.69338193e+02\n",
      " -3.51439108e+02 -2.29458474e+00 -5.28602801e+00  4.40961711e+01\n",
      "  4.26381335e+01 -6.79627810e+00  4.33137449e+01 -4.09523736e+01\n",
      "  4.52549770e+02  2.17764116e+02 -2.35854039e+02  6.63423153e+02\n",
      "  4.01344132e+02 -3.88141697e+02  9.49967236e+01  7.69630908e+02\n",
      "  4.01534867e+02 -4.90775901e+01 -4.57633388e+01  7.38115682e+00\n",
      " -4.28528076e+02 -3.13662037e+02 -1.89956133e+02  1.74440184e+01\n",
      "  8.66267050e+00 -4.23307622e+01  1.04952670e+01  1.14678495e+02\n",
      "  3.50646113e+02 -1.77497554e+01  2.76645948e+01  6.28447219e+01\n",
      " -8.25922834e+01  2.01080786e+02  1.30534383e+02 -4.08666513e+02\n",
      " -2.61975927e+02  3.33848622e+02  5.80858470e+01 -1.93137316e+01\n",
      " -2.68883324e+02  2.16593345e+02  4.39660829e+01  1.80234687e+01\n",
      "  6.44641858e+01 -3.42606470e+02 -1.88895749e+02  1.40152566e+02\n",
      "  1.03662316e+02  6.88386192e+00 -2.76119653e+02 -2.02536969e+02\n",
      "  1.60757282e-01 -3.92006329e+01 -2.84702293e+02  9.29432738e-01\n",
      "  1.83045552e+01 -6.15960480e+01 -2.15381072e+01  1.87109380e+01\n",
      " -6.04148037e+01  2.27278578e+01]\n"
     ]
    },
    {
     "data": {
      "text/plain": [
       "(66,)"
      ]
     },
     "execution_count": 37,
     "metadata": {},
     "output_type": "execute_result"
    }
   ],
   "source": [
    "params = ff.paramset # easy for implemenentation - must not change\n",
    "efunc_pos = lambda pos: efunc_all(pos.reshape(-1, 3), box, pairs, ff.paramset) # for easy implementation \n",
    "\n",
    "grad_vec = jax.grad(efunc_pos)\n",
    "force = grad_vec(positions.flatten())\n",
    "print(\"Forces: \\n\", force)\n",
    "force.shape"
   ]
  },
  {
   "cell_type": "markdown",
   "id": "673ff569-9405-40c5-b21b-b7e5260c29d9",
   "metadata": {},
   "source": [
    "## Computing hessians"
   ]
  },
  {
   "cell_type": "code",
   "execution_count": 53,
   "id": "4e05e613-bd18-471a-a7de-758e6bc60719",
   "metadata": {},
   "outputs": [
    {
     "name": "stdout",
     "output_type": "stream",
     "text": [
      "(66, 66)\n"
     ]
    }
   ],
   "source": [
    "def hessian_vec(positions):\n",
    "  return jax.hessian(efunc_pos)(positions)\n",
    "\n",
    "hess = hessian_vec(positions.flatten())\n",
    "print(hess.shape)\n",
    "\n",
    "# Compute the eigenvalues\n",
    "w, v = jnp.linalg.eigh(hess)\n",
    "w_idx = w.argsort()\n",
    "w = w[w_idx]\n",
    "v = v[:, w_idx]"
   ]
  },
  {
   "cell_type": "code",
   "execution_count": 56,
   "id": "51f3593b",
   "metadata": {},
   "outputs": [
    {
     "name": "stdout",
     "output_type": "stream",
     "text": [
      "Eigevalues: \n",
      " [-1.20515267e+03 -9.26272741e+02 -4.90856230e+02 -2.64922500e+02\n",
      " -2.03726813e-10 -1.68236368e-11  7.27595761e-12  8.99995240e+01\n",
      "  5.81406863e+02  1.33665166e+03  1.42352943e+03  2.31945079e+03\n",
      "  3.55055531e+03  6.87779904e+03  1.29420881e+04  1.86465504e+04\n",
      "  2.13280496e+04  2.61972148e+04  3.01487295e+04  3.29005454e+04\n",
      "  3.99983779e+04  4.44728530e+04  4.72988656e+04  5.52189768e+04\n",
      "  5.93176021e+04  6.03004173e+04  6.65167672e+04  7.09974092e+04\n",
      "  7.32939158e+04  7.91970571e+04  8.20116199e+04  8.41032428e+04\n",
      "  8.87786120e+04  9.57600111e+04  9.70146117e+04  1.00729146e+05\n",
      "  1.07994144e+05  1.13327461e+05  1.30702156e+05  1.63781157e+05\n",
      "  1.81842951e+05  1.93055695e+05  2.02625223e+05  2.21783957e+05\n",
      "  2.37284932e+05  2.48731830e+05  2.62556336e+05  3.43251128e+05\n",
      "  4.13542305e+05  5.07461558e+05  6.13608296e+05  6.75015846e+05\n",
      "  7.02230832e+05  7.53955012e+05  7.58749080e+05  7.72377671e+05\n",
      "  7.81461364e+05  7.92651267e+05  8.28555866e+05  8.46072878e+05\n",
      "  9.41600059e+05  9.56954040e+05  1.13059836e+06  1.17392571e+06\n",
      "  1.35119865e+06  1.37192677e+06]\n"
     ]
    }
   ],
   "source": [
    "print(\"Eigevalues: \\n\", w)"
   ]
  },
  {
   "cell_type": "code",
   "execution_count": 8,
   "id": "a05d060c-0f16-4a25-b244-bb3c73a0f007",
   "metadata": {},
   "outputs": [],
   "source": [
    "def null_force(positions):\n",
    "    return np.zeros_like(positions)\n",
    "\n",
    "# BAOAB integrator\n",
    "# https://en.wikipedia.org/wiki/Langevin_dynamics\n",
    "# [p. 54] B. Leimkuhler and C. Matthews (2013) “Stochastic Numerical Methods for Molecular Sampling,” Applied Mathematics Research eXpress, Vol. 2013, No. 1, pp. 34–56 https://dx.doi.org/10.1093/amrx/abs010\n",
    "\n",
    "def baoab_langevin_integrator(positions, velocities, forces_u, forces_b, mass, gamma, dt, kBT, force_function_u, force_function_b, n_steps=1):\n",
    "    \"\"\"\n",
    "    BAOAB Langevin integrator based on Leimkuhler and Matthews (2013).\n",
    "\n",
    "    Parameters:\n",
    "        positions (np.ndarray): Initial positions (shape: [D, ], where D is dimensionality).\n",
    "        velocities (np.ndarray): Initial velocities (shape: [D, ]).\n",
    "        forces_u (np.ndarray): Initial unbiased forces (shape: [D, ]).\n",
    "        forces_b (np.ndarray): Initial biased forces (shape: [D, ]).\n",
    "        mass (float): Mass of the particles (scalar).\n",
    "        gamma (float): Friction coefficient. (scalar).\n",
    "        dt (float): Time step. (scalar).\n",
    "        n_steps (int): Number of simulation steps. (scalar).\n",
    "        kBT (float): Thermal energy (\\(k_B T\\)). (scalar).\n",
    "        force_function_u (callable): Function to compute unbiased forces given positions (returns forces of shape [D, ]).\n",
    "        force_function_b (callable): Function to compute biased forces given positions (returns forces of shape [D, ]).\n",
    "\n",
    "    Returns:\n",
    "        positions (np.ndarray): New positions (shape: [D, ]).\n",
    "        velocities (np.ndarray): New velocities (shape: [D, ]).\n",
    "        forces_u (np.ndarray): Unbiased forces at new position (shape: [D, ]).\n",
    "        forces_b (np.ndarray): Biased forces at new position (shape: [D, ]).\n",
    "    \"\"\"\n",
    "    dim = positions.shape\n",
    "\n",
    "    # Precompute constants\n",
    "    c1 = np.exp(-gamma * dt)\n",
    "    c3 = np.sqrt(kBT * (1 - c1**2))\n",
    "    inv_mass = np.reciprocal(mass)\n",
    "    inv_mass_sqrt = np.reciprocal(np.sqrt(mass))\n",
    "\n",
    "    for step in range(n_steps):\n",
    "\n",
    "        # Step B (First half-step momentum update)\n",
    "        forces = forces_u + forces_b\n",
    "        velocities += 0.5 * dt * inv_mass * forces\n",
    "\n",
    "        # Step A (Half-step position update)\n",
    "        positions += 0.5 * dt * velocities\n",
    "\n",
    "        # Step O (Thermostat and randomization)\n",
    "        random_force = np.random.normal(size=(dim))\n",
    "        velocities = c1 * velocities + c3 * inv_mass_sqrt * random_force\n",
    "\n",
    "        # Step A (Second half-step position update)\n",
    "        positions += 0.5 * dt * velocities\n",
    "\n",
    "        # Step B (Second half-step momentum update)\n",
    "        forces_u = force_function_u(positions)\n",
    "        forces_b = force_function_b(positions)\n",
    "        forces = forces_u + forces_b\n",
    "        velocities += 0.5 * dt * inv_mass * forces\n",
    "\n",
    "    return positions, velocities, forces_u, forces_b\n",
    "\n",
    "def gad_force_vec(position, kappa=0.9):\n",
    "    '''\n",
    "    More efficient way to do this by passing forces_u in addition to position so don't have to double compute force_u,\n",
    "    but annoying to use like this within BAOAB function\n",
    "    \n",
    "    Also annoying to hard-code kappa=XX into this function, but again annoying not to do so within BAOAB\n",
    "    \n",
    "    Should probably write custom BAOAB to accommodate\n",
    "    '''\n",
    "    \n",
    "    # checking kappa is softening parameter\n",
    "    assert 0. <= kappa <= 1.\n",
    "        \n",
    "    # unbiased forces\n",
    "    forces_u = grad_vec(position)\n",
    "    \n",
    "    # biased forces (softened by kappa)\n",
    "    hess = hessian_vec(position)\n",
    "    # need to check if this is correct\n",
    "    n_atoms = hess.shape[0] \n",
    "    n_dims = hess.shape[1] \n",
    "    hess_2d = hess.reshape(n_atoms * n_dims, n_atoms * n_dims)\n",
    "    \n",
    "    # Compute the eigenvalues\n",
    "    w, v = jnp.linalg.eigh(hess_2d)\n",
    "    n = v[:,0]\n",
    "    # Normalize the eigenvector\n",
    "    n = n / jnp.linalg.norm(n)\n",
    "    \n",
    "    # Reshape the forces_u to match the shape of n\n",
    "    forces_u_flat = forces_u.reshape(-1)  # Flatten forces_u to (n_atoms * n_dims,)\n",
    "    \n",
    "    # Compute the biased forces\n",
    "    forces_b_flat = -jnp.dot(n, forces_u_flat) * n  # Shape: (n_atoms * n_dims,)\n",
    "    \n",
    "    # Reshape the biased forces back to (n_atoms, n_dims)\n",
    "    forces_b = forces_b_flat.reshape(n_atoms, n_dims)\n",
    "    \n",
    "    # Apply the softening parameter kappa\n",
    "    forces_b *= kappa\n",
    "    \n",
    "    return forces_b"
   ]
  },
  {
   "cell_type": "code",
   "execution_count": 9,
   "id": "6b49c10c-1c2e-4da8-a74f-db01bd70d031",
   "metadata": {},
   "outputs": [],
   "source": [
    "# Parameters\n",
    "velocities = np.zeros_like(positions)\n",
    "start_state = state_fnc(positions)\n",
    "forces_u = grad_vec(positions)\n",
    "forces_b = null_force(positions)\n",
    "mass = mass_adp.reshape(-1,1) # needs to be mass of ADP - converting it into column vector\n",
    "gamma = 1.0\n",
    "dt = 0.001\n",
    "n_steps = 10000\n",
    "kBT = 2.494  # Thermal energy kJ/mol\n",
    "# gad_force_vec(positions) # able to get gad forces"
   ]
  },
  {
   "cell_type": "code",
   "execution_count": 28,
   "id": "80df61f8-aa54-44f6-a0e5-5ae0f3087646",
   "metadata": {},
   "outputs": [],
   "source": [
    "# forces_u + gad_force_vec(positions)\n",
    "# prepare storage arrays\n",
    "traj_p = np.full((n_steps+1, *positions.shape), np.nan)\n",
    "traj_v = np.full((n_steps+1, *positions.shape), np.nan)\n",
    "traj_fu = np.full((n_steps+1, *positions.shape), np.nan)\n",
    "traj_fb = np.full((n_steps+1, *positions.shape), np.nan)\n",
    "\n",
    "traj_p[0,:] = positions\n",
    "traj_v[0,:] = velocities\n",
    "traj_fu[0,:] = forces_u\n",
    "traj_fb[0,:] = forces_b"
   ]
  },
  {
   "cell_type": "code",
   "execution_count": 29,
   "id": "85bcc01f-84e7-4d34-81a2-caada01c387c",
   "metadata": {
    "scrolled": true
   },
   "outputs": [
    {
     "name": "stderr",
     "output_type": "stream",
     "text": [
      "  4%|████▉                                                                                                         | 448/10000 [01:40<35:42,  4.46it/s]\n"
     ]
    },
    {
     "ename": "KeyboardInterrupt",
     "evalue": "",
     "output_type": "error",
     "traceback": [
      "\u001b[0;31m---------------------------------------------------------------------------\u001b[0m",
      "\u001b[0;31mKeyboardInterrupt\u001b[0m                         Traceback (most recent call last)",
      "Cell \u001b[0;32mIn[29], line 4\u001b[0m\n\u001b[1;32m      1\u001b[0m \u001b[38;5;66;03m# Run the integrator\u001b[39;00m\n\u001b[1;32m      2\u001b[0m \u001b[38;5;28;01mfor\u001b[39;00m i \u001b[38;5;129;01min\u001b[39;00m tqdm(\u001b[38;5;28mrange\u001b[39m(\u001b[38;5;241m1\u001b[39m,n_steps\u001b[38;5;241m+\u001b[39m\u001b[38;5;241m1\u001b[39m)):\n\u001b[0;32m----> 4\u001b[0m     positions, velocities, forces_u, forces_b \u001b[38;5;241m=\u001b[39m \u001b[43mbaoab_langevin_integrator\u001b[49m\u001b[43m(\u001b[49m\n\u001b[1;32m      5\u001b[0m \u001b[43m    \u001b[49m\u001b[43mpositions\u001b[49m\u001b[43m,\u001b[49m\u001b[43m \u001b[49m\u001b[43mvelocities\u001b[49m\u001b[43m,\u001b[49m\u001b[43m \u001b[49m\u001b[43mforces_u\u001b[49m\u001b[43m,\u001b[49m\u001b[43m \u001b[49m\u001b[43mforces_b\u001b[49m\u001b[43m,\u001b[49m\u001b[43m \u001b[49m\u001b[43mmass\u001b[49m\u001b[43m,\u001b[49m\u001b[43m \u001b[49m\u001b[43mgamma\u001b[49m\u001b[43m,\u001b[49m\u001b[43m \u001b[49m\u001b[43mdt\u001b[49m\u001b[43m,\u001b[49m\u001b[43m \u001b[49m\u001b[43mkBT\u001b[49m\u001b[43m,\u001b[49m\u001b[43m \u001b[49m\u001b[43mgrad_vec\u001b[49m\u001b[43m,\u001b[49m\u001b[43m \u001b[49m\u001b[43mgad_force_vec\u001b[49m\n\u001b[1;32m      6\u001b[0m \u001b[43m    \u001b[49m\u001b[43m)\u001b[49m\n\u001b[1;32m      8\u001b[0m     traj_p[i,:] \u001b[38;5;241m=\u001b[39m positions\n\u001b[1;32m      9\u001b[0m     traj_v[i,:] \u001b[38;5;241m=\u001b[39m velocities\n",
      "Cell \u001b[0;32mIn[25], line 56\u001b[0m, in \u001b[0;36mbaoab_langevin_integrator\u001b[0;34m(positions, velocities, forces_u, forces_b, mass, gamma, dt, kBT, force_function_u, force_function_b, n_steps)\u001b[0m\n\u001b[1;32m     53\u001b[0m positions \u001b[38;5;241m+\u001b[39m\u001b[38;5;241m=\u001b[39m \u001b[38;5;241m0.5\u001b[39m \u001b[38;5;241m*\u001b[39m dt \u001b[38;5;241m*\u001b[39m velocities\n\u001b[1;32m     55\u001b[0m \u001b[38;5;66;03m# Step B (Second half-step momentum update)\u001b[39;00m\n\u001b[0;32m---> 56\u001b[0m forces_u \u001b[38;5;241m=\u001b[39m \u001b[43mforce_function_u\u001b[49m\u001b[43m(\u001b[49m\u001b[43mpositions\u001b[49m\u001b[43m)\u001b[49m\n\u001b[1;32m     57\u001b[0m forces_b \u001b[38;5;241m=\u001b[39m force_function_b(positions)\n\u001b[1;32m     58\u001b[0m forces \u001b[38;5;241m=\u001b[39m forces_u \u001b[38;5;241m+\u001b[39m forces_b\n",
      "    \u001b[0;31m[... skipping hidden 1 frame]\u001b[0m\n",
      "File \u001b[0;32m~/miniconda3/envs/dmff/lib/python3.9/site-packages/jax/_src/api.py:621\u001b[0m, in \u001b[0;36mgrad.<locals>.grad_f\u001b[0;34m(*args, **kwargs)\u001b[0m\n\u001b[1;32m    618\u001b[0m \u001b[38;5;129m@wraps\u001b[39m(fun, docstr\u001b[38;5;241m=\u001b[39mdocstr, argnums\u001b[38;5;241m=\u001b[39margnums)\n\u001b[1;32m    619\u001b[0m \u001b[38;5;129m@api_boundary\u001b[39m\n\u001b[1;32m    620\u001b[0m \u001b[38;5;28;01mdef\u001b[39;00m\u001b[38;5;250m \u001b[39m\u001b[38;5;21mgrad_f\u001b[39m(\u001b[38;5;241m*\u001b[39margs, \u001b[38;5;241m*\u001b[39m\u001b[38;5;241m*\u001b[39mkwargs):\n\u001b[0;32m--> 621\u001b[0m   _, g \u001b[38;5;241m=\u001b[39m \u001b[43mvalue_and_grad_f\u001b[49m\u001b[43m(\u001b[49m\u001b[38;5;241;43m*\u001b[39;49m\u001b[43margs\u001b[49m\u001b[43m,\u001b[49m\u001b[43m \u001b[49m\u001b[38;5;241;43m*\u001b[39;49m\u001b[38;5;241;43m*\u001b[39;49m\u001b[43mkwargs\u001b[49m\u001b[43m)\u001b[49m\n\u001b[1;32m    622\u001b[0m   \u001b[38;5;28;01mreturn\u001b[39;00m g\n",
      "    \u001b[0;31m[... skipping hidden 1 frame]\u001b[0m\n",
      "File \u001b[0;32m~/miniconda3/envs/dmff/lib/python3.9/site-packages/jax/_src/api.py:697\u001b[0m, in \u001b[0;36mvalue_and_grad.<locals>.value_and_grad_f\u001b[0;34m(*args, **kwargs)\u001b[0m\n\u001b[1;32m    695\u001b[0m _check_scalar(ans)\n\u001b[1;32m    696\u001b[0m tree_map(partial(_check_output_dtype_grad, holomorphic), ans)\n\u001b[0;32m--> 697\u001b[0m g \u001b[38;5;241m=\u001b[39m \u001b[43mvjp_py\u001b[49m\u001b[43m(\u001b[49m\u001b[43mlax_internal\u001b[49m\u001b[38;5;241;43m.\u001b[39;49m\u001b[43m_one\u001b[49m\u001b[43m(\u001b[49m\u001b[43mans\u001b[49m\u001b[43m)\u001b[49m\u001b[43m)\u001b[49m\n\u001b[1;32m    698\u001b[0m g \u001b[38;5;241m=\u001b[39m g[\u001b[38;5;241m0\u001b[39m] \u001b[38;5;28;01mif\u001b[39;00m \u001b[38;5;28misinstance\u001b[39m(argnums, \u001b[38;5;28mint\u001b[39m) \u001b[38;5;28;01melse\u001b[39;00m g\n\u001b[1;32m    699\u001b[0m \u001b[38;5;28;01mif\u001b[39;00m \u001b[38;5;129;01mnot\u001b[39;00m has_aux:\n",
      "File \u001b[0;32m~/miniconda3/envs/dmff/lib/python3.9/site-packages/jax/_src/tree_util.py:476\u001b[0m, in \u001b[0;36m_HashableCallableShim.__call__\u001b[0;34m(self, *args, **kw)\u001b[0m\n\u001b[1;32m    475\u001b[0m \u001b[38;5;28;01mdef\u001b[39;00m\u001b[38;5;250m \u001b[39m\u001b[38;5;21m__call__\u001b[39m(\u001b[38;5;28mself\u001b[39m, \u001b[38;5;241m*\u001b[39margs, \u001b[38;5;241m*\u001b[39m\u001b[38;5;241m*\u001b[39mkw):\n\u001b[0;32m--> 476\u001b[0m   \u001b[38;5;28;01mreturn\u001b[39;00m \u001b[38;5;28;43mself\u001b[39;49m\u001b[38;5;241;43m.\u001b[39;49m\u001b[43mfun\u001b[49m\u001b[43m(\u001b[49m\u001b[38;5;241;43m*\u001b[39;49m\u001b[43margs\u001b[49m\u001b[43m,\u001b[49m\u001b[43m \u001b[49m\u001b[38;5;241;43m*\u001b[39;49m\u001b[38;5;241;43m*\u001b[39;49m\u001b[43mkw\u001b[49m\u001b[43m)\u001b[49m\n",
      "File \u001b[0;32m~/miniconda3/envs/dmff/lib/python3.9/site-packages/jax/_src/api.py:2100\u001b[0m, in \u001b[0;36m_vjp_pullback_wrapper\u001b[0;34m(name, out_primal_avals, io_tree, fun, *py_args_)\u001b[0m\n\u001b[1;32m   2093\u001b[0m   \u001b[38;5;28;01mif\u001b[39;00m (\u001b[38;5;129;01mnot\u001b[39;00m core\u001b[38;5;241m.\u001b[39mtypecompat(ct_aval, ct_aval_expected) \u001b[38;5;129;01mand\u001b[39;00m\n\u001b[1;32m   2094\u001b[0m       \u001b[38;5;129;01mnot\u001b[39;00m _temporary_dtype_exception(ct_aval, ct_aval_expected)):\n\u001b[1;32m   2095\u001b[0m     \u001b[38;5;28;01mraise\u001b[39;00m \u001b[38;5;167;01mValueError\u001b[39;00m(\n\u001b[1;32m   2096\u001b[0m         \u001b[38;5;124m\"\u001b[39m\u001b[38;5;124munexpected JAX type (e.g. shape/dtype) for argument to vjp function: \u001b[39m\u001b[38;5;124m\"\u001b[39m\n\u001b[1;32m   2097\u001b[0m         \u001b[38;5;124mf\u001b[39m\u001b[38;5;124m\"\u001b[39m\u001b[38;5;124mgot \u001b[39m\u001b[38;5;132;01m{\u001b[39;00mct_aval\u001b[38;5;241m.\u001b[39mstr_short()\u001b[38;5;132;01m}\u001b[39;00m\u001b[38;5;124m, but expected \u001b[39m\u001b[38;5;132;01m{\u001b[39;00mct_aval_expected\u001b[38;5;241m.\u001b[39mstr_short()\u001b[38;5;132;01m}\u001b[39;00m\u001b[38;5;124m \u001b[39m\u001b[38;5;124m\"\u001b[39m\n\u001b[1;32m   2098\u001b[0m         \u001b[38;5;124mf\u001b[39m\u001b[38;5;124m\"\u001b[39m\u001b[38;5;124mbecause the corresponding output of the function \u001b[39m\u001b[38;5;132;01m{\u001b[39;00mname\u001b[38;5;132;01m}\u001b[39;00m\u001b[38;5;124m had JAX type \u001b[39m\u001b[38;5;124m\"\u001b[39m\n\u001b[1;32m   2099\u001b[0m         \u001b[38;5;124mf\u001b[39m\u001b[38;5;124m\"\u001b[39m\u001b[38;5;132;01m{\u001b[39;00maval\u001b[38;5;241m.\u001b[39mstr_short()\u001b[38;5;132;01m}\u001b[39;00m\u001b[38;5;124m\"\u001b[39m)\n\u001b[0;32m-> 2100\u001b[0m ans \u001b[38;5;241m=\u001b[39m \u001b[43mfun\u001b[49m\u001b[43m(\u001b[49m\u001b[38;5;241;43m*\u001b[39;49m\u001b[43margs\u001b[49m\u001b[43m)\u001b[49m\n\u001b[1;32m   2101\u001b[0m \u001b[38;5;28;01mreturn\u001b[39;00m tree_unflatten(out_tree, ans)\n",
      "File \u001b[0;32m~/miniconda3/envs/dmff/lib/python3.9/site-packages/jax/_src/tree_util.py:476\u001b[0m, in \u001b[0;36m_HashableCallableShim.__call__\u001b[0;34m(self, *args, **kw)\u001b[0m\n\u001b[1;32m    475\u001b[0m \u001b[38;5;28;01mdef\u001b[39;00m\u001b[38;5;250m \u001b[39m\u001b[38;5;21m__call__\u001b[39m(\u001b[38;5;28mself\u001b[39m, \u001b[38;5;241m*\u001b[39margs, \u001b[38;5;241m*\u001b[39m\u001b[38;5;241m*\u001b[39mkw):\n\u001b[0;32m--> 476\u001b[0m   \u001b[38;5;28;01mreturn\u001b[39;00m \u001b[38;5;28;43mself\u001b[39;49m\u001b[38;5;241;43m.\u001b[39;49m\u001b[43mfun\u001b[49m\u001b[43m(\u001b[49m\u001b[38;5;241;43m*\u001b[39;49m\u001b[43margs\u001b[49m\u001b[43m,\u001b[49m\u001b[43m \u001b[49m\u001b[38;5;241;43m*\u001b[39;49m\u001b[38;5;241;43m*\u001b[39;49m\u001b[43mkw\u001b[49m\u001b[43m)\u001b[49m\n",
      "File \u001b[0;32m~/miniconda3/envs/dmff/lib/python3.9/site-packages/jax/_src/interpreters/ad.py:150\u001b[0m, in \u001b[0;36mvjp.<locals>.unbound_vjp\u001b[0;34m(pvals, jaxpr, consts, *cts)\u001b[0m\n\u001b[1;32m    148\u001b[0m cts \u001b[38;5;241m=\u001b[39m \u001b[38;5;28mtuple\u001b[39m(ct \u001b[38;5;28;01mfor\u001b[39;00m ct, pval \u001b[38;5;129;01min\u001b[39;00m \u001b[38;5;28mzip\u001b[39m(cts, pvals) \u001b[38;5;28;01mif\u001b[39;00m \u001b[38;5;129;01mnot\u001b[39;00m pval\u001b[38;5;241m.\u001b[39mis_known())\n\u001b[1;32m    149\u001b[0m dummy_args \u001b[38;5;241m=\u001b[39m [UndefinedPrimal(v\u001b[38;5;241m.\u001b[39maval) \u001b[38;5;28;01mfor\u001b[39;00m v \u001b[38;5;129;01min\u001b[39;00m jaxpr\u001b[38;5;241m.\u001b[39minvars]\n\u001b[0;32m--> 150\u001b[0m arg_cts \u001b[38;5;241m=\u001b[39m \u001b[43mbackward_pass\u001b[49m\u001b[43m(\u001b[49m\u001b[43mjaxpr\u001b[49m\u001b[43m,\u001b[49m\u001b[43m \u001b[49m\u001b[38;5;28;43;01mTrue\u001b[39;49;00m\u001b[43m,\u001b[49m\u001b[43m \u001b[49m\u001b[43mconsts\u001b[49m\u001b[43m,\u001b[49m\u001b[43m \u001b[49m\u001b[43mdummy_args\u001b[49m\u001b[43m,\u001b[49m\u001b[43m \u001b[49m\u001b[43mcts\u001b[49m\u001b[43m)\u001b[49m\n\u001b[1;32m    151\u001b[0m \u001b[38;5;28;01mreturn\u001b[39;00m \u001b[38;5;28mmap\u001b[39m(instantiate_zeros, arg_cts)\n",
      "File \u001b[0;32m~/miniconda3/envs/dmff/lib/python3.9/site-packages/jax/_src/interpreters/ad.py:241\u001b[0m, in \u001b[0;36mbackward_pass\u001b[0;34m(jaxpr, transform_stack, consts, primals_in, cotangents_in)\u001b[0m\n\u001b[1;32m    239\u001b[0m   cts_in, \u001b[38;5;241m=\u001b[39m \u001b[38;5;28mmap\u001b[39m(read_cotangent, eqn\u001b[38;5;241m.\u001b[39moutvars)\n\u001b[1;32m    240\u001b[0m name_stack \u001b[38;5;241m=\u001b[39m source_info_util\u001b[38;5;241m.\u001b[39mcurrent_name_stack() \u001b[38;5;241m+\u001b[39m eqn\u001b[38;5;241m.\u001b[39msource_info\u001b[38;5;241m.\u001b[39mname_stack\n\u001b[0;32m--> 241\u001b[0m \u001b[38;5;28;01mwith\u001b[39;00m source_info_util\u001b[38;5;241m.\u001b[39muser_context(\n\u001b[1;32m    242\u001b[0m     eqn\u001b[38;5;241m.\u001b[39msource_info\u001b[38;5;241m.\u001b[39mtraceback, name_stack\u001b[38;5;241m=\u001b[39mname_stack), eqn\u001b[38;5;241m.\u001b[39mctx\u001b[38;5;241m.\u001b[39mmanager:\n\u001b[1;32m    243\u001b[0m   \u001b[38;5;28;01mif\u001b[39;00m eqn\u001b[38;5;241m.\u001b[39mprimitive\u001b[38;5;241m.\u001b[39mcall_primitive \u001b[38;5;129;01mor\u001b[39;00m eqn\u001b[38;5;241m.\u001b[39mprimitive\u001b[38;5;241m.\u001b[39mmap_primitive:\n\u001b[1;32m    244\u001b[0m     cts_in_avals \u001b[38;5;241m=\u001b[39m [v\u001b[38;5;241m.\u001b[39maval \u001b[38;5;28;01mfor\u001b[39;00m v \u001b[38;5;129;01min\u001b[39;00m eqn\u001b[38;5;241m.\u001b[39moutvars]\n",
      "File \u001b[0;32m~/miniconda3/envs/dmff/lib/python3.9/contextlib.py:119\u001b[0m, in \u001b[0;36m_GeneratorContextManager.__enter__\u001b[0;34m(self)\u001b[0m\n\u001b[1;32m    117\u001b[0m \u001b[38;5;28;01mdel\u001b[39;00m \u001b[38;5;28mself\u001b[39m\u001b[38;5;241m.\u001b[39margs, \u001b[38;5;28mself\u001b[39m\u001b[38;5;241m.\u001b[39mkwds, \u001b[38;5;28mself\u001b[39m\u001b[38;5;241m.\u001b[39mfunc\n\u001b[1;32m    118\u001b[0m \u001b[38;5;28;01mtry\u001b[39;00m:\n\u001b[0;32m--> 119\u001b[0m     \u001b[38;5;28;01mreturn\u001b[39;00m \u001b[38;5;28;43mnext\u001b[39;49m\u001b[43m(\u001b[49m\u001b[38;5;28;43mself\u001b[39;49m\u001b[38;5;241;43m.\u001b[39;49m\u001b[43mgen\u001b[49m\u001b[43m)\u001b[49m\n\u001b[1;32m    120\u001b[0m \u001b[38;5;28;01mexcept\u001b[39;00m \u001b[38;5;167;01mStopIteration\u001b[39;00m:\n\u001b[1;32m    121\u001b[0m     \u001b[38;5;28;01mraise\u001b[39;00m \u001b[38;5;167;01mRuntimeError\u001b[39;00m(\u001b[38;5;124m\"\u001b[39m\u001b[38;5;124mgenerator didn\u001b[39m\u001b[38;5;124m'\u001b[39m\u001b[38;5;124mt yield\u001b[39m\u001b[38;5;124m\"\u001b[39m) \u001b[38;5;28;01mfrom\u001b[39;00m\u001b[38;5;250m \u001b[39m\u001b[38;5;28;01mNone\u001b[39;00m\n",
      "File \u001b[0;32m~/miniconda3/envs/dmff/lib/python3.9/site-packages/jax/_src/core.py:275\u001b[0m, in \u001b[0;36mJaxprEqnContext.manager\u001b[0;34m(self)\u001b[0m\n\u001b[1;32m    272\u001b[0m \u001b[38;5;129m@property\u001b[39m\n\u001b[1;32m    273\u001b[0m \u001b[38;5;129m@contextmanager\u001b[39m\n\u001b[1;32m    274\u001b[0m \u001b[38;5;28;01mdef\u001b[39;00m\u001b[38;5;250m \u001b[39m\u001b[38;5;21mmanager\u001b[39m(\u001b[38;5;28mself\u001b[39m):\n\u001b[0;32m--> 275\u001b[0m   \u001b[38;5;28;01mwith\u001b[39;00m ExitStack() \u001b[38;5;28;01mas\u001b[39;00m stack:\n\u001b[1;32m    276\u001b[0m     \u001b[38;5;28;01mfor\u001b[39;00m manager, val \u001b[38;5;129;01min\u001b[39;00m \u001b[38;5;28mself\u001b[39m\u001b[38;5;241m.\u001b[39m_managers:\n\u001b[1;32m    277\u001b[0m       stack\u001b[38;5;241m.\u001b[39menter_context(manager(val))\n",
      "\u001b[0;31mKeyboardInterrupt\u001b[0m: "
     ]
    }
   ],
   "source": [
    "# Run GAD\n",
    "for i in tqdm(range(1,n_steps+1)):\n",
    "    \n",
    "    positions, velocities, forces_u, forces_b = baoab_langevin_integrator(\n",
    "    positions, velocities, forces_u, forces_b, mass, gamma, dt, kBT, grad_vec, gad_force_vec\n",
    "    )\n",
    "    \n",
    "    traj_p[i,:] = positions\n",
    "    traj_v[i,:] = velocities\n",
    "    traj_fu[i,:] = forces_u\n",
    "    traj_fb[i,:] = forces_b\n",
    "\n",
    "    # write a condition to save traj every 100 steps\n",
    "    \n",
    "    if i%100 == 0:\n",
    "        traj_p_np = np.array(traj_p)\n",
    "        np.save('traj_p.npy',traj_p_np)\n",
    "\n",
    "# Convert trajectory to numpy array for analysis\n",
    "traj_p = np.array(traj_p)\n",
    "traj_v = np.array(traj_v)\n",
    "traj_fu = np.array(traj_fu)\n",
    "traj_fb = np.array(traj_fb)"
   ]
  },
  {
   "cell_type": "code",
   "execution_count": null,
   "id": "9d4a91ac-04e5-419a-99c3-c44e15efff41",
   "metadata": {},
   "outputs": [],
   "source": []
  },
  {
   "cell_type": "code",
   "execution_count": null,
   "id": "0f3efd6b-f06d-4ff0-b4c5-f69c2b526867",
   "metadata": {},
   "outputs": [],
   "source": [
    "# def runMD(topfile, pdbfile, trajfile, length):\n",
    "#     try:\n",
    "#         os.remove(\"Lig_500.top\")\n",
    "#     except:\n",
    "#         pass\n",
    "#     top_prm = parmed.load_file(topfile)\n",
    "#     top_500 = top_prm * 500\n",
    "#     top_500.save(\"Lig_500.top\")\n",
    "#     pdb = app.PDBFile(pdbfile)\n",
    "#     top = app.GromacsTopFile(\"Lig_500.top\")\n",
    "#     top.topology.setPeriodicBoxVectors(pdb.topology.getPeriodicBoxVectors())\n",
    "#     system = top.createSystem(nonbondedMethod=app.PME, nonbondedCutoff=1.0*unit.nanometer, constraints=app.HBonds, hydrogenMass=3*unit.dalton)\n",
    "#     for force in system.getForces():\n",
    "#         if isinstance(force, mm.NonbondedForce):\n",
    "#             force.setUseDispersionCorrection(False)\n",
    "#     system.addForce(mm.MonteCarloBarostat(1.0*unit.bar, 300*unit.kelvin, 25))\n",
    "#     integ = mm.LangevinIntegrator(300*unit.kelvin, 1/unit.picosecond, 2.5*unit.femtosecond)\n",
    "#     simulation = app.Simulation(top.topology, system, integ)\n",
    "#     simulation.reporters.append(app.StateDataReporter(sys.stdout, 400, time=True, potentialEnergy=True, temperature=True, density=True, speed=True, remainingTime=True, totalSteps=int(length) * 400))\n",
    "#     simulation.reporters.append(app.DCDReporter(trajfile, 400))\n",
    "#     simulation.context.setPositions(pdb.getPositions())\n",
    "#     simulation.minimizeEnergy(maxIterations=200)\n",
    "#     simulation.step(int(length) * 400)\n",
    "#     os.remove(\"Lig_500.top\")"
   ]
  },
  {
   "cell_type": "code",
   "execution_count": 10,
   "id": "9d82978f-57bf-4ba0-850d-896ad67b794e",
   "metadata": {},
   "outputs": [
    {
     "name": "stderr",
     "output_type": "stream",
     "text": [
      "100%|████████████████████████████████████████████████████████████████████████████████████████████████████████████| 10000/10000 [09:47<00:00, 17.02it/s]\n"
     ]
    }
   ],
   "source": [
    "# forces_u + gad_force_vec(positions)\n",
    "# prepare storage arrays\n",
    "traj_p = np.full((n_steps+1, *positions.shape), np.nan)\n",
    "traj_v = np.full((n_steps+1, *positions.shape), np.nan)\n",
    "traj_fu = np.full((n_steps+1, *positions.shape), np.nan)\n",
    "traj_fb = np.full((n_steps+1, *positions.shape), np.nan)\n",
    "\n",
    "traj_p[0,:] = positions\n",
    "traj_v[0,:] = velocities\n",
    "traj_fu[0,:] = forces_u\n",
    "traj_fb[0,:] = forces_b\n",
    "\n",
    "# Run the integrator\n",
    "for i in tqdm(range(1,n_steps+1)):\n",
    "    \n",
    "    positions, velocities, forces_u, forces_b = baoab_langevin_integrator(\n",
    "    positions, velocities, forces_u, forces_b, mass, gamma, dt, kBT, grad_vec, null_force\n",
    "    )\n",
    "    \n",
    "    traj_p[i,:] = positions\n",
    "    traj_v[i,:] = velocities\n",
    "    traj_fu[i,:] = forces_u\n",
    "    traj_fb[i,:] = forces_b\n",
    "    if i%100 == 0:\n",
    "        traj_p_np = np.array(traj_p)\n",
    "        np.save('traj_p_unbiased.npy',traj_p_np)\n",
    "    \n",
    "\n",
    "# Convert trajectory to numpy array for analysis\n",
    "traj_p = np.array(traj_p)\n",
    "traj_v = np.array(traj_v)\n",
    "traj_fu = np.array(traj_fu)\n",
    "traj_fb = np.array(traj_fb)"
   ]
  },
  {
   "cell_type": "code",
   "execution_count": 11,
   "id": "cbaa9fab-0b10-4abe-bd53-b45af94942bf",
   "metadata": {},
   "outputs": [
    {
     "data": {
      "text/plain": [
       "array([[[ 2.00000107e-01,  1.00000001e-01, -1.30000004e-07],\n",
       "        [ 2.00000107e-01,  2.09000006e-01,  9.99999994e-09],\n",
       "        [ 1.48626402e-01,  2.45384902e-01,  8.89824033e-02],\n",
       "        ...,\n",
       "        [ 4.81857598e-01,  8.64773512e-01,  1.04000003e-06],\n",
       "        [ 6.35979831e-01,  8.64773154e-01,  8.89828280e-02],\n",
       "        [ 6.35978997e-01,  8.64773512e-01, -8.89818668e-02]],\n",
       "\n",
       "       [[ 1.99903399e-01,  1.00017600e-01,  3.02426361e-05],\n",
       "        [ 1.99974716e-01,  2.08990544e-01, -6.25230177e-06],\n",
       "        [ 1.48607701e-01,  2.45344073e-01,  8.90382677e-02],\n",
       "        ...,\n",
       "        [ 4.81822222e-01,  8.64603996e-01, -5.40142173e-06],\n",
       "        [ 6.36004746e-01,  8.64748836e-01,  8.90221223e-02],\n",
       "        [ 6.35976434e-01,  8.64675999e-01, -8.89606252e-02]],\n",
       "\n",
       "       [[ 1.99667603e-01,  1.00008927e-01,  6.04168417e-05],\n",
       "        [ 1.99908674e-01,  2.08967775e-01, -1.94850072e-05],\n",
       "        [ 1.48589358e-01,  2.45280415e-01,  8.91810954e-02],\n",
       "        ...,\n",
       "        [ 4.81780648e-01,  8.64108980e-01,  3.27698144e-05],\n",
       "        [ 6.36075854e-01,  8.64646435e-01,  8.90640095e-02],\n",
       "        [ 6.35915995e-01,  8.64454746e-01, -8.89232904e-02]],\n",
       "\n",
       "       ...,\n",
       "\n",
       "       [[            nan,             nan,             nan],\n",
       "        [            nan,             nan,             nan],\n",
       "        [            nan,             nan,             nan],\n",
       "        ...,\n",
       "        [            nan,             nan,             nan],\n",
       "        [            nan,             nan,             nan],\n",
       "        [            nan,             nan,             nan]],\n",
       "\n",
       "       [[            nan,             nan,             nan],\n",
       "        [            nan,             nan,             nan],\n",
       "        [            nan,             nan,             nan],\n",
       "        ...,\n",
       "        [            nan,             nan,             nan],\n",
       "        [            nan,             nan,             nan],\n",
       "        [            nan,             nan,             nan]],\n",
       "\n",
       "       [[            nan,             nan,             nan],\n",
       "        [            nan,             nan,             nan],\n",
       "        [            nan,             nan,             nan],\n",
       "        ...,\n",
       "        [            nan,             nan,             nan],\n",
       "        [            nan,             nan,             nan],\n",
       "        [            nan,             nan,             nan]]])"
      ]
     },
     "execution_count": 11,
     "metadata": {},
     "output_type": "execute_result"
    }
   ],
   "source": []
  }
 ],
 "metadata": {
  "kernelspec": {
   "display_name": "GAD",
   "language": "python",
   "name": "python3"
  },
  "language_info": {
   "codemirror_mode": {
    "name": "ipython",
    "version": 3
   },
   "file_extension": ".py",
   "mimetype": "text/x-python",
   "name": "python",
   "nbconvert_exporter": "python",
   "pygments_lexer": "ipython3",
   "version": "3.9.18"
  }
 },
 "nbformat": 4,
 "nbformat_minor": 5
}
