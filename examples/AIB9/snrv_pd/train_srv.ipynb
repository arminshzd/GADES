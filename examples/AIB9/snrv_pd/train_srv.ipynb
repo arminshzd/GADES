{
 "cells": [
  {
   "cell_type": "code",
   "execution_count": 1,
   "id": "de3ba76f",
   "metadata": {},
   "outputs": [],
   "source": [
    "import numpy as np\n",
    "import matplotlib.pyplot as plt\n",
    "import plotly.express as px\n",
    "import pandas as pd\n",
    "import mdtraj as md\n",
    "\n",
    "import torch\n",
    "\n",
    "from snrv import Snrv"
   ]
  },
  {
   "cell_type": "code",
   "execution_count": 2,
   "id": "9f998416",
   "metadata": {},
   "outputs": [],
   "source": [
    "traj = md.load(\"../traj_2000_2500.dcd\", top=\"../aib9.gro\")\n",
    "biasing_atom_ids = np.array([atom.index for atom in traj.topology.atoms if atom.residue.name != 'HOH'])\n",
    "pos = torch.from_numpy(traj.xyz)\n",
    "box = torch.from_numpy(np.asarray([np.diag(i) for i in traj.unitcell_vectors])).view(-1, 1, 3)"
   ]
  },
  {
   "cell_type": "code",
   "execution_count": 3,
   "id": "bc62ade1",
   "metadata": {},
   "outputs": [],
   "source": [
    "def generate_pair_indices_from_list(index_list):\n",
    "    i_list = []\n",
    "    j_list = []\n",
    "    for i in range(len(index_list)):\n",
    "        for j in range(i + 1, len(index_list)):\n",
    "            i_list.append(index_list[i])\n",
    "            j_list.append(index_list[j])\n",
    "    return torch.tensor(i_list), torch.tensor(j_list)\n",
    "\n",
    "i_list, j_list = generate_pair_indices_from_list(biasing_atom_ids)"
   ]
  },
  {
   "cell_type": "code",
   "execution_count": 4,
   "id": "2bea652c",
   "metadata": {},
   "outputs": [],
   "source": [
    "d = pos[:, i_list, :] - pos[:, j_list, :]  # shape: [T, M, 3]\n",
    "d = d - box * torch.round(d / box)  # apply MIC\n",
    "traj_x = torch.norm(d, dim=-1)  # shape: [T, M]"
   ]
  },
  {
   "cell_type": "code",
   "execution_count": 8,
   "id": "845a5418",
   "metadata": {},
   "outputs": [],
   "source": [
    "input_size = traj_x.size()[1]\n",
    "output_size = 3\n",
    "hidden_depth = 3\n",
    "hidden_size = 2000\n",
    "batch_norm = True\n",
    "dropout_rate = 0.\n",
    "lr = 1E-4\n",
    "weight_decay = 0.\n",
    "val_frac = 0.20\n",
    "n_epochs = 50\n",
    "batch_size = 1000\n",
    "VAMPdegree = 2\n",
    "is_reversible = True\n",
    "num_workers = 0\n",
    "\n",
    "model = Snrv(input_size, output_size, hidden_depth=hidden_depth, hidden_size=hidden_size,\n",
    "            batch_norm=batch_norm, dropout_rate=dropout_rate, lr=lr, weight_decay=weight_decay, \n",
    "            val_frac=val_frac, n_epochs=n_epochs, batch_size=batch_size, \n",
    "            VAMPdegree=VAMPdegree, is_reversible=is_reversible, num_workers=num_workers, device=\"cuda\")\n",
    "model = model.to(\"cuda\")"
   ]
  },
  {
   "cell_type": "code",
   "execution_count": 9,
   "id": "6a3c8a69",
   "metadata": {},
   "outputs": [
    {
     "name": "stderr",
     "output_type": "stream",
     "text": [
      "Epoch 0: 100%|██████████| 8/8 [00:00<00:00,  9.92batch/s]\n"
     ]
    },
    {
     "name": "stdout",
     "output_type": "stream",
     "text": [
      "[Epoch 0]\t training loss = -2.597\t validation loss = -2.726\n"
     ]
    },
    {
     "name": "stderr",
     "output_type": "stream",
     "text": [
      "Epoch 1: 100%|██████████| 8/8 [00:00<00:00, 13.40batch/s]\n"
     ]
    },
    {
     "name": "stdout",
     "output_type": "stream",
     "text": [
      "[Epoch 1]\t training loss = -2.811\t validation loss = -2.779\n"
     ]
    },
    {
     "name": "stderr",
     "output_type": "stream",
     "text": [
      "Epoch 2: 100%|██████████| 8/8 [00:00<00:00, 13.09batch/s]\n"
     ]
    },
    {
     "name": "stdout",
     "output_type": "stream",
     "text": [
      "[Epoch 2]\t training loss = -2.876\t validation loss = -2.837\n"
     ]
    },
    {
     "name": "stderr",
     "output_type": "stream",
     "text": [
      "Epoch 3: 100%|██████████| 8/8 [00:00<00:00, 13.33batch/s]\n"
     ]
    },
    {
     "name": "stdout",
     "output_type": "stream",
     "text": [
      "[Epoch 3]\t training loss = -2.922\t validation loss = -2.877\n"
     ]
    },
    {
     "name": "stderr",
     "output_type": "stream",
     "text": [
      "Epoch 4: 100%|██████████| 8/8 [00:00<00:00, 13.10batch/s]\n"
     ]
    },
    {
     "name": "stdout",
     "output_type": "stream",
     "text": [
      "[Epoch 4]\t training loss = -2.947\t validation loss = -2.899\n"
     ]
    },
    {
     "name": "stderr",
     "output_type": "stream",
     "text": [
      "Epoch 5: 100%|██████████| 8/8 [00:00<00:00, 11.49batch/s]\n"
     ]
    },
    {
     "name": "stdout",
     "output_type": "stream",
     "text": [
      "[Epoch 5]\t training loss = -2.963\t validation loss = -2.910\n"
     ]
    },
    {
     "name": "stderr",
     "output_type": "stream",
     "text": [
      "Epoch 6: 100%|██████████| 8/8 [00:00<00:00, 13.89batch/s]\n"
     ]
    },
    {
     "name": "stdout",
     "output_type": "stream",
     "text": [
      "[Epoch 6]\t training loss = -2.973\t validation loss = -2.919\n"
     ]
    },
    {
     "name": "stderr",
     "output_type": "stream",
     "text": [
      "Epoch 7: 100%|██████████| 8/8 [00:00<00:00, 13.12batch/s]\n"
     ]
    },
    {
     "name": "stdout",
     "output_type": "stream",
     "text": [
      "[Epoch 7]\t training loss = -2.980\t validation loss = -2.926\n"
     ]
    },
    {
     "name": "stderr",
     "output_type": "stream",
     "text": [
      "Epoch 8: 100%|██████████| 8/8 [00:00<00:00, 13.42batch/s]\n"
     ]
    },
    {
     "name": "stdout",
     "output_type": "stream",
     "text": [
      "[Epoch 8]\t training loss = -2.984\t validation loss = -2.934\n"
     ]
    },
    {
     "name": "stderr",
     "output_type": "stream",
     "text": [
      "Epoch 9: 100%|██████████| 8/8 [00:00<00:00, 12.99batch/s]\n"
     ]
    },
    {
     "name": "stdout",
     "output_type": "stream",
     "text": [
      "[Epoch 9]\t training loss = -2.988\t validation loss = -2.939\n"
     ]
    },
    {
     "name": "stderr",
     "output_type": "stream",
     "text": [
      "Epoch 10: 100%|██████████| 8/8 [00:00<00:00, 12.88batch/s]\n"
     ]
    },
    {
     "name": "stdout",
     "output_type": "stream",
     "text": [
      "[Epoch 10]\t training loss = -2.991\t validation loss = -2.940\n"
     ]
    },
    {
     "name": "stderr",
     "output_type": "stream",
     "text": [
      "Epoch 11: 100%|██████████| 8/8 [00:00<00:00, 13.61batch/s]\n"
     ]
    },
    {
     "name": "stdout",
     "output_type": "stream",
     "text": [
      "[Epoch 11]\t training loss = -2.992\t validation loss = -2.942\n"
     ]
    },
    {
     "name": "stderr",
     "output_type": "stream",
     "text": [
      "Epoch 12: 100%|██████████| 8/8 [00:00<00:00, 14.13batch/s]\n"
     ]
    },
    {
     "name": "stdout",
     "output_type": "stream",
     "text": [
      "[Epoch 12]\t training loss = -2.994\t validation loss = -2.943\n"
     ]
    },
    {
     "name": "stderr",
     "output_type": "stream",
     "text": [
      "Epoch 13: 100%|██████████| 8/8 [00:00<00:00, 14.37batch/s]\n"
     ]
    },
    {
     "name": "stdout",
     "output_type": "stream",
     "text": [
      "[Epoch 13]\t training loss = -2.995\t validation loss = -2.943\n"
     ]
    },
    {
     "name": "stderr",
     "output_type": "stream",
     "text": [
      "Epoch 14: 100%|██████████| 8/8 [00:00<00:00, 14.68batch/s]\n"
     ]
    },
    {
     "name": "stdout",
     "output_type": "stream",
     "text": [
      "[Epoch 14]\t training loss = -2.995\t validation loss = -2.943\n"
     ]
    },
    {
     "name": "stderr",
     "output_type": "stream",
     "text": [
      "Epoch 15: 100%|██████████| 8/8 [00:00<00:00, 13.98batch/s]\n"
     ]
    },
    {
     "name": "stdout",
     "output_type": "stream",
     "text": [
      "[Epoch 15]\t training loss = -2.996\t validation loss = -2.946\n"
     ]
    },
    {
     "name": "stderr",
     "output_type": "stream",
     "text": [
      "Epoch 16: 100%|██████████| 8/8 [00:00<00:00, 13.69batch/s]\n"
     ]
    },
    {
     "name": "stdout",
     "output_type": "stream",
     "text": [
      "[Epoch 16]\t training loss = -2.997\t validation loss = -2.946\n"
     ]
    },
    {
     "name": "stderr",
     "output_type": "stream",
     "text": [
      "Epoch 17: 100%|██████████| 8/8 [00:00<00:00, 14.87batch/s]\n"
     ]
    },
    {
     "name": "stdout",
     "output_type": "stream",
     "text": [
      "[Epoch 17]\t training loss = -2.997\t validation loss = -2.945\n"
     ]
    },
    {
     "name": "stderr",
     "output_type": "stream",
     "text": [
      "Epoch 18: 100%|██████████| 8/8 [00:00<00:00, 14.59batch/s]\n"
     ]
    },
    {
     "name": "stdout",
     "output_type": "stream",
     "text": [
      "[Epoch 18]\t training loss = -2.997\t validation loss = -2.947\n"
     ]
    },
    {
     "name": "stderr",
     "output_type": "stream",
     "text": [
      "Epoch 19: 100%|██████████| 8/8 [00:00<00:00, 12.62batch/s]\n"
     ]
    },
    {
     "name": "stdout",
     "output_type": "stream",
     "text": [
      "[Epoch 19]\t training loss = -2.997\t validation loss = -2.946\n"
     ]
    },
    {
     "name": "stderr",
     "output_type": "stream",
     "text": [
      "Epoch 20: 100%|██████████| 8/8 [00:00<00:00, 14.41batch/s]\n"
     ]
    },
    {
     "name": "stdout",
     "output_type": "stream",
     "text": [
      "[Epoch 20]\t training loss = -2.998\t validation loss = -2.945\n"
     ]
    },
    {
     "name": "stderr",
     "output_type": "stream",
     "text": [
      "Epoch 21: 100%|██████████| 8/8 [00:00<00:00, 14.66batch/s]\n"
     ]
    },
    {
     "name": "stdout",
     "output_type": "stream",
     "text": [
      "[Epoch 21]\t training loss = -2.998\t validation loss = -2.947\n"
     ]
    },
    {
     "name": "stderr",
     "output_type": "stream",
     "text": [
      "Epoch 22: 100%|██████████| 8/8 [00:00<00:00, 14.61batch/s]\n"
     ]
    },
    {
     "name": "stdout",
     "output_type": "stream",
     "text": [
      "[Epoch 22]\t training loss = -2.998\t validation loss = -2.948\n"
     ]
    },
    {
     "name": "stderr",
     "output_type": "stream",
     "text": [
      "Epoch 23: 100%|██████████| 8/8 [00:00<00:00, 14.89batch/s]\n"
     ]
    },
    {
     "name": "stdout",
     "output_type": "stream",
     "text": [
      "[Epoch 23]\t training loss = -2.998\t validation loss = -2.949\n"
     ]
    },
    {
     "name": "stderr",
     "output_type": "stream",
     "text": [
      "Epoch 24: 100%|██████████| 8/8 [00:00<00:00, 14.40batch/s]\n"
     ]
    },
    {
     "name": "stdout",
     "output_type": "stream",
     "text": [
      "[Epoch 24]\t training loss = -2.998\t validation loss = -2.947\n"
     ]
    },
    {
     "name": "stderr",
     "output_type": "stream",
     "text": [
      "Epoch 25: 100%|██████████| 8/8 [00:00<00:00, 14.86batch/s]\n"
     ]
    },
    {
     "name": "stdout",
     "output_type": "stream",
     "text": [
      "[Epoch 25]\t training loss = -2.998\t validation loss = -2.947\n"
     ]
    },
    {
     "name": "stderr",
     "output_type": "stream",
     "text": [
      "Epoch 26: 100%|██████████| 8/8 [00:00<00:00, 12.67batch/s]\n"
     ]
    },
    {
     "name": "stdout",
     "output_type": "stream",
     "text": [
      "[Epoch 26]\t training loss = -2.998\t validation loss = -2.948\n"
     ]
    },
    {
     "name": "stderr",
     "output_type": "stream",
     "text": [
      "Epoch 27: 100%|██████████| 8/8 [00:00<00:00, 14.77batch/s]\n"
     ]
    },
    {
     "name": "stdout",
     "output_type": "stream",
     "text": [
      "[Epoch 27]\t training loss = -2.998\t validation loss = -2.949\n"
     ]
    },
    {
     "name": "stderr",
     "output_type": "stream",
     "text": [
      "Epoch 28: 100%|██████████| 8/8 [00:00<00:00, 14.66batch/s]\n"
     ]
    },
    {
     "name": "stdout",
     "output_type": "stream",
     "text": [
      "[Epoch 28]\t training loss = -2.998\t validation loss = -2.950\n"
     ]
    },
    {
     "name": "stderr",
     "output_type": "stream",
     "text": [
      "Epoch 29: 100%|██████████| 8/8 [00:00<00:00, 14.41batch/s]\n"
     ]
    },
    {
     "name": "stdout",
     "output_type": "stream",
     "text": [
      "[Epoch 29]\t training loss = -2.998\t validation loss = -2.950\n"
     ]
    },
    {
     "name": "stderr",
     "output_type": "stream",
     "text": [
      "Epoch 30: 100%|██████████| 8/8 [00:00<00:00, 14.46batch/s]\n"
     ]
    },
    {
     "name": "stdout",
     "output_type": "stream",
     "text": [
      "[Epoch 30]\t training loss = -2.998\t validation loss = -2.950\n"
     ]
    },
    {
     "name": "stderr",
     "output_type": "stream",
     "text": [
      "Epoch 31: 100%|██████████| 8/8 [00:00<00:00, 14.60batch/s]\n"
     ]
    },
    {
     "name": "stdout",
     "output_type": "stream",
     "text": [
      "[Epoch 31]\t training loss = -2.999\t validation loss = -2.951\n"
     ]
    },
    {
     "name": "stderr",
     "output_type": "stream",
     "text": [
      "Epoch 32: 100%|██████████| 8/8 [00:00<00:00, 14.14batch/s]\n"
     ]
    },
    {
     "name": "stdout",
     "output_type": "stream",
     "text": [
      "[Epoch 32]\t training loss = -2.999\t validation loss = -2.952\n"
     ]
    },
    {
     "name": "stderr",
     "output_type": "stream",
     "text": [
      "Epoch 33: 100%|██████████| 8/8 [00:00<00:00, 14.53batch/s]\n"
     ]
    },
    {
     "name": "stdout",
     "output_type": "stream",
     "text": [
      "[Epoch 33]\t training loss = -2.999\t validation loss = -2.951\n"
     ]
    },
    {
     "name": "stderr",
     "output_type": "stream",
     "text": [
      "Epoch 34: 100%|██████████| 8/8 [00:00<00:00, 13.24batch/s]\n"
     ]
    },
    {
     "name": "stdout",
     "output_type": "stream",
     "text": [
      "[Epoch 34]\t training loss = -2.999\t validation loss = -2.952\n"
     ]
    },
    {
     "name": "stderr",
     "output_type": "stream",
     "text": [
      "Epoch 35: 100%|██████████| 8/8 [00:00<00:00, 13.09batch/s]\n"
     ]
    },
    {
     "name": "stdout",
     "output_type": "stream",
     "text": [
      "[Epoch 35]\t training loss = -2.999\t validation loss = -2.952\n"
     ]
    },
    {
     "name": "stderr",
     "output_type": "stream",
     "text": [
      "Epoch 36: 100%|██████████| 8/8 [00:00<00:00, 12.87batch/s]\n"
     ]
    },
    {
     "name": "stdout",
     "output_type": "stream",
     "text": [
      "[Epoch 36]\t training loss = -2.999\t validation loss = -2.953\n"
     ]
    },
    {
     "name": "stderr",
     "output_type": "stream",
     "text": [
      "Epoch 37: 100%|██████████| 8/8 [00:00<00:00, 12.97batch/s]\n"
     ]
    },
    {
     "name": "stdout",
     "output_type": "stream",
     "text": [
      "[Epoch 37]\t training loss = -2.999\t validation loss = -2.953\n"
     ]
    },
    {
     "name": "stderr",
     "output_type": "stream",
     "text": [
      "Epoch 38: 100%|██████████| 8/8 [00:00<00:00, 13.64batch/s]\n"
     ]
    },
    {
     "name": "stdout",
     "output_type": "stream",
     "text": [
      "[Epoch 38]\t training loss = -2.999\t validation loss = -2.952\n"
     ]
    },
    {
     "name": "stderr",
     "output_type": "stream",
     "text": [
      "Epoch 39: 100%|██████████| 8/8 [00:00<00:00, 13.14batch/s]\n"
     ]
    },
    {
     "name": "stdout",
     "output_type": "stream",
     "text": [
      "[Epoch 39]\t training loss = -2.999\t validation loss = -2.952\n"
     ]
    },
    {
     "name": "stderr",
     "output_type": "stream",
     "text": [
      "Epoch 40: 100%|██████████| 8/8 [00:00<00:00, 12.80batch/s]\n"
     ]
    },
    {
     "name": "stdout",
     "output_type": "stream",
     "text": [
      "[Epoch 40]\t training loss = -2.999\t validation loss = -2.953\n"
     ]
    },
    {
     "name": "stderr",
     "output_type": "stream",
     "text": [
      "Epoch 41: 100%|██████████| 8/8 [00:00<00:00, 11.29batch/s]\n"
     ]
    },
    {
     "name": "stdout",
     "output_type": "stream",
     "text": [
      "[Epoch 41]\t training loss = -2.999\t validation loss = -2.953\n"
     ]
    },
    {
     "name": "stderr",
     "output_type": "stream",
     "text": [
      "Epoch 42: 100%|██████████| 8/8 [00:00<00:00, 12.95batch/s]\n"
     ]
    },
    {
     "name": "stdout",
     "output_type": "stream",
     "text": [
      "[Epoch 42]\t training loss = -2.999\t validation loss = -2.954\n"
     ]
    },
    {
     "name": "stderr",
     "output_type": "stream",
     "text": [
      "Epoch 43: 100%|██████████| 8/8 [00:00<00:00, 13.49batch/s]\n"
     ]
    },
    {
     "name": "stdout",
     "output_type": "stream",
     "text": [
      "[Epoch 43]\t training loss = -2.999\t validation loss = -2.954\n"
     ]
    },
    {
     "name": "stderr",
     "output_type": "stream",
     "text": [
      "Epoch 44: 100%|██████████| 8/8 [00:00<00:00, 12.92batch/s]\n"
     ]
    },
    {
     "name": "stdout",
     "output_type": "stream",
     "text": [
      "[Epoch 44]\t training loss = -2.999\t validation loss = -2.954\n"
     ]
    },
    {
     "name": "stderr",
     "output_type": "stream",
     "text": [
      "Epoch 45: 100%|██████████| 8/8 [00:00<00:00, 13.19batch/s]\n"
     ]
    },
    {
     "name": "stdout",
     "output_type": "stream",
     "text": [
      "[Epoch 45]\t training loss = -2.999\t validation loss = -2.955\n"
     ]
    },
    {
     "name": "stderr",
     "output_type": "stream",
     "text": [
      "Epoch 46: 100%|██████████| 8/8 [00:00<00:00, 13.83batch/s]\n"
     ]
    },
    {
     "name": "stdout",
     "output_type": "stream",
     "text": [
      "[Epoch 46]\t training loss = -2.999\t validation loss = -2.955\n"
     ]
    },
    {
     "name": "stderr",
     "output_type": "stream",
     "text": [
      "Epoch 47: 100%|██████████| 8/8 [00:00<00:00, 13.06batch/s]\n"
     ]
    },
    {
     "name": "stdout",
     "output_type": "stream",
     "text": [
      "[Epoch 47]\t training loss = -2.999\t validation loss = -2.956\n"
     ]
    },
    {
     "name": "stderr",
     "output_type": "stream",
     "text": [
      "Epoch 48: 100%|██████████| 8/8 [00:00<00:00, 11.45batch/s]\n"
     ]
    },
    {
     "name": "stdout",
     "output_type": "stream",
     "text": [
      "[Epoch 48]\t training loss = -2.999\t validation loss = -2.955\n"
     ]
    },
    {
     "name": "stderr",
     "output_type": "stream",
     "text": [
      "Epoch 49: 100%|██████████| 8/8 [00:00<00:00, 13.62batch/s]\n"
     ]
    },
    {
     "name": "stdout",
     "output_type": "stream",
     "text": [
      "[Epoch 49]\t training loss = -2.999\t validation loss = -2.956\n"
     ]
    }
   ],
   "source": [
    "lag = 1\n",
    "model.fit(traj_x, lag)\n",
    "model.save_model(f'snrv_{lag}.pt')"
   ]
  },
  {
   "cell_type": "code",
   "execution_count": 10,
   "id": "2ef65396",
   "metadata": {},
   "outputs": [
    {
     "data": {
      "image/png": "[encoded data removed]",
      "text/plain": [
       "<Figure size 640x480 with 1 Axes>"
      ]
     },
     "metadata": {},
     "output_type": "display_data"
    }
   ],
   "source": [
    "fig, ax = plt.subplots()\n",
    "ax.plot(np.arange(len(model.training_losses)), model.training_losses)\n",
    "ax.plot(np.arange(len(model.validation_losses)), model.validation_losses)\n",
    "ax.set_xlabel('epoch')\n",
    "ax.set_ylabel('loss')\n",
    "ax.legend(['training','validation'])\n",
    "fig.tight_layout()"
   ]
  },
  {
   "cell_type": "code",
   "execution_count": 11,
   "id": "5cedd0de",
   "metadata": {},
   "outputs": [],
   "source": [
    "evecs_SRV_unbiased = model.transform(traj_x.float()).cpu().detach().numpy()"
   ]
  },
  {
   "cell_type": "code",
   "execution_count": 12,
   "id": "cf09332f",
   "metadata": {},
   "outputs": [
    {
     "data": {
      "application/vnd.plotly.v1+json": {
       "config": {
        "plotlyServerURL": "https://plot.ly"
       },
       "data": [
        {
         "hovertemplate": "TIC1=%{x}<br>TIC2=%{y}<extra></extra>",
         "legendgroup": "",
         "marker": {
          "color": "#636efa",
          "symbol": "circle"
         },
         "mode": "markers",
         "name": "",
         "showlegend": false,
         "type": "scattergl",
         "x": {
          "bdata": "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",
          "dtype": "f4"
         },
         "xaxis": "x",
         "y": {
          "bdata": "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",
          "dtype": "f4"
         },
         "yaxis": "y"
        }
       ],
       "layout": {
        "height": 600,
        "legend": {
         "tracegroupgap": 0
        },
        "margin": {
         "t": 60
        },
        "template": {
         "data": {
          "bar": [
           {
            "error_x": {
             "color": "#2a3f5f"
            },
            "error_y": {
             "color": "#2a3f5f"
            },
            "marker": {
             "line": {
              "color": "#E5ECF6",
              "width": 0.5
             },
             "pattern": {
              "fillmode": "overlay",
              "size": 10,
              "solidity": 0.2
             }
            },
            "type": "bar"
           }
          ],
          "barpolar": [
           {
            "marker": {
             "line": {
              "color": "#E5ECF6",
              "width": 0.5
             },
             "pattern": {
              "fillmode": "overlay",
              "size": 10,
              "solidity": 0.2
             }
            },
            "type": "barpolar"
           }
          ],
          "carpet": [
           {
            "aaxis": {
             "endlinecolor": "#2a3f5f",
             "gridcolor": "white",
             "linecolor": "white",
             "minorgridcolor": "white",
             "startlinecolor": "#2a3f5f"
            },
            "baxis": {
             "endlinecolor": "#2a3f5f",
             "gridcolor": "white",
             "linecolor": "white",
             "minorgridcolor": "white",
             "startlinecolor": "#2a3f5f"
            },
            "type": "carpet"
           }
          ],
          "choropleth": [
           {
            "colorbar": {
             "outlinewidth": 0,
             "ticks": ""
            },
            "type": "choropleth"
           }
          ],
          "contour": [
           {
            "colorbar": {
             "outlinewidth": 0,
             "ticks": ""
            },
            "colorscale": [
             [
              0,
              "#0d0887"
             ],
             [
              0.1111111111111111,
              "#46039f"
             ],
             [
              0.2222222222222222,
              "#7201a8"
             ],
             [
              0.3333333333333333,
              "#9c179e"
             ],
             [
              0.4444444444444444,
              "#bd3786"
             ],
             [
              0.5555555555555556,
              "#d8576b"
             ],
             [
              0.6666666666666666,
              "#ed7953"
             ],
             [
              0.7777777777777778,
              "#fb9f3a"
             ],
             [
              0.8888888888888888,
              "#fdca26"
             ],
             [
              1,
              "#f0f921"
             ]
            ],
            "type": "contour"
           }
          ],
          "contourcarpet": [
           {
            "colorbar": {
             "outlinewidth": 0,
             "ticks": ""
            },
            "type": "contourcarpet"
           }
          ],
          "heatmap": [
           {
            "colorbar": {
             "outlinewidth": 0,
             "ticks": ""
            },
            "colorscale": [
             [
              0,
              "#0d0887"
             ],
             [
              0.1111111111111111,
              "#46039f"
             ],
             [
              0.2222222222222222,
              "#7201a8"
             ],
             [
              0.3333333333333333,
              "#9c179e"
             ],
             [
              0.4444444444444444,
              "#bd3786"
             ],
             [
              0.5555555555555556,
              "#d8576b"
             ],
             [
              0.6666666666666666,
              "#ed7953"
             ],
             [
              0.7777777777777778,
              "#fb9f3a"
             ],
             [
              0.8888888888888888,
              "#fdca26"
             ],
             [
              1,
              "#f0f921"
             ]
            ],
            "type": "heatmap"
           }
          ],
          "histogram": [
           {
            "marker": {
             "pattern": {
              "fillmode": "overlay",
              "size": 10,
              "solidity": 0.2
             }
            },
            "type": "histogram"
           }
          ],
          "histogram2d": [
           {
            "colorbar": {
             "outlinewidth": 0,
             "ticks": ""
            },
            "colorscale": [
             [
              0,
              "#0d0887"
             ],
             [
              0.1111111111111111,
              "#46039f"
             ],
             [
              0.2222222222222222,
              "#7201a8"
             ],
             [
              0.3333333333333333,
              "#9c179e"
             ],
             [
              0.4444444444444444,
              "#bd3786"
             ],
             [
              0.5555555555555556,
              "#d8576b"
             ],
             [
              0.6666666666666666,
              "#ed7953"
             ],
             [
              0.7777777777777778,
              "#fb9f3a"
             ],
             [
              0.8888888888888888,
              "#fdca26"
             ],
             [
              1,
              "#f0f921"
             ]
            ],
            "type": "histogram2d"
           }
          ],
          "histogram2dcontour": [
           {
            "colorbar": {
             "outlinewidth": 0,
             "ticks": ""
            },
            "colorscale": [
             [
              0,
              "#0d0887"
             ],
             [
              0.1111111111111111,
              "#46039f"
             ],
             [
              0.2222222222222222,
              "#7201a8"
             ],
             [
              0.3333333333333333,
              "#9c179e"
             ],
             [
              0.4444444444444444,
              "#bd3786"
             ],
             [
              0.5555555555555556,
              "#d8576b"
             ],
             [
              0.6666666666666666,
              "#ed7953"
             ],
             [
              0.7777777777777778,
              "#fb9f3a"
             ],
             [
              0.8888888888888888,
              "#fdca26"
             ],
             [
              1,
              "#f0f921"
             ]
            ],
            "type": "histogram2dcontour"
           }
          ],
          "mesh3d": [
           {
            "colorbar": {
             "outlinewidth": 0,
             "ticks": ""
            },
            "type": "mesh3d"
           }
          ],
          "parcoords": [
           {
            "line": {
             "colorbar": {
              "outlinewidth": 0,
              "ticks": ""
             }
            },
            "type": "parcoords"
           }
          ],
          "pie": [
           {
            "automargin": true,
            "type": "pie"
           }
          ],
          "scatter": [
           {
            "fillpattern": {
             "fillmode": "overlay",
             "size": 10,
             "solidity": 0.2
            },
            "type": "scatter"
           }
          ],
          "scatter3d": [
           {
            "line": {
             "colorbar": {
              "outlinewidth": 0,
              "ticks": ""
             }
            },
            "marker": {
             "colorbar": {
              "outlinewidth": 0,
              "ticks": ""
             }
            },
            "type": "scatter3d"
           }
          ],
          "scattercarpet": [
           {
            "marker": {
             "colorbar": {
              "outlinewidth": 0,
              "ticks": ""
             }
            },
            "type": "scattercarpet"
           }
          ],
          "scattergeo": [
           {
            "marker": {
             "colorbar": {
              "outlinewidth": 0,
              "ticks": ""
             }
            },
            "type": "scattergeo"
           }
          ],
          "scattergl": [
           {
            "marker": {
             "colorbar": {
              "outlinewidth": 0,
              "ticks": ""
             }
            },
            "type": "scattergl"
           }
          ],
          "scattermap": [
           {
            "marker": {
             "colorbar": {
              "outlinewidth": 0,
              "ticks": ""
             }
            },
            "type": "scattermap"
           }
          ],
          "scattermapbox": [
           {
            "marker": {
             "colorbar": {
              "outlinewidth": 0,
              "ticks": ""
             }
            },
            "type": "scattermapbox"
           }
          ],
          "scatterpolar": [
           {
            "marker": {
             "colorbar": {
              "outlinewidth": 0,
              "ticks": ""
             }
            },
            "type": "scatterpolar"
           }
          ],
          "scatterpolargl": [
           {
            "marker": {
             "colorbar": {
              "outlinewidth": 0,
              "ticks": ""
             }
            },
            "type": "scatterpolargl"
           }
          ],
          "scatterternary": [
           {
            "marker": {
             "colorbar": {
              "outlinewidth": 0,
              "ticks": ""
             }
            },
            "type": "scatterternary"
           }
          ],
          "surface": [
           {
            "colorbar": {
             "outlinewidth": 0,
             "ticks": ""
            },
            "colorscale": [
             [
              0,
              "#0d0887"
             ],
             [
              0.1111111111111111,
              "#46039f"
             ],
             [
              0.2222222222222222,
              "#7201a8"
             ],
             [
              0.3333333333333333,
              "#9c179e"
             ],
             [
              0.4444444444444444,
              "#bd3786"
             ],
             [
              0.5555555555555556,
              "#d8576b"
             ],
             [
              0.6666666666666666,
              "#ed7953"
             ],
             [
              0.7777777777777778,
              "#fb9f3a"
             ],
             [
              0.8888888888888888,
              "#fdca26"
             ],
             [
              1,
              "#f0f921"
             ]
            ],
            "type": "surface"
           }
          ],
          "table": [
           {
            "cells": {
             "fill": {
              "color": "#EBF0F8"
             },
             "line": {
              "color": "white"
             }
            },
            "header": {
             "fill": {
              "color": "#C8D4E3"
             },
             "line": {
              "color": "white"
             }
            },
            "type": "table"
           }
          ]
         },
         "layout": {
          "annotationdefaults": {
           "arrowcolor": "#2a3f5f",
           "arrowhead": 0,
           "arrowwidth": 1
          },
          "autotypenumbers": "strict",
          "coloraxis": {
           "colorbar": {
            "outlinewidth": 0,
            "ticks": ""
           }
          },
          "colorscale": {
           "diverging": [
            [
             0,
             "#8e0152"
            ],
            [
             0.1,
             "#c51b7d"
            ],
            [
             0.2,
             "#de77ae"
            ],
            [
             0.3,
             "#f1b6da"
            ],
            [
             0.4,
             "#fde0ef"
            ],
            [
             0.5,
             "#f7f7f7"
            ],
            [
             0.6,
             "#e6f5d0"
            ],
            [
             0.7,
             "#b8e186"
            ],
            [
             0.8,
             "#7fbc41"
            ],
            [
             0.9,
             "#4d9221"
            ],
            [
             1,
             "#276419"
            ]
           ],
           "sequential": [
            [
             0,
             "#0d0887"
            ],
            [
             0.1111111111111111,
             "#46039f"
            ],
            [
             0.2222222222222222,
             "#7201a8"
            ],
            [
             0.3333333333333333,
             "#9c179e"
            ],
            [
             0.4444444444444444,
             "#bd3786"
            ],
            [
             0.5555555555555556,
             "#d8576b"
            ],
            [
             0.6666666666666666,
             "#ed7953"
            ],
            [
             0.7777777777777778,
             "#fb9f3a"
            ],
            [
             0.8888888888888888,
             "#fdca26"
            ],
            [
             1,
             "#f0f921"
            ]
           ],
           "sequentialminus": [
            [
             0,
             "#0d0887"
            ],
            [
             0.1111111111111111,
             "#46039f"
            ],
            [
             0.2222222222222222,
             "#7201a8"
            ],
            [
             0.3333333333333333,
             "#9c179e"
            ],
            [
             0.4444444444444444,
             "#bd3786"
            ],
            [
             0.5555555555555556,
             "#d8576b"
            ],
            [
             0.6666666666666666,
             "#ed7953"
            ],
            [
             0.7777777777777778,
             "#fb9f3a"
            ],
            [
             0.8888888888888888,
             "#fdca26"
            ],
            [
             1,
             "#f0f921"
            ]
           ]
          },
          "colorway": [
           "#636efa",
           "#EF553B",
           "#00cc96",
           "#ab63fa",
           "#FFA15A",
           "#19d3f3",
           "#FF6692",
           "#B6E880",
           "#FF97FF",
           "#FECB52"
          ],
          "font": {
           "color": "#2a3f5f"
          },
          "geo": {
           "bgcolor": "white",
           "lakecolor": "white",
           "landcolor": "#E5ECF6",
           "showlakes": true,
           "showland": true,
           "subunitcolor": "white"
          },
          "hoverlabel": {
           "align": "left"
          },
          "hovermode": "closest",
          "mapbox": {
           "style": "light"
          },
          "paper_bgcolor": "white",
          "plot_bgcolor": "#E5ECF6",
          "polar": {
           "angularaxis": {
            "gridcolor": "white",
            "linecolor": "white",
            "ticks": ""
           },
           "bgcolor": "#E5ECF6",
           "radialaxis": {
            "gridcolor": "white",
            "linecolor": "white",
            "ticks": ""
           }
          },
          "scene": {
           "xaxis": {
            "backgroundcolor": "#E5ECF6",
            "gridcolor": "white",
            "gridwidth": 2,
            "linecolor": "white",
            "showbackground": true,
            "ticks": "",
            "zerolinecolor": "white"
           },
           "yaxis": {
            "backgroundcolor": "#E5ECF6",
            "gridcolor": "white",
            "gridwidth": 2,
            "linecolor": "white",
            "showbackground": true,
            "ticks": "",
            "zerolinecolor": "white"
           },
           "zaxis": {
            "backgroundcolor": "#E5ECF6",
            "gridcolor": "white",
            "gridwidth": 2,
            "linecolor": "white",
            "showbackground": true,
            "ticks": "",
            "zerolinecolor": "white"
           }
          },
          "shapedefaults": {
           "line": {
            "color": "#2a3f5f"
           }
          },
          "ternary": {
           "aaxis": {
            "gridcolor": "white",
            "linecolor": "white",
            "ticks": ""
           },
           "baxis": {
            "gridcolor": "white",
            "linecolor": "white",
            "ticks": ""
           },
           "bgcolor": "#E5ECF6",
           "caxis": {
            "gridcolor": "white",
            "linecolor": "white",
            "ticks": ""
           }
          },
          "title": {
           "x": 0.05
          },
          "xaxis": {
           "automargin": true,
           "gridcolor": "white",
           "linecolor": "white",
           "ticks": "",
           "title": {
            "standoff": 15
           },
           "zerolinecolor": "white",
           "zerolinewidth": 2
          },
          "yaxis": {
           "automargin": true,
           "gridcolor": "white",
           "linecolor": "white",
           "ticks": "",
           "title": {
            "standoff": 15
           },
           "zerolinecolor": "white",
           "zerolinewidth": 2
          }
         }
        },
        "width": 600,
        "xaxis": {
         "anchor": "y",
         "domain": [
          0,
          1
         ],
         "title": {
          "text": "TIC1"
         }
        },
        "yaxis": {
         "anchor": "x",
         "domain": [
          0,
          1
         ],
         "title": {
          "text": "TIC2"
         }
        }
       }
      }
     },
     "metadata": {},
     "output_type": "display_data"
    }
   ],
   "source": [
    "dataset = pd.DataFrame(evecs_SRV_unbiased, columns=[\"TIC0\", \"TIC1\", \"TIC2\"])\n",
    "px.scatter(dataset, x=\"TIC1\", y=\"TIC2\", width=600, height=600)"
   ]
  },
  {
   "cell_type": "code",
   "execution_count": 13,
   "id": "ecae7b20",
   "metadata": {},
   "outputs": [
    {
     "name": "stdout",
     "output_type": "stream",
     "text": [
      "TIC0     2.788397\n",
      "TIC1    11.721638\n",
      "TIC2    10.251656\n",
      "dtype: float32\n",
      "TIC0     0.895375\n",
      "TIC1    -1.910913\n",
      "TIC2   -11.985732\n",
      "dtype: float32\n"
     ]
    }
   ],
   "source": [
    "print(dataset.max())\n",
    "print(dataset.min())"
   ]
  },
  {
   "cell_type": "code",
   "execution_count": null,
   "id": "b32bd47e",
   "metadata": {},
   "outputs": [
    {
     "ename": "",
     "evalue": "",
     "output_type": "error",
     "traceback": [
      "\u001b[1;31mThe Kernel crashed while executing code in the current cell or a previous cell. \n",
      "\u001b[1;31mPlease review the code in the cell(s) to identify a possible cause of the failure. \n",
      "\u001b[1;31mClick <a href='https://aka.ms/vscodeJupyterKernelCrash'>here</a> for more info. \n",
      "\u001b[1;31mView Jupyter <a href='command:jupyter.viewOutput'>log</a> for further details."
     ]
    }
   ],
   "source": [
    "class CV(torch.nn.Module):\n",
    "    def __init__(self, model, idx):\n",
    "        super().__init__()\n",
    "        self.model = model\n",
    "        self.idx = idx\n",
    "        self.register_buffer(\"i_list\", i_list)\n",
    "        self.register_buffer(\"j_list\", j_list)\n",
    "\n",
    "    def forward(self, positions, boxvectors):\n",
    "        \"\"\"The forward method returns the energy computed from positions.\n",
    "\n",
    "        Parameters\n",
    "        ----------\n",
    "        positions : torch.Tensor with shape (nparticles, 3)\n",
    "           positions[i,k] is the position (in nanometers) of spatial dimension k of particle i\n",
    "\n",
    "        Returns\n",
    "        -------\n",
    "        potential : torch.Scalar\n",
    "           The potential energy (in kJ/mol)\n",
    "        \"\"\"\n",
    "        boxsize = boxvectors.diag()\n",
    "        d = positions[self.i_list, :] - positions[self.j_list, :]  # shape: [M, 3]\n",
    "        d = d - boxsize * torch.round(d / boxsize)  # apply MIC\n",
    "        feats = torch.norm(d, dim=-1)  # shape: [T, M]\n",
    "        evecs = self.model.transform(feats.view(1, -1))\n",
    "        CV = evecs[0][self.idx]\n",
    "        return CV\n",
    "\n",
    "model_output_1 = CV(model, 1)\n",
    "model_output_2 = CV(model, 2)\n",
    "\n",
    "torch.jit.script(model_output_1).save('cv1.pt')\n",
    "torch.jit.script(model_output_2).save('cv2.pt')"
   ]
  },
  {
   "cell_type": "code",
   "execution_count": null,
   "id": "3e11ed13",
   "metadata": {},
   "outputs": [],
   "source": []
  }
 ],
 "metadata": {
  "kernelspec": {
   "display_name": "psrv",
   "language": "python",
   "name": "python3"
  },
  "language_info": {
   "codemirror_mode": {
    "name": "ipython",
    "version": 3
   },
   "file_extension": ".py",
   "mimetype": "text/x-python",
   "name": "python",
   "nbconvert_exporter": "python",
   "pygments_lexer": "ipython3",
   "version": "3.9.18"
  }
 },
 "nbformat": 4,
 "nbformat_minor": 5
}
