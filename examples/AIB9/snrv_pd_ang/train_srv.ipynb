{
 "cells": [
  {
   "cell_type": "code",
   "execution_count": 30,
   "id": "de3ba76f",
   "metadata": {},
   "outputs": [],
   "source": [
    "import numpy as np\n",
    "import matplotlib.pyplot as plt\n",
    "import plotly.express as px\n",
    "import pandas as pd\n",
    "import mdtraj as md\n",
    "\n",
    "import torch\n",
    "\n",
    "from snrv import Snrv"
   ]
  },
  {
   "cell_type": "code",
   "execution_count": 31,
   "id": "9f998416",
   "metadata": {},
   "outputs": [],
   "source": [
    "traj = md.load(\"../traj_2000_2500.dcd\", top=\"../aib9.gro\")\n",
    "biasing_atom_ids = np.array([atom.index for atom in traj.topology.atoms if atom.residue.name != 'HOH'])\n",
    "feat_indices = np.array([atom.index for atom in traj.topology.atoms if (atom.name == 'CA' or atom.name == 'CAY' or atom.name == 'CAT')])\n",
    "pos = torch.from_numpy(traj.xyz)\n",
    "box = torch.from_numpy(np.asarray([np.diag(i) for i in traj.unitcell_vectors])).view(-1, 1, 3)"
   ]
  },
  {
   "cell_type": "code",
   "execution_count": 32,
   "id": "bc62ade1",
   "metadata": {},
   "outputs": [],
   "source": [
    "def generate_pair_indices_from_list(index_list):\n",
    "    i_list = []\n",
    "    j_list = []\n",
    "    for i in range(len(index_list)):\n",
    "        for j in range(i + 1, len(index_list)):\n",
    "            i_list.append(index_list[i])\n",
    "            j_list.append(index_list[j])\n",
    "    return torch.tensor(i_list), torch.tensor(j_list)"
   ]
  },
  {
   "cell_type": "code",
   "execution_count": 33,
   "id": "67de9e1d",
   "metadata": {},
   "outputs": [],
   "source": [
    "i_list_d, j_list_d = generate_pair_indices_from_list(feat_indices)"
   ]
  },
  {
   "cell_type": "code",
   "execution_count": 34,
   "id": "e61c3ded",
   "metadata": {},
   "outputs": [],
   "source": [
    "def compute_mic_dist(pos, box, i, j):\n",
    "    d = pos[:, i, :] - pos[:, j, :]  # shape: [T, M, 3]\n",
    "    d = d - box * torch.round(d / box)  # apply MIC\n",
    "    return torch.norm(d, dim=-1)  # shape: [T, M]"
   ]
  },
  {
   "cell_type": "code",
   "execution_count": 35,
   "id": "2bea652c",
   "metadata": {},
   "outputs": [],
   "source": [
    "traj_x_d = compute_mic_dist(pos, box, i_list_d, j_list_d)"
   ]
  },
  {
   "cell_type": "code",
   "execution_count": 36,
   "id": "c3e22118",
   "metadata": {},
   "outputs": [],
   "source": [
    "def generate_angle_indices_from_list(index_list):\n",
    "    i_list = []\n",
    "    j_list = []\n",
    "    k_list = []\n",
    "    for j in range(len(index_list)):\n",
    "        for i in range(len(index_list)):\n",
    "            if i == j:\n",
    "                continue\n",
    "            for k in range(i + 1, len(index_list)):\n",
    "                if k == j:\n",
    "                    continue\n",
    "                i_list.append(index_list[i])\n",
    "                j_list.append(index_list[j])\n",
    "                k_list.append(index_list[k])\n",
    "    return torch.tensor(i_list), torch.tensor(j_list), torch.tensor(k_list)"
   ]
  },
  {
   "cell_type": "code",
   "execution_count": 37,
   "id": "e80a4ba2",
   "metadata": {},
   "outputs": [],
   "source": [
    "i_list_a, j_list_a, k_list_a = generate_angle_indices_from_list(feat_indices)"
   ]
  },
  {
   "cell_type": "code",
   "execution_count": 38,
   "id": "5e044e6f",
   "metadata": {},
   "outputs": [],
   "source": [
    "def compute_mic_angles(pos, box, i, j, k):\n",
    "    # pos: [T, N, 3]\n",
    "    # box: [T, 1, 3]\n",
    "    # i, j, k: [M]\n",
    "    \n",
    "    # MIC vector: ri - rj\n",
    "    v1 = pos[:, i, :] - pos[:, j, :]  # [T, M, 3]\n",
    "    v1 = v1 - box * torch.round(v1 / box)\n",
    "\n",
    "    # MIC vector: rk - rj\n",
    "    v2 = pos[:, k, :] - pos[:, j, :]\n",
    "    v2 = v2 - box * torch.round(v2 / box)\n",
    "\n",
    "    # Normalize\n",
    "    v1_norm = torch.nn.functional.normalize(v1, dim=-1)\n",
    "    v2_norm = torch.nn.functional.normalize(v2, dim=-1)\n",
    "\n",
    "    # Dot product and angle\n",
    "    cos_theta = (v1_norm * v2_norm).sum(dim=-1).clamp(-1.0, 1.0)\n",
    "    angles = torch.acos(cos_theta)  # [T, M], in radians\n",
    "\n",
    "    return angles"
   ]
  },
  {
   "cell_type": "code",
   "execution_count": 39,
   "id": "b7da01fd",
   "metadata": {},
   "outputs": [],
   "source": [
    "traj_x_a = compute_mic_angles(pos, box, i_list_a, j_list_a, k_list_a)"
   ]
  },
  {
   "cell_type": "code",
   "execution_count": 40,
   "id": "7d71ba65",
   "metadata": {},
   "outputs": [
    {
     "data": {
      "text/plain": [
       "torch.Size([10000, 55])"
      ]
     },
     "execution_count": 40,
     "metadata": {},
     "output_type": "execute_result"
    }
   ],
   "source": [
    "traj_x_d.shape"
   ]
  },
  {
   "cell_type": "code",
   "execution_count": 41,
   "id": "4665e028",
   "metadata": {},
   "outputs": [
    {
     "data": {
      "text/plain": [
       "torch.Size([10000, 495])"
      ]
     },
     "execution_count": 41,
     "metadata": {},
     "output_type": "execute_result"
    }
   ],
   "source": [
    "traj_x_a.shape"
   ]
  },
  {
   "cell_type": "code",
   "execution_count": 11,
   "id": "50e04b25",
   "metadata": {},
   "outputs": [],
   "source": [
    "traj_x = torch.concat([traj_x_d, traj_x_a], dim=1)"
   ]
  },
  {
   "cell_type": "code",
   "execution_count": 12,
   "id": "2529c848",
   "metadata": {},
   "outputs": [
    {
     "data": {
      "text/plain": [
       "torch.Size([10000, 550])"
      ]
     },
     "execution_count": 12,
     "metadata": {},
     "output_type": "execute_result"
    }
   ],
   "source": [
    "traj_x.shape"
   ]
  },
  {
   "cell_type": "code",
   "execution_count": 13,
   "id": "845a5418",
   "metadata": {},
   "outputs": [],
   "source": [
    "input_size = traj_x.size()[1]\n",
    "output_size = 3\n",
    "hidden_depth = 3\n",
    "hidden_size = 1000\n",
    "batch_norm = True\n",
    "dropout_rate = 0.\n",
    "lr = 1E-5\n",
    "weight_decay = 0.\n",
    "val_frac = 0.20\n",
    "n_epochs = 50\n",
    "batch_size = 1000\n",
    "VAMPdegree = 2\n",
    "is_reversible = True\n",
    "num_workers = 0\n",
    "\n",
    "model = Snrv(input_size, output_size, hidden_depth=hidden_depth, hidden_size=hidden_size,\n",
    "            batch_norm=batch_norm, dropout_rate=dropout_rate, lr=lr, weight_decay=weight_decay, \n",
    "            val_frac=val_frac, n_epochs=n_epochs, batch_size=batch_size, \n",
    "            VAMPdegree=VAMPdegree, is_reversible=is_reversible, num_workers=num_workers, device=\"cuda\")\n",
    "model = model.to(\"cuda\")"
   ]
  },
  {
   "cell_type": "code",
   "execution_count": 14,
   "id": "6a3c8a69",
   "metadata": {},
   "outputs": [
    {
     "name": "stderr",
     "output_type": "stream",
     "text": [
      "Epoch 0: 100%|██████████| 8/8 [00:00<00:00, 23.38batch/s]\n"
     ]
    },
    {
     "name": "stdout",
     "output_type": "stream",
     "text": [
      "[Epoch 0]\t training loss = -2.154\t validation loss = -2.446\n"
     ]
    },
    {
     "name": "stderr",
     "output_type": "stream",
     "text": [
      "Epoch 1: 100%|██████████| 8/8 [00:00<00:00, 56.50batch/s]\n"
     ]
    },
    {
     "name": "stdout",
     "output_type": "stream",
     "text": [
      "[Epoch 1]\t training loss = -2.508\t validation loss = -2.586\n"
     ]
    },
    {
     "name": "stderr",
     "output_type": "stream",
     "text": [
      "Epoch 2: 100%|██████████| 8/8 [00:00<00:00, 57.37batch/s]\n"
     ]
    },
    {
     "name": "stdout",
     "output_type": "stream",
     "text": [
      "[Epoch 2]\t training loss = -2.628\t validation loss = -2.638\n"
     ]
    },
    {
     "name": "stderr",
     "output_type": "stream",
     "text": [
      "Epoch 3: 100%|██████████| 8/8 [00:00<00:00, 53.20batch/s]\n"
     ]
    },
    {
     "name": "stdout",
     "output_type": "stream",
     "text": [
      "[Epoch 3]\t training loss = -2.679\t validation loss = -2.666\n"
     ]
    },
    {
     "name": "stderr",
     "output_type": "stream",
     "text": [
      "Epoch 4: 100%|██████████| 8/8 [00:00<00:00, 55.29batch/s]\n"
     ]
    },
    {
     "name": "stdout",
     "output_type": "stream",
     "text": [
      "[Epoch 4]\t training loss = -2.707\t validation loss = -2.683\n"
     ]
    },
    {
     "name": "stderr",
     "output_type": "stream",
     "text": [
      "Epoch 5: 100%|██████████| 8/8 [00:00<00:00, 34.47batch/s]\n"
     ]
    },
    {
     "name": "stdout",
     "output_type": "stream",
     "text": [
      "[Epoch 5]\t training loss = -2.726\t validation loss = -2.696\n"
     ]
    },
    {
     "name": "stderr",
     "output_type": "stream",
     "text": [
      "Epoch 6: 100%|██████████| 8/8 [00:00<00:00, 56.08batch/s]\n"
     ]
    },
    {
     "name": "stdout",
     "output_type": "stream",
     "text": [
      "[Epoch 6]\t training loss = -2.739\t validation loss = -2.704\n"
     ]
    },
    {
     "name": "stderr",
     "output_type": "stream",
     "text": [
      "Epoch 7: 100%|██████████| 8/8 [00:00<00:00, 55.99batch/s]\n"
     ]
    },
    {
     "name": "stdout",
     "output_type": "stream",
     "text": [
      "[Epoch 7]\t training loss = -2.752\t validation loss = -2.711\n"
     ]
    },
    {
     "name": "stderr",
     "output_type": "stream",
     "text": [
      "Epoch 8: 100%|██████████| 8/8 [00:00<00:00, 55.06batch/s]\n"
     ]
    },
    {
     "name": "stdout",
     "output_type": "stream",
     "text": [
      "[Epoch 8]\t training loss = -2.763\t validation loss = -2.716\n"
     ]
    },
    {
     "name": "stderr",
     "output_type": "stream",
     "text": [
      "Epoch 9: 100%|██████████| 8/8 [00:00<00:00, 56.50batch/s]\n"
     ]
    },
    {
     "name": "stdout",
     "output_type": "stream",
     "text": [
      "[Epoch 9]\t training loss = -2.772\t validation loss = -2.720\n"
     ]
    },
    {
     "name": "stderr",
     "output_type": "stream",
     "text": [
      "Epoch 10: 100%|██████████| 8/8 [00:00<00:00, 56.10batch/s]\n"
     ]
    },
    {
     "name": "stdout",
     "output_type": "stream",
     "text": [
      "[Epoch 10]\t training loss = -2.780\t validation loss = -2.724\n"
     ]
    },
    {
     "name": "stderr",
     "output_type": "stream",
     "text": [
      "Epoch 11: 100%|██████████| 8/8 [00:00<00:00, 55.69batch/s]\n"
     ]
    },
    {
     "name": "stdout",
     "output_type": "stream",
     "text": [
      "[Epoch 11]\t training loss = -2.787\t validation loss = -2.727\n"
     ]
    },
    {
     "name": "stderr",
     "output_type": "stream",
     "text": [
      "Epoch 12: 100%|██████████| 8/8 [00:00<00:00, 34.49batch/s]\n"
     ]
    },
    {
     "name": "stdout",
     "output_type": "stream",
     "text": [
      "[Epoch 12]\t training loss = -2.794\t validation loss = -2.730\n"
     ]
    },
    {
     "name": "stderr",
     "output_type": "stream",
     "text": [
      "Epoch 13: 100%|██████████| 8/8 [00:00<00:00, 55.98batch/s]\n"
     ]
    },
    {
     "name": "stdout",
     "output_type": "stream",
     "text": [
      "[Epoch 13]\t training loss = -2.802\t validation loss = -2.732\n"
     ]
    },
    {
     "name": "stderr",
     "output_type": "stream",
     "text": [
      "Epoch 14: 100%|██████████| 8/8 [00:00<00:00, 56.25batch/s]\n"
     ]
    },
    {
     "name": "stdout",
     "output_type": "stream",
     "text": [
      "[Epoch 14]\t training loss = -2.806\t validation loss = -2.734\n"
     ]
    },
    {
     "name": "stderr",
     "output_type": "stream",
     "text": [
      "Epoch 15: 100%|██████████| 8/8 [00:00<00:00, 56.23batch/s]\n"
     ]
    },
    {
     "name": "stdout",
     "output_type": "stream",
     "text": [
      "[Epoch 15]\t training loss = -2.813\t validation loss = -2.736\n"
     ]
    },
    {
     "name": "stderr",
     "output_type": "stream",
     "text": [
      "Epoch 16: 100%|██████████| 8/8 [00:00<00:00, 55.13batch/s]\n"
     ]
    },
    {
     "name": "stdout",
     "output_type": "stream",
     "text": [
      "[Epoch 16]\t training loss = -2.819\t validation loss = -2.737\n"
     ]
    },
    {
     "name": "stderr",
     "output_type": "stream",
     "text": [
      "Epoch 17: 100%|██████████| 8/8 [00:00<00:00, 56.20batch/s]\n"
     ]
    },
    {
     "name": "stdout",
     "output_type": "stream",
     "text": [
      "[Epoch 17]\t training loss = -2.825\t validation loss = -2.738\n"
     ]
    },
    {
     "name": "stderr",
     "output_type": "stream",
     "text": [
      "Epoch 18: 100%|██████████| 8/8 [00:00<00:00, 56.68batch/s]\n"
     ]
    },
    {
     "name": "stdout",
     "output_type": "stream",
     "text": [
      "[Epoch 18]\t training loss = -2.830\t validation loss = -2.738\n"
     ]
    },
    {
     "name": "stderr",
     "output_type": "stream",
     "text": [
      "Epoch 19: 100%|██████████| 8/8 [00:00<00:00, 34.80batch/s]\n"
     ]
    },
    {
     "name": "stdout",
     "output_type": "stream",
     "text": [
      "[Epoch 19]\t training loss = -2.835\t validation loss = -2.739\n"
     ]
    },
    {
     "name": "stderr",
     "output_type": "stream",
     "text": [
      "Epoch 20: 100%|██████████| 8/8 [00:00<00:00, 54.29batch/s]\n"
     ]
    },
    {
     "name": "stdout",
     "output_type": "stream",
     "text": [
      "[Epoch 20]\t training loss = -2.840\t validation loss = -2.739\n"
     ]
    },
    {
     "name": "stderr",
     "output_type": "stream",
     "text": [
      "Epoch 21: 100%|██████████| 8/8 [00:00<00:00, 56.01batch/s]\n"
     ]
    },
    {
     "name": "stdout",
     "output_type": "stream",
     "text": [
      "[Epoch 21]\t training loss = -2.845\t validation loss = -2.739\n"
     ]
    },
    {
     "name": "stderr",
     "output_type": "stream",
     "text": [
      "Epoch 22: 100%|██████████| 8/8 [00:00<00:00, 55.36batch/s]\n"
     ]
    },
    {
     "name": "stdout",
     "output_type": "stream",
     "text": [
      "[Epoch 22]\t training loss = -2.850\t validation loss = -2.738\n"
     ]
    },
    {
     "name": "stderr",
     "output_type": "stream",
     "text": [
      "Epoch 23: 100%|██████████| 8/8 [00:00<00:00, 54.93batch/s]\n"
     ]
    },
    {
     "name": "stdout",
     "output_type": "stream",
     "text": [
      "[Epoch 23]\t training loss = -2.855\t validation loss = -2.738\n"
     ]
    },
    {
     "name": "stderr",
     "output_type": "stream",
     "text": [
      "Epoch 24: 100%|██████████| 8/8 [00:00<00:00, 55.25batch/s]\n"
     ]
    },
    {
     "name": "stdout",
     "output_type": "stream",
     "text": [
      "[Epoch 24]\t training loss = -2.859\t validation loss = -2.738\n"
     ]
    },
    {
     "name": "stderr",
     "output_type": "stream",
     "text": [
      "Epoch 25: 100%|██████████| 8/8 [00:00<00:00, 52.29batch/s]\n"
     ]
    },
    {
     "name": "stdout",
     "output_type": "stream",
     "text": [
      "[Epoch 25]\t training loss = -2.863\t validation loss = -2.738\n"
     ]
    },
    {
     "name": "stderr",
     "output_type": "stream",
     "text": [
      "Epoch 26: 100%|██████████| 8/8 [00:00<00:00, 55.64batch/s]\n"
     ]
    },
    {
     "name": "stdout",
     "output_type": "stream",
     "text": [
      "[Epoch 26]\t training loss = -2.867\t validation loss = -2.736\n"
     ]
    },
    {
     "name": "stderr",
     "output_type": "stream",
     "text": [
      "Epoch 27: 100%|██████████| 8/8 [00:00<00:00, 56.53batch/s]\n"
     ]
    },
    {
     "name": "stdout",
     "output_type": "stream",
     "text": [
      "[Epoch 27]\t training loss = -2.872\t validation loss = -2.736\n"
     ]
    },
    {
     "name": "stderr",
     "output_type": "stream",
     "text": [
      "Epoch 28: 100%|██████████| 8/8 [00:00<00:00, 56.72batch/s]\n"
     ]
    },
    {
     "name": "stdout",
     "output_type": "stream",
     "text": [
      "[Epoch 28]\t training loss = -2.875\t validation loss = -2.735\n"
     ]
    },
    {
     "name": "stderr",
     "output_type": "stream",
     "text": [
      "Epoch 29: 100%|██████████| 8/8 [00:00<00:00, 56.85batch/s]\n"
     ]
    },
    {
     "name": "stdout",
     "output_type": "stream",
     "text": [
      "[Epoch 29]\t training loss = -2.878\t validation loss = -2.734\n"
     ]
    },
    {
     "name": "stderr",
     "output_type": "stream",
     "text": [
      "Epoch 30: 100%|██████████| 8/8 [00:00<00:00, 57.68batch/s]\n"
     ]
    },
    {
     "name": "stdout",
     "output_type": "stream",
     "text": [
      "[Epoch 30]\t training loss = -2.882\t validation loss = -2.734\n"
     ]
    },
    {
     "name": "stderr",
     "output_type": "stream",
     "text": [
      "Epoch 31: 100%|██████████| 8/8 [00:00<00:00, 56.71batch/s]\n"
     ]
    },
    {
     "name": "stdout",
     "output_type": "stream",
     "text": [
      "[Epoch 31]\t training loss = -2.887\t validation loss = -2.733\n"
     ]
    },
    {
     "name": "stderr",
     "output_type": "stream",
     "text": [
      "Epoch 32: 100%|██████████| 8/8 [00:00<00:00, 55.50batch/s]\n"
     ]
    },
    {
     "name": "stdout",
     "output_type": "stream",
     "text": [
      "[Epoch 32]\t training loss = -2.888\t validation loss = -2.732\n"
     ]
    },
    {
     "name": "stderr",
     "output_type": "stream",
     "text": [
      "Epoch 33: 100%|██████████| 8/8 [00:00<00:00, 56.56batch/s]\n"
     ]
    },
    {
     "name": "stdout",
     "output_type": "stream",
     "text": [
      "[Epoch 33]\t training loss = -2.892\t validation loss = -2.732\n"
     ]
    },
    {
     "name": "stderr",
     "output_type": "stream",
     "text": [
      "Epoch 34: 100%|██████████| 8/8 [00:00<00:00, 35.13batch/s]\n"
     ]
    },
    {
     "name": "stdout",
     "output_type": "stream",
     "text": [
      "[Epoch 34]\t training loss = -2.895\t validation loss = -2.729\n"
     ]
    },
    {
     "name": "stderr",
     "output_type": "stream",
     "text": [
      "Epoch 35: 100%|██████████| 8/8 [00:00<00:00, 56.95batch/s]\n"
     ]
    },
    {
     "name": "stdout",
     "output_type": "stream",
     "text": [
      "[Epoch 35]\t training loss = -2.897\t validation loss = -2.729\n"
     ]
    },
    {
     "name": "stderr",
     "output_type": "stream",
     "text": [
      "Epoch 36: 100%|██████████| 8/8 [00:00<00:00, 56.35batch/s]\n"
     ]
    },
    {
     "name": "stdout",
     "output_type": "stream",
     "text": [
      "[Epoch 36]\t training loss = -2.902\t validation loss = -2.728\n"
     ]
    },
    {
     "name": "stderr",
     "output_type": "stream",
     "text": [
      "Epoch 37: 100%|██████████| 8/8 [00:00<00:00, 57.40batch/s]\n"
     ]
    },
    {
     "name": "stdout",
     "output_type": "stream",
     "text": [
      "[Epoch 37]\t training loss = -2.904\t validation loss = -2.726\n"
     ]
    },
    {
     "name": "stderr",
     "output_type": "stream",
     "text": [
      "Epoch 38: 100%|██████████| 8/8 [00:00<00:00, 57.56batch/s]\n"
     ]
    },
    {
     "name": "stdout",
     "output_type": "stream",
     "text": [
      "[Epoch 38]\t training loss = -2.907\t validation loss = -2.724\n"
     ]
    },
    {
     "name": "stderr",
     "output_type": "stream",
     "text": [
      "Epoch 39: 100%|██████████| 8/8 [00:00<00:00, 57.25batch/s]\n"
     ]
    },
    {
     "name": "stdout",
     "output_type": "stream",
     "text": [
      "[Epoch 39]\t training loss = -2.910\t validation loss = -2.724\n"
     ]
    },
    {
     "name": "stderr",
     "output_type": "stream",
     "text": [
      "Epoch 40: 100%|██████████| 8/8 [00:00<00:00, 57.49batch/s]\n"
     ]
    },
    {
     "name": "stdout",
     "output_type": "stream",
     "text": [
      "[Epoch 40]\t training loss = -2.913\t validation loss = -2.723\n"
     ]
    },
    {
     "name": "stderr",
     "output_type": "stream",
     "text": [
      "Epoch 41: 100%|██████████| 8/8 [00:00<00:00, 35.71batch/s]\n"
     ]
    },
    {
     "name": "stdout",
     "output_type": "stream",
     "text": [
      "[Epoch 41]\t training loss = -2.915\t validation loss = -2.721\n"
     ]
    },
    {
     "name": "stderr",
     "output_type": "stream",
     "text": [
      "Epoch 42: 100%|██████████| 8/8 [00:00<00:00, 55.13batch/s]\n"
     ]
    },
    {
     "name": "stdout",
     "output_type": "stream",
     "text": [
      "[Epoch 42]\t training loss = -2.918\t validation loss = -2.720\n"
     ]
    },
    {
     "name": "stderr",
     "output_type": "stream",
     "text": [
      "Epoch 43: 100%|██████████| 8/8 [00:00<00:00, 57.01batch/s]\n"
     ]
    },
    {
     "name": "stdout",
     "output_type": "stream",
     "text": [
      "[Epoch 43]\t training loss = -2.920\t validation loss = -2.718\n"
     ]
    },
    {
     "name": "stderr",
     "output_type": "stream",
     "text": [
      "Epoch 44: 100%|██████████| 8/8 [00:00<00:00, 57.59batch/s]\n"
     ]
    },
    {
     "name": "stdout",
     "output_type": "stream",
     "text": [
      "[Epoch 44]\t training loss = -2.922\t validation loss = -2.717\n"
     ]
    },
    {
     "name": "stderr",
     "output_type": "stream",
     "text": [
      "Epoch 45: 100%|██████████| 8/8 [00:00<00:00, 57.35batch/s]\n"
     ]
    },
    {
     "name": "stdout",
     "output_type": "stream",
     "text": [
      "[Epoch 45]\t training loss = -2.924\t validation loss = -2.716\n"
     ]
    },
    {
     "name": "stderr",
     "output_type": "stream",
     "text": [
      "Epoch 46: 100%|██████████| 8/8 [00:00<00:00, 55.40batch/s]\n"
     ]
    },
    {
     "name": "stdout",
     "output_type": "stream",
     "text": [
      "[Epoch 46]\t training loss = -2.926\t validation loss = -2.715\n"
     ]
    },
    {
     "name": "stderr",
     "output_type": "stream",
     "text": [
      "Epoch 47: 100%|██████████| 8/8 [00:00<00:00, 55.81batch/s]\n"
     ]
    },
    {
     "name": "stdout",
     "output_type": "stream",
     "text": [
      "[Epoch 47]\t training loss = -2.928\t validation loss = -2.714\n"
     ]
    },
    {
     "name": "stderr",
     "output_type": "stream",
     "text": [
      "Epoch 48: 100%|██████████| 8/8 [00:00<00:00, 33.38batch/s]\n"
     ]
    },
    {
     "name": "stdout",
     "output_type": "stream",
     "text": [
      "[Epoch 48]\t training loss = -2.931\t validation loss = -2.713\n"
     ]
    },
    {
     "name": "stderr",
     "output_type": "stream",
     "text": [
      "Epoch 49: 100%|██████████| 8/8 [00:00<00:00, 53.80batch/s]\n"
     ]
    },
    {
     "name": "stdout",
     "output_type": "stream",
     "text": [
      "[Epoch 49]\t training loss = -2.932\t validation loss = -2.712\n"
     ]
    }
   ],
   "source": [
    "lag = 1\n",
    "model.fit(traj_x, lag)\n",
    "model.save_model(f'snrv_{lag}.pt')"
   ]
  },
  {
   "cell_type": "code",
   "execution_count": 15,
   "id": "2ef65396",
   "metadata": {},
   "outputs": [
    {
     "data": {
      "image/png": "[encoded data removed]",
      "text/plain": [
       "<Figure size 640x480 with 1 Axes>"
      ]
     },
     "metadata": {},
     "output_type": "display_data"
    }
   ],
   "source": [
    "fig, ax = plt.subplots()\n",
    "ax.plot(np.arange(len(model.training_losses)), model.training_losses)\n",
    "ax.plot(np.arange(len(model.validation_losses)), model.validation_losses)\n",
    "ax.set_xlabel('epoch')\n",
    "ax.set_ylabel('loss')\n",
    "ax.legend(['training','validation'])\n",
    "fig.tight_layout()"
   ]
  },
  {
   "cell_type": "code",
   "execution_count": 16,
   "id": "5cedd0de",
   "metadata": {},
   "outputs": [],
   "source": [
    "evecs_SRV_unbiased = model.transform(traj_x.float()).cpu().detach().numpy()"
   ]
  },
  {
   "cell_type": "code",
   "execution_count": 17,
   "id": "cf09332f",
   "metadata": {},
   "outputs": [
    {
     "data": {
      "application/vnd.plotly.v1+json": {
       "config": {
        "plotlyServerURL": "https://plot.ly"
       },
       "data": [
        {
         "hovertemplate": "TIC1=%{x}<br>TIC2=%{y}<extra></extra>",
         "legendgroup": "",
         "marker": {
          "color": "#636efa",
          "symbol": "circle"
         },
         "mode": "markers",
         "name": "",
         "showlegend": false,
         "type": "scattergl",
         "x": {
          "bdata": "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",
          "dtype": "f4"
         },
         "xaxis": "x",
         "y": {
          "bdata": "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",
          "dtype": "f4"
         },
         "yaxis": "y"
        }
       ],
       "layout": {
        "height": 600,
        "legend": {
         "tracegroupgap": 0
        },
        "margin": {
         "t": 60
        },
        "template": {
         "data": {
          "bar": [
           {
            "error_x": {
             "color": "#2a3f5f"
            },
            "error_y": {
             "color": "#2a3f5f"
            },
            "marker": {
             "line": {
              "color": "#E5ECF6",
              "width": 0.5
             },
             "pattern": {
              "fillmode": "overlay",
              "size": 10,
              "solidity": 0.2
             }
            },
            "type": "bar"
           }
          ],
          "barpolar": [
           {
            "marker": {
             "line": {
              "color": "#E5ECF6",
              "width": 0.5
             },
             "pattern": {
              "fillmode": "overlay",
              "size": 10,
              "solidity": 0.2
             }
            },
            "type": "barpolar"
           }
          ],
          "carpet": [
           {
            "aaxis": {
             "endlinecolor": "#2a3f5f",
             "gridcolor": "white",
             "linecolor": "white",
             "minorgridcolor": "white",
             "startlinecolor": "#2a3f5f"
            },
            "baxis": {
             "endlinecolor": "#2a3f5f",
             "gridcolor": "white",
             "linecolor": "white",
             "minorgridcolor": "white",
             "startlinecolor": "#2a3f5f"
            },
            "type": "carpet"
           }
          ],
          "choropleth": [
           {
            "colorbar": {
             "outlinewidth": 0,
             "ticks": ""
            },
            "type": "choropleth"
           }
          ],
          "contour": [
           {
            "colorbar": {
             "outlinewidth": 0,
             "ticks": ""
            },
            "colorscale": [
             [
              0,
              "#0d0887"
             ],
             [
              0.1111111111111111,
              "#46039f"
             ],
             [
              0.2222222222222222,
              "#7201a8"
             ],
             [
              0.3333333333333333,
              "#9c179e"
             ],
             [
              0.4444444444444444,
              "#bd3786"
             ],
             [
              0.5555555555555556,
              "#d8576b"
             ],
             [
              0.6666666666666666,
              "#ed7953"
             ],
             [
              0.7777777777777778,
              "#fb9f3a"
             ],
             [
              0.8888888888888888,
              "#fdca26"
             ],
             [
              1,
              "#f0f921"
             ]
            ],
            "type": "contour"
           }
          ],
          "contourcarpet": [
           {
            "colorbar": {
             "outlinewidth": 0,
             "ticks": ""
            },
            "type": "contourcarpet"
           }
          ],
          "heatmap": [
           {
            "colorbar": {
             "outlinewidth": 0,
             "ticks": ""
            },
            "colorscale": [
             [
              0,
              "#0d0887"
             ],
             [
              0.1111111111111111,
              "#46039f"
             ],
             [
              0.2222222222222222,
              "#7201a8"
             ],
             [
              0.3333333333333333,
              "#9c179e"
             ],
             [
              0.4444444444444444,
              "#bd3786"
             ],
             [
              0.5555555555555556,
              "#d8576b"
             ],
             [
              0.6666666666666666,
              "#ed7953"
             ],
             [
              0.7777777777777778,
              "#fb9f3a"
             ],
             [
              0.8888888888888888,
              "#fdca26"
             ],
             [
              1,
              "#f0f921"
             ]
            ],
            "type": "heatmap"
           }
          ],
          "histogram": [
           {
            "marker": {
             "pattern": {
              "fillmode": "overlay",
              "size": 10,
              "solidity": 0.2
             }
            },
            "type": "histogram"
           }
          ],
          "histogram2d": [
           {
            "colorbar": {
             "outlinewidth": 0,
             "ticks": ""
            },
            "colorscale": [
             [
              0,
              "#0d0887"
             ],
             [
              0.1111111111111111,
              "#46039f"
             ],
             [
              0.2222222222222222,
              "#7201a8"
             ],
             [
              0.3333333333333333,
              "#9c179e"
             ],
             [
              0.4444444444444444,
              "#bd3786"
             ],
             [
              0.5555555555555556,
              "#d8576b"
             ],
             [
              0.6666666666666666,
              "#ed7953"
             ],
             [
              0.7777777777777778,
              "#fb9f3a"
             ],
             [
              0.8888888888888888,
              "#fdca26"
             ],
             [
              1,
              "#f0f921"
             ]
            ],
            "type": "histogram2d"
           }
          ],
          "histogram2dcontour": [
           {
            "colorbar": {
             "outlinewidth": 0,
             "ticks": ""
            },
            "colorscale": [
             [
              0,
              "#0d0887"
             ],
             [
              0.1111111111111111,
              "#46039f"
             ],
             [
              0.2222222222222222,
              "#7201a8"
             ],
             [
              0.3333333333333333,
              "#9c179e"
             ],
             [
              0.4444444444444444,
              "#bd3786"
             ],
             [
              0.5555555555555556,
              "#d8576b"
             ],
             [
              0.6666666666666666,
              "#ed7953"
             ],
             [
              0.7777777777777778,
              "#fb9f3a"
             ],
             [
              0.8888888888888888,
              "#fdca26"
             ],
             [
              1,
              "#f0f921"
             ]
            ],
            "type": "histogram2dcontour"
           }
          ],
          "mesh3d": [
           {
            "colorbar": {
             "outlinewidth": 0,
             "ticks": ""
            },
            "type": "mesh3d"
           }
          ],
          "parcoords": [
           {
            "line": {
             "colorbar": {
              "outlinewidth": 0,
              "ticks": ""
             }
            },
            "type": "parcoords"
           }
          ],
          "pie": [
           {
            "automargin": true,
            "type": "pie"
           }
          ],
          "scatter": [
           {
            "fillpattern": {
             "fillmode": "overlay",
             "size": 10,
             "solidity": 0.2
            },
            "type": "scatter"
           }
          ],
          "scatter3d": [
           {
            "line": {
             "colorbar": {
              "outlinewidth": 0,
              "ticks": ""
             }
            },
            "marker": {
             "colorbar": {
              "outlinewidth": 0,
              "ticks": ""
             }
            },
            "type": "scatter3d"
           }
          ],
          "scattercarpet": [
           {
            "marker": {
             "colorbar": {
              "outlinewidth": 0,
              "ticks": ""
             }
            },
            "type": "scattercarpet"
           }
          ],
          "scattergeo": [
           {
            "marker": {
             "colorbar": {
              "outlinewidth": 0,
              "ticks": ""
             }
            },
            "type": "scattergeo"
           }
          ],
          "scattergl": [
           {
            "marker": {
             "colorbar": {
              "outlinewidth": 0,
              "ticks": ""
             }
            },
            "type": "scattergl"
           }
          ],
          "scattermap": [
           {
            "marker": {
             "colorbar": {
              "outlinewidth": 0,
              "ticks": ""
             }
            },
            "type": "scattermap"
           }
          ],
          "scattermapbox": [
           {
            "marker": {
             "colorbar": {
              "outlinewidth": 0,
              "ticks": ""
             }
            },
            "type": "scattermapbox"
           }
          ],
          "scatterpolar": [
           {
            "marker": {
             "colorbar": {
              "outlinewidth": 0,
              "ticks": ""
             }
            },
            "type": "scatterpolar"
           }
          ],
          "scatterpolargl": [
           {
            "marker": {
             "colorbar": {
              "outlinewidth": 0,
              "ticks": ""
             }
            },
            "type": "scatterpolargl"
           }
          ],
          "scatterternary": [
           {
            "marker": {
             "colorbar": {
              "outlinewidth": 0,
              "ticks": ""
             }
            },
            "type": "scatterternary"
           }
          ],
          "surface": [
           {
            "colorbar": {
             "outlinewidth": 0,
             "ticks": ""
            },
            "colorscale": [
             [
              0,
              "#0d0887"
             ],
             [
              0.1111111111111111,
              "#46039f"
             ],
             [
              0.2222222222222222,
              "#7201a8"
             ],
             [
              0.3333333333333333,
              "#9c179e"
             ],
             [
              0.4444444444444444,
              "#bd3786"
             ],
             [
              0.5555555555555556,
              "#d8576b"
             ],
             [
              0.6666666666666666,
              "#ed7953"
             ],
             [
              0.7777777777777778,
              "#fb9f3a"
             ],
             [
              0.8888888888888888,
              "#fdca26"
             ],
             [
              1,
              "#f0f921"
             ]
            ],
            "type": "surface"
           }
          ],
          "table": [
           {
            "cells": {
             "fill": {
              "color": "#EBF0F8"
             },
             "line": {
              "color": "white"
             }
            },
            "header": {
             "fill": {
              "color": "#C8D4E3"
             },
             "line": {
              "color": "white"
             }
            },
            "type": "table"
           }
          ]
         },
         "layout": {
          "annotationdefaults": {
           "arrowcolor": "#2a3f5f",
           "arrowhead": 0,
           "arrowwidth": 1
          },
          "autotypenumbers": "strict",
          "coloraxis": {
           "colorbar": {
            "outlinewidth": 0,
            "ticks": ""
           }
          },
          "colorscale": {
           "diverging": [
            [
             0,
             "#8e0152"
            ],
            [
             0.1,
             "#c51b7d"
            ],
            [
             0.2,
             "#de77ae"
            ],
            [
             0.3,
             "#f1b6da"
            ],
            [
             0.4,
             "#fde0ef"
            ],
            [
             0.5,
             "#f7f7f7"
            ],
            [
             0.6,
             "#e6f5d0"
            ],
            [
             0.7,
             "#b8e186"
            ],
            [
             0.8,
             "#7fbc41"
            ],
            [
             0.9,
             "#4d9221"
            ],
            [
             1,
             "#276419"
            ]
           ],
           "sequential": [
            [
             0,
             "#0d0887"
            ],
            [
             0.1111111111111111,
             "#46039f"
            ],
            [
             0.2222222222222222,
             "#7201a8"
            ],
            [
             0.3333333333333333,
             "#9c179e"
            ],
            [
             0.4444444444444444,
             "#bd3786"
            ],
            [
             0.5555555555555556,
             "#d8576b"
            ],
            [
             0.6666666666666666,
             "#ed7953"
            ],
            [
             0.7777777777777778,
             "#fb9f3a"
            ],
            [
             0.8888888888888888,
             "#fdca26"
            ],
            [
             1,
             "#f0f921"
            ]
           ],
           "sequentialminus": [
            [
             0,
             "#0d0887"
            ],
            [
             0.1111111111111111,
             "#46039f"
            ],
            [
             0.2222222222222222,
             "#7201a8"
            ],
            [
             0.3333333333333333,
             "#9c179e"
            ],
            [
             0.4444444444444444,
             "#bd3786"
            ],
            [
             0.5555555555555556,
             "#d8576b"
            ],
            [
             0.6666666666666666,
             "#ed7953"
            ],
            [
             0.7777777777777778,
             "#fb9f3a"
            ],
            [
             0.8888888888888888,
             "#fdca26"
            ],
            [
             1,
             "#f0f921"
            ]
           ]
          },
          "colorway": [
           "#636efa",
           "#EF553B",
           "#00cc96",
           "#ab63fa",
           "#FFA15A",
           "#19d3f3",
           "#FF6692",
           "#B6E880",
           "#FF97FF",
           "#FECB52"
          ],
          "font": {
           "color": "#2a3f5f"
          },
          "geo": {
           "bgcolor": "white",
           "lakecolor": "white",
           "landcolor": "#E5ECF6",
           "showlakes": true,
           "showland": true,
           "subunitcolor": "white"
          },
          "hoverlabel": {
           "align": "left"
          },
          "hovermode": "closest",
          "mapbox": {
           "style": "light"
          },
          "paper_bgcolor": "white",
          "plot_bgcolor": "#E5ECF6",
          "polar": {
           "angularaxis": {
            "gridcolor": "white",
            "linecolor": "white",
            "ticks": ""
           },
           "bgcolor": "#E5ECF6",
           "radialaxis": {
            "gridcolor": "white",
            "linecolor": "white",
            "ticks": ""
           }
          },
          "scene": {
           "xaxis": {
            "backgroundcolor": "#E5ECF6",
            "gridcolor": "white",
            "gridwidth": 2,
            "linecolor": "white",
            "showbackground": true,
            "ticks": "",
            "zerolinecolor": "white"
           },
           "yaxis": {
            "backgroundcolor": "#E5ECF6",
            "gridcolor": "white",
            "gridwidth": 2,
            "linecolor": "white",
            "showbackground": true,
            "ticks": "",
            "zerolinecolor": "white"
           },
           "zaxis": {
            "backgroundcolor": "#E5ECF6",
            "gridcolor": "white",
            "gridwidth": 2,
            "linecolor": "white",
            "showbackground": true,
            "ticks": "",
            "zerolinecolor": "white"
           }
          },
          "shapedefaults": {
           "line": {
            "color": "#2a3f5f"
           }
          },
          "ternary": {
           "aaxis": {
            "gridcolor": "white",
            "linecolor": "white",
            "ticks": ""
           },
           "baxis": {
            "gridcolor": "white",
            "linecolor": "white",
            "ticks": ""
           },
           "bgcolor": "#E5ECF6",
           "caxis": {
            "gridcolor": "white",
            "linecolor": "white",
            "ticks": ""
           }
          },
          "title": {
           "x": 0.05
          },
          "xaxis": {
           "automargin": true,
           "gridcolor": "white",
           "linecolor": "white",
           "ticks": "",
           "title": {
            "standoff": 15
           },
           "zerolinecolor": "white",
           "zerolinewidth": 2
          },
          "yaxis": {
           "automargin": true,
           "gridcolor": "white",
           "linecolor": "white",
           "ticks": "",
           "title": {
            "standoff": 15
           },
           "zerolinecolor": "white",
           "zerolinewidth": 2
          }
         }
        },
        "width": 600,
        "xaxis": {
         "anchor": "y",
         "domain": [
          0,
          1
         ],
         "title": {
          "text": "TIC1"
         }
        },
        "yaxis": {
         "anchor": "x",
         "domain": [
          0,
          1
         ],
         "title": {
          "text": "TIC2"
         }
        }
       }
      }
     },
     "metadata": {},
     "output_type": "display_data"
    }
   ],
   "source": [
    "dataset = pd.DataFrame(evecs_SRV_unbiased, columns=[\"TIC0\", \"TIC1\", \"TIC2\"])\n",
    "px.scatter(dataset, x=\"TIC1\", y=\"TIC2\", width=600, height=600)"
   ]
  },
  {
   "cell_type": "code",
   "execution_count": 18,
   "id": "ecae7b20",
   "metadata": {},
   "outputs": [
    {
     "name": "stdout",
     "output_type": "stream",
     "text": [
      "TIC0    2.018538\n",
      "TIC1    2.140771\n",
      "TIC2    2.662255\n",
      "dtype: float32\n",
      "TIC0    0.843917\n",
      "TIC1   -2.076475\n",
      "TIC2   -2.085465\n",
      "dtype: float32\n"
     ]
    }
   ],
   "source": [
    "print(dataset.max())\n",
    "print(dataset.min())"
   ]
  },
  {
   "cell_type": "code",
   "execution_count": 42,
   "id": "b32bd47e",
   "metadata": {},
   "outputs": [],
   "source": [
    "class CV(torch.nn.Module):\n",
    "    def __init__(self, model, idx):\n",
    "        super().__init__()\n",
    "        self.model = model\n",
    "        self.idx = idx\n",
    "        self.register_buffer(\"i_list_d\", i_list_d)\n",
    "        self.register_buffer(\"j_list_d\", j_list_d)\n",
    "        self.register_buffer(\"i_list_a\", i_list_a)\n",
    "        self.register_buffer(\"j_list_a\", j_list_a)\n",
    "        self.register_buffer(\"k_list_a\", k_list_a)\n",
    "\n",
    "    def compute_mic_dist(self, pos, box):\n",
    "        d = pos[self.i_list_d, :] - pos[self.j_list_d, :]  # shape: [T, M, 3]\n",
    "        d = d - box * torch.round(d / box)  # apply MIC\n",
    "        return torch.norm(d, dim=-1)  # shape: [T, M]\n",
    "    \n",
    "    def compute_mic_angles(self, pos, box):\n",
    "        # pos: [T, N, 3]\n",
    "        # box: [T, 1, 3]\n",
    "        # i, j, k: [M]\n",
    "        \n",
    "        # MIC vector: ri - rj\n",
    "        v1 = pos[self.i_list_a, :] - pos[self.j_list_a, :]  # [T, M, 3]\n",
    "        v1 = v1 - box * torch.round(v1 / box)\n",
    "\n",
    "        # MIC vector: rk - rj\n",
    "        v2 = pos[self.k_list_a, :] - pos[self.j_list_a, :]\n",
    "        v2 = v2 - box * torch.round(v2 / box)\n",
    "\n",
    "        # Normalize\n",
    "        v1_norm = torch.nn.functional.normalize(v1, dim=-1)\n",
    "        v2_norm = torch.nn.functional.normalize(v2, dim=-1)\n",
    "\n",
    "        # Dot product and angle\n",
    "        cos_theta = (v1_norm * v2_norm).sum(dim=-1).clamp(-1.0, 1.0)\n",
    "        angles = torch.acos(cos_theta)  # [T, M], in radians\n",
    "\n",
    "        return angles\n",
    "\n",
    "    def forward(self, positions, boxvectors):\n",
    "        \"\"\"The forward method returns the energy computed from positions.\n",
    "\n",
    "        Parameters\n",
    "        ----------\n",
    "        positions : torch.Tensor with shape (nparticles, 3)\n",
    "           positions[i,k] is the position (in nanometers) of spatial dimension k of particle i\n",
    "\n",
    "        Returns\n",
    "        -------\n",
    "        potential : torch.Scalar\n",
    "           The potential energy (in kJ/mol)\n",
    "        \"\"\"\n",
    "        boxsize = boxvectors.diag()\n",
    "        feat_d = self.compute_mic_dist(positions, boxsize)\n",
    "        feat_a = self.compute_mic_angles(positions, boxsize)\n",
    "        feats = torch.concat([feat_d, feat_a])\n",
    "        evecs = self.model.transform(feats.view(1, -1))\n",
    "        CV = evecs[0][self.idx]\n",
    "        return CV\n",
    "\n",
    "model_output_1 = CV(model, 1)\n",
    "model_output_2 = CV(model, 2)\n",
    "\n",
    "torch.jit.script(model_output_1).save('cv1.pt')\n",
    "torch.jit.script(model_output_2).save('cv2.pt')"
   ]
  },
  {
   "cell_type": "code",
   "execution_count": null,
   "id": "a7677aa6",
   "metadata": {},
   "outputs": [],
   "source": []
  }
 ],
 "metadata": {
  "kernelspec": {
   "display_name": "psrv",
   "language": "python",
   "name": "python3"
  },
  "language_info": {
   "codemirror_mode": {
    "name": "ipython",
    "version": 3
   },
   "file_extension": ".py",
   "mimetype": "text/x-python",
   "name": "python",
   "nbconvert_exporter": "python",
   "pygments_lexer": "ipython3",
   "version": "3.9.18"
  }
 },
 "nbformat": 4,
 "nbformat_minor": 5
}
