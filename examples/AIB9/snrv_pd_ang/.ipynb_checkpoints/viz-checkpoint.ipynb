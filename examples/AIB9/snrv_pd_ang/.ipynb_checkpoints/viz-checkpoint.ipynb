{
 "cells": [
  {
   "cell_type": "code",
   "execution_count": 1,
   "id": "0b3b965c",
   "metadata": {},
   "outputs": [
    {
     "data": {
      "application/vnd.jupyter.widget-view+json": {
       "model_id": "c5cd79fbb91143c6a03ea9515b587fe9",
       "version_major": 2,
       "version_minor": 0
      },
      "text/plain": []
     },
     "metadata": {},
     "output_type": "display_data"
    }
   ],
   "source": [
    "import mdtraj as md\n",
    "import nglview as nv"
   ]
  },
  {
   "cell_type": "code",
   "execution_count": 20,
   "id": "cbc27a0f",
   "metadata": {},
   "outputs": [],
   "source": [
    "traj = md.load(\"traj_metad_1.dcd\", top=\"../aib9.gro\")"
   ]
  },
  {
   "cell_type": "code",
   "execution_count": 21,
   "id": "a6c6c5cc",
   "metadata": {},
   "outputs": [],
   "source": [
    "view = nv.show_mdtraj(traj)"
   ]
  },
  {
   "cell_type": "code",
   "execution_count": 22,
   "id": "5dcc459c",
   "metadata": {},
   "outputs": [
    {
     "data": {
      "application/vnd.jupyter.widget-view+json": {
       "model_id": "fa315a1e11824f9abce6943c9ad318b0",
       "version_major": 2,
       "version_minor": 0
      },
      "text/plain": [
       "NGLWidget(max_frame=3429)"
      ]
     },
     "metadata": {},
     "output_type": "display_data"
    }
   ],
   "source": [
    "view"
   ]
  },
  {
   "cell_type": "code",
   "execution_count": 23,
   "id": "391af0eb",
   "metadata": {},
   "outputs": [],
   "source": [
    "view.add_representation('ball+stick', selection='water', opacity=0.3)"
   ]
  },
  {
   "cell_type": "code",
   "execution_count": null,
   "id": "1f0a00f4-ea9f-478b-9a00-c903936834ae",
   "metadata": {},
   "outputs": [],
   "source": []
  }
 ],
 "metadata": {
  "kernelspec": {
   "display_name": "Python 3 (ipykernel)",
   "language": "python",
   "name": "python3"
  },
  "language_info": {
   "codemirror_mode": {
    "name": "ipython",
    "version": 3
   },
   "file_extension": ".py",
   "mimetype": "text/x-python",
   "name": "python",
   "nbconvert_exporter": "python",
   "pygments_lexer": "ipython3",
   "version": "3.11.8"
  }
 },
 "nbformat": 4,
 "nbformat_minor": 5
}
