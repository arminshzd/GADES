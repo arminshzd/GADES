{
 "cells": [
  {
   "cell_type": "code",
   "execution_count": 1,
   "id": "de3ba76f",
   "metadata": {},
   "outputs": [],
   "source": [
    "import numpy as np\n",
    "import matplotlib.pyplot as plt\n",
    "import plotly.express as px\n",
    "import pandas as pd\n",
    "import mdtraj as md\n",
    "\n",
    "import torch\n",
    "\n",
    "from snrv import Snrv"
   ]
  },
  {
   "cell_type": "code",
   "execution_count": 2,
   "id": "9f998416",
   "metadata": {},
   "outputs": [],
   "source": [
    "traj = md.load(\"../traj_2000_2500.dcd\", top=\"../aib9.gro\")\n",
    "biasing_atom_ids = np.array([atom.index for atom in traj.topology.atoms if atom.residue.name != 'HOH'])\n",
    "feat_indices = np.array([atom.index for atom in traj.topology.atoms if (atom.name == 'CA' or atom.name == 'CAY' or atom.name == 'CAT')])\n",
    "pos = torch.from_numpy(traj.xyz)\n",
    "box = torch.from_numpy(np.asarray([np.diag(i) for i in traj.unitcell_vectors])).view(-1, 1, 3)"
   ]
  },
  {
   "cell_type": "code",
   "execution_count": 3,
   "id": "bc62ade1",
   "metadata": {},
   "outputs": [],
   "source": [
    "def generate_pair_indices_from_list(index_list):\n",
    "    i_list = []\n",
    "    j_list = []\n",
    "    for i in range(len(index_list)):\n",
    "        for j in range(i + 1, len(index_list)):\n",
    "            i_list.append(index_list[i])\n",
    "            j_list.append(index_list[j])\n",
    "    return torch.tensor(i_list), torch.tensor(j_list)"
   ]
  },
  {
   "cell_type": "code",
   "execution_count": 4,
   "id": "67de9e1d",
   "metadata": {},
   "outputs": [],
   "source": [
    "i_list_d, j_list_d = generate_pair_indices_from_list(feat_indices)"
   ]
  },
  {
   "cell_type": "code",
   "execution_count": 5,
   "id": "e61c3ded",
   "metadata": {},
   "outputs": [],
   "source": [
    "def compute_mic_dist(pos, box, i, j):\n",
    "    d = pos[:, i, :] - pos[:, j, :]  # shape: [T, M, 3]\n",
    "    d = d - box * torch.round(d / box)  # apply MIC\n",
    "    return torch.norm(d, dim=-1)  # shape: [T, M]"
   ]
  },
  {
   "cell_type": "code",
   "execution_count": 6,
   "id": "2bea652c",
   "metadata": {},
   "outputs": [],
   "source": [
    "traj_x_d = compute_mic_dist(pos, box, i_list_d, j_list_d)"
   ]
  },
  {
   "cell_type": "code",
   "execution_count": 7,
   "id": "dfb27771",
   "metadata": {},
   "outputs": [],
   "source": [
    "def generate_dihedral_indices_linear(index_list):\n",
    "    i_list = []\n",
    "    j_list = []\n",
    "    k_list = []\n",
    "    l_list = []\n",
    "\n",
    "    for n in range(len(index_list) - 3):\n",
    "        i_list.append(index_list[n])\n",
    "        j_list.append(index_list[n + 1])\n",
    "        k_list.append(index_list[n + 2])\n",
    "        l_list.append(index_list[n + 3])\n",
    "\n",
    "    return (\n",
    "        torch.tensor(i_list, dtype=torch.long),\n",
    "        torch.tensor(j_list, dtype=torch.long),\n",
    "        torch.tensor(k_list, dtype=torch.long),\n",
    "        torch.tensor(l_list, dtype=torch.long),\n",
    "    )"
   ]
  },
  {
   "cell_type": "code",
   "execution_count": 8,
   "id": "4aecea78",
   "metadata": {},
   "outputs": [],
   "source": [
    "i_list_dih, j_list_dih, k_list_dih, l_list_dih = generate_dihedral_indices_linear(feat_indices)"
   ]
  },
  {
   "cell_type": "code",
   "execution_count": 9,
   "id": "51bed899",
   "metadata": {},
   "outputs": [],
   "source": [
    "def compute_mic_dihedrals(pos, box, i, j, k, l):\n",
    "    # pos: [T, N, 3]\n",
    "    # box: [T, 1, 3] (broadcastable)\n",
    "    # i, j, k, l: [M]\n",
    "\n",
    "    # MIC vectors\n",
    "    b1 = pos[:, j, :] - pos[:, i, :]\n",
    "    b1 = b1 - box * torch.round(b1 / box)\n",
    "\n",
    "    b2 = pos[:, k, :] - pos[:, j, :]\n",
    "    b2 = b2 - box * torch.round(b2 / box)\n",
    "\n",
    "    b3 = pos[:, l, :] - pos[:, k, :]\n",
    "    b3 = b3 - box * torch.round(b3 / box)\n",
    "\n",
    "    # Normalize b2 for later\n",
    "    b2_norm = torch.nn.functional.normalize(b2, dim=-1)\n",
    "\n",
    "    # Compute normals to the planes\n",
    "    n1 = torch.cross(b1, b2, dim=-1)  # plane i-j-k\n",
    "    n2 = torch.cross(b2, b3, dim=-1)  # plane j-k-l\n",
    "\n",
    "    # Normalize\n",
    "    n1 = torch.nn.functional.normalize(n1, dim=-1)\n",
    "    n2 = torch.nn.functional.normalize(n2, dim=-1)\n",
    "\n",
    "    # Compute cosine and sine terms\n",
    "    cos_phi = (n1 * n2).sum(dim=-1).clamp(-1.0, 1.0)\n",
    "    sin_phi = (torch.cross(n1, n2, dim=-1) * b2_norm).sum(dim=-1)\n",
    "\n",
    "    # Final torsion angle\n",
    "    dihedrals = torch.atan2(sin_phi, cos_phi)  # shape: [T, M], radians\n",
    "\n",
    "    return dihedrals"
   ]
  },
  {
   "cell_type": "code",
   "execution_count": 10,
   "id": "7d71ba65",
   "metadata": {},
   "outputs": [],
   "source": [
    "traj_x_dih = compute_mic_dihedrals(pos, box, i_list_dih, j_list_dih, k_list_dih, l_list_dih)"
   ]
  },
  {
   "cell_type": "code",
   "execution_count": 13,
   "id": "50e04b25",
   "metadata": {},
   "outputs": [],
   "source": [
    "traj_x = torch.concat([traj_x_d, traj_x_dih], dim=1)"
   ]
  },
  {
   "cell_type": "code",
   "execution_count": 14,
   "id": "2529c848",
   "metadata": {},
   "outputs": [
    {
     "data": {
      "text/plain": [
       "torch.Size([10000, 63])"
      ]
     },
     "execution_count": 14,
     "metadata": {},
     "output_type": "execute_result"
    }
   ],
   "source": [
    "traj_x.shape"
   ]
  },
  {
   "cell_type": "code",
   "execution_count": 19,
   "id": "845a5418",
   "metadata": {},
   "outputs": [],
   "source": [
    "input_size = traj_x.size()[1]\n",
    "output_size = 3\n",
    "hidden_depth = 3\n",
    "hidden_size = 500\n",
    "batch_norm = True\n",
    "dropout_rate = 0.\n",
    "lr = 1E-5\n",
    "weight_decay = 0.\n",
    "val_frac = 0.20\n",
    "n_epochs = 75\n",
    "batch_size = 500\n",
    "VAMPdegree = 2\n",
    "is_reversible = True\n",
    "num_workers = 0\n",
    "\n",
    "model = Snrv(input_size, output_size, hidden_depth=hidden_depth, hidden_size=hidden_size,\n",
    "            batch_norm=batch_norm, dropout_rate=dropout_rate, lr=lr, weight_decay=weight_decay, \n",
    "            val_frac=val_frac, n_epochs=n_epochs, batch_size=batch_size, \n",
    "            VAMPdegree=VAMPdegree, is_reversible=is_reversible, num_workers=num_workers, device=\"cuda\")\n",
    "model = model.to(\"cuda\")"
   ]
  },
  {
   "cell_type": "code",
   "execution_count": 20,
   "id": "6a3c8a69",
   "metadata": {},
   "outputs": [
    {
     "name": "stderr",
     "output_type": "stream",
     "text": [
      "Epoch 0: 100%|██████████| 16/16 [00:00<00:00, 73.13batch/s]\n"
     ]
    },
    {
     "name": "stdout",
     "output_type": "stream",
     "text": [
      "[Epoch 0]\t training loss = -1.552\t validation loss = -1.659\n"
     ]
    },
    {
     "name": "stderr",
     "output_type": "stream",
     "text": [
      "Epoch 1: 100%|██████████| 16/16 [00:00<00:00, 72.29batch/s]\n"
     ]
    },
    {
     "name": "stdout",
     "output_type": "stream",
     "text": [
      "[Epoch 1]\t training loss = -1.791\t validation loss = -1.823\n"
     ]
    },
    {
     "name": "stderr",
     "output_type": "stream",
     "text": [
      "Epoch 2: 100%|██████████| 16/16 [00:00<00:00, 73.57batch/s]\n"
     ]
    },
    {
     "name": "stdout",
     "output_type": "stream",
     "text": [
      "[Epoch 2]\t training loss = -1.950\t validation loss = -1.941\n"
     ]
    },
    {
     "name": "stderr",
     "output_type": "stream",
     "text": [
      "Epoch 3: 100%|██████████| 16/16 [00:00<00:00, 44.99batch/s]\n"
     ]
    },
    {
     "name": "stdout",
     "output_type": "stream",
     "text": [
      "[Epoch 3]\t training loss = -2.076\t validation loss = -2.036\n"
     ]
    },
    {
     "name": "stderr",
     "output_type": "stream",
     "text": [
      "Epoch 4: 100%|██████████| 16/16 [00:00<00:00, 68.31batch/s]\n"
     ]
    },
    {
     "name": "stdout",
     "output_type": "stream",
     "text": [
      "[Epoch 4]\t training loss = -2.186\t validation loss = -2.128\n"
     ]
    },
    {
     "name": "stderr",
     "output_type": "stream",
     "text": [
      "Epoch 5: 100%|██████████| 16/16 [00:00<00:00, 72.39batch/s]\n"
     ]
    },
    {
     "name": "stdout",
     "output_type": "stream",
     "text": [
      "[Epoch 5]\t training loss = -2.290\t validation loss = -2.210\n"
     ]
    },
    {
     "name": "stderr",
     "output_type": "stream",
     "text": [
      "Epoch 6: 100%|██████████| 16/16 [00:00<00:00, 76.09batch/s]\n"
     ]
    },
    {
     "name": "stdout",
     "output_type": "stream",
     "text": [
      "[Epoch 6]\t training loss = -2.370\t validation loss = -2.278\n"
     ]
    },
    {
     "name": "stderr",
     "output_type": "stream",
     "text": [
      "Epoch 7: 100%|██████████| 16/16 [00:00<00:00, 70.96batch/s]\n"
     ]
    },
    {
     "name": "stdout",
     "output_type": "stream",
     "text": [
      "[Epoch 7]\t training loss = -2.436\t validation loss = -2.341\n"
     ]
    },
    {
     "name": "stderr",
     "output_type": "stream",
     "text": [
      "Epoch 8: 100%|██████████| 16/16 [00:00<00:00, 70.48batch/s]\n"
     ]
    },
    {
     "name": "stdout",
     "output_type": "stream",
     "text": [
      "[Epoch 8]\t training loss = -2.491\t validation loss = -2.392\n"
     ]
    },
    {
     "name": "stderr",
     "output_type": "stream",
     "text": [
      "Epoch 9: 100%|██████████| 16/16 [00:00<00:00, 68.64batch/s]\n"
     ]
    },
    {
     "name": "stdout",
     "output_type": "stream",
     "text": [
      "[Epoch 9]\t training loss = -2.537\t validation loss = -2.437\n"
     ]
    },
    {
     "name": "stderr",
     "output_type": "stream",
     "text": [
      "Epoch 10: 100%|██████████| 16/16 [00:00<00:00, 70.92batch/s]\n"
     ]
    },
    {
     "name": "stdout",
     "output_type": "stream",
     "text": [
      "[Epoch 10]\t training loss = -2.574\t validation loss = -2.475\n"
     ]
    },
    {
     "name": "stderr",
     "output_type": "stream",
     "text": [
      "Epoch 11: 100%|██████████| 16/16 [00:00<00:00, 70.76batch/s]\n"
     ]
    },
    {
     "name": "stdout",
     "output_type": "stream",
     "text": [
      "[Epoch 11]\t training loss = -2.604\t validation loss = -2.506\n"
     ]
    },
    {
     "name": "stderr",
     "output_type": "stream",
     "text": [
      "Epoch 12: 100%|██████████| 16/16 [00:00<00:00, 71.75batch/s]\n"
     ]
    },
    {
     "name": "stdout",
     "output_type": "stream",
     "text": [
      "[Epoch 12]\t training loss = -2.629\t validation loss = -2.531\n"
     ]
    },
    {
     "name": "stderr",
     "output_type": "stream",
     "text": [
      "Epoch 13: 100%|██████████| 16/16 [00:00<00:00, 75.54batch/s]\n"
     ]
    },
    {
     "name": "stdout",
     "output_type": "stream",
     "text": [
      "[Epoch 13]\t training loss = -2.648\t validation loss = -2.552\n"
     ]
    },
    {
     "name": "stderr",
     "output_type": "stream",
     "text": [
      "Epoch 14: 100%|██████████| 16/16 [00:00<00:00, 67.34batch/s]\n"
     ]
    },
    {
     "name": "stdout",
     "output_type": "stream",
     "text": [
      "[Epoch 14]\t training loss = -2.665\t validation loss = -2.569\n"
     ]
    },
    {
     "name": "stderr",
     "output_type": "stream",
     "text": [
      "Epoch 15: 100%|██████████| 16/16 [00:00<00:00, 68.75batch/s]\n"
     ]
    },
    {
     "name": "stdout",
     "output_type": "stream",
     "text": [
      "[Epoch 15]\t training loss = -2.681\t validation loss = -2.584\n"
     ]
    },
    {
     "name": "stderr",
     "output_type": "stream",
     "text": [
      "Epoch 16: 100%|██████████| 16/16 [00:00<00:00, 45.26batch/s]\n"
     ]
    },
    {
     "name": "stdout",
     "output_type": "stream",
     "text": [
      "[Epoch 16]\t training loss = -2.693\t validation loss = -2.597\n"
     ]
    },
    {
     "name": "stderr",
     "output_type": "stream",
     "text": [
      "Epoch 17: 100%|██████████| 16/16 [00:00<00:00, 64.25batch/s]\n"
     ]
    },
    {
     "name": "stdout",
     "output_type": "stream",
     "text": [
      "[Epoch 17]\t training loss = -2.703\t validation loss = -2.607\n"
     ]
    },
    {
     "name": "stderr",
     "output_type": "stream",
     "text": [
      "Epoch 18: 100%|██████████| 16/16 [00:00<00:00, 67.62batch/s]\n"
     ]
    },
    {
     "name": "stdout",
     "output_type": "stream",
     "text": [
      "[Epoch 18]\t training loss = -2.710\t validation loss = -2.616\n"
     ]
    },
    {
     "name": "stderr",
     "output_type": "stream",
     "text": [
      "Epoch 19: 100%|██████████| 16/16 [00:00<00:00, 70.26batch/s]\n"
     ]
    },
    {
     "name": "stdout",
     "output_type": "stream",
     "text": [
      "[Epoch 19]\t training loss = -2.720\t validation loss = -2.625\n"
     ]
    },
    {
     "name": "stderr",
     "output_type": "stream",
     "text": [
      "Epoch 20: 100%|██████████| 16/16 [00:00<00:00, 76.33batch/s]\n"
     ]
    },
    {
     "name": "stdout",
     "output_type": "stream",
     "text": [
      "[Epoch 20]\t training loss = -2.727\t validation loss = -2.632\n"
     ]
    },
    {
     "name": "stderr",
     "output_type": "stream",
     "text": [
      "Epoch 21: 100%|██████████| 16/16 [00:00<00:00, 63.51batch/s]\n"
     ]
    },
    {
     "name": "stdout",
     "output_type": "stream",
     "text": [
      "[Epoch 21]\t training loss = -2.734\t validation loss = -2.639\n"
     ]
    },
    {
     "name": "stderr",
     "output_type": "stream",
     "text": [
      "Epoch 22: 100%|██████████| 16/16 [00:00<00:00, 74.36batch/s]\n"
     ]
    },
    {
     "name": "stdout",
     "output_type": "stream",
     "text": [
      "[Epoch 22]\t training loss = -2.742\t validation loss = -2.645\n"
     ]
    },
    {
     "name": "stderr",
     "output_type": "stream",
     "text": [
      "Epoch 23: 100%|██████████| 16/16 [00:00<00:00, 72.32batch/s]\n"
     ]
    },
    {
     "name": "stdout",
     "output_type": "stream",
     "text": [
      "[Epoch 23]\t training loss = -2.748\t validation loss = -2.650\n"
     ]
    },
    {
     "name": "stderr",
     "output_type": "stream",
     "text": [
      "Epoch 24: 100%|██████████| 16/16 [00:00<00:00, 71.78batch/s]\n"
     ]
    },
    {
     "name": "stdout",
     "output_type": "stream",
     "text": [
      "[Epoch 24]\t training loss = -2.751\t validation loss = -2.656\n"
     ]
    },
    {
     "name": "stderr",
     "output_type": "stream",
     "text": [
      "Epoch 25: 100%|██████████| 16/16 [00:00<00:00, 75.51batch/s]\n"
     ]
    },
    {
     "name": "stdout",
     "output_type": "stream",
     "text": [
      "[Epoch 25]\t training loss = -2.757\t validation loss = -2.660\n"
     ]
    },
    {
     "name": "stderr",
     "output_type": "stream",
     "text": [
      "Epoch 26: 100%|██████████| 16/16 [00:00<00:00, 74.85batch/s]\n"
     ]
    },
    {
     "name": "stdout",
     "output_type": "stream",
     "text": [
      "[Epoch 26]\t training loss = -2.761\t validation loss = -2.665\n"
     ]
    },
    {
     "name": "stderr",
     "output_type": "stream",
     "text": [
      "Epoch 27: 100%|██████████| 16/16 [00:00<00:00, 74.02batch/s]\n"
     ]
    },
    {
     "name": "stdout",
     "output_type": "stream",
     "text": [
      "[Epoch 27]\t training loss = -2.767\t validation loss = -2.668\n"
     ]
    },
    {
     "name": "stderr",
     "output_type": "stream",
     "text": [
      "Epoch 28: 100%|██████████| 16/16 [00:00<00:00, 75.78batch/s]\n"
     ]
    },
    {
     "name": "stdout",
     "output_type": "stream",
     "text": [
      "[Epoch 28]\t training loss = -2.772\t validation loss = -2.671\n"
     ]
    },
    {
     "name": "stderr",
     "output_type": "stream",
     "text": [
      "Epoch 29: 100%|██████████| 16/16 [00:00<00:00, 49.81batch/s]\n"
     ]
    },
    {
     "name": "stdout",
     "output_type": "stream",
     "text": [
      "[Epoch 29]\t training loss = -2.778\t validation loss = -2.674\n"
     ]
    },
    {
     "name": "stderr",
     "output_type": "stream",
     "text": [
      "Epoch 30: 100%|██████████| 16/16 [00:00<00:00, 101.31batch/s]\n"
     ]
    },
    {
     "name": "stdout",
     "output_type": "stream",
     "text": [
      "[Epoch 30]\t training loss = -2.778\t validation loss = -2.677\n"
     ]
    },
    {
     "name": "stderr",
     "output_type": "stream",
     "text": [
      "Epoch 31: 100%|██████████| 16/16 [00:00<00:00, 72.16batch/s]\n"
     ]
    },
    {
     "name": "stdout",
     "output_type": "stream",
     "text": [
      "[Epoch 31]\t training loss = -2.784\t validation loss = -2.680\n"
     ]
    },
    {
     "name": "stderr",
     "output_type": "stream",
     "text": [
      "Epoch 32: 100%|██████████| 16/16 [00:00<00:00, 69.30batch/s]\n"
     ]
    },
    {
     "name": "stdout",
     "output_type": "stream",
     "text": [
      "[Epoch 32]\t training loss = -2.786\t validation loss = -2.683\n"
     ]
    },
    {
     "name": "stderr",
     "output_type": "stream",
     "text": [
      "Epoch 33: 100%|██████████| 16/16 [00:00<00:00, 74.30batch/s]\n"
     ]
    },
    {
     "name": "stdout",
     "output_type": "stream",
     "text": [
      "[Epoch 33]\t training loss = -2.789\t validation loss = -2.685\n"
     ]
    },
    {
     "name": "stderr",
     "output_type": "stream",
     "text": [
      "Epoch 34: 100%|██████████| 16/16 [00:00<00:00, 74.40batch/s]\n"
     ]
    },
    {
     "name": "stdout",
     "output_type": "stream",
     "text": [
      "[Epoch 34]\t training loss = -2.794\t validation loss = -2.687\n"
     ]
    },
    {
     "name": "stderr",
     "output_type": "stream",
     "text": [
      "Epoch 35: 100%|██████████| 16/16 [00:00<00:00, 73.97batch/s]\n"
     ]
    },
    {
     "name": "stdout",
     "output_type": "stream",
     "text": [
      "[Epoch 35]\t training loss = -2.796\t validation loss = -2.690\n"
     ]
    },
    {
     "name": "stderr",
     "output_type": "stream",
     "text": [
      "Epoch 36: 100%|██████████| 16/16 [00:00<00:00, 70.79batch/s]\n"
     ]
    },
    {
     "name": "stdout",
     "output_type": "stream",
     "text": [
      "[Epoch 36]\t training loss = -2.800\t validation loss = -2.691\n"
     ]
    },
    {
     "name": "stderr",
     "output_type": "stream",
     "text": [
      "Epoch 37: 100%|██████████| 16/16 [00:00<00:00, 74.34batch/s]\n"
     ]
    },
    {
     "name": "stdout",
     "output_type": "stream",
     "text": [
      "[Epoch 37]\t training loss = -2.802\t validation loss = -2.693\n"
     ]
    },
    {
     "name": "stderr",
     "output_type": "stream",
     "text": [
      "Epoch 38: 100%|██████████| 16/16 [00:00<00:00, 72.11batch/s]\n"
     ]
    },
    {
     "name": "stdout",
     "output_type": "stream",
     "text": [
      "[Epoch 38]\t training loss = -2.806\t validation loss = -2.695\n"
     ]
    },
    {
     "name": "stderr",
     "output_type": "stream",
     "text": [
      "Epoch 39: 100%|██████████| 16/16 [00:00<00:00, 68.97batch/s]\n"
     ]
    },
    {
     "name": "stdout",
     "output_type": "stream",
     "text": [
      "[Epoch 39]\t training loss = -2.809\t validation loss = -2.697\n"
     ]
    },
    {
     "name": "stderr",
     "output_type": "stream",
     "text": [
      "Epoch 40: 100%|██████████| 16/16 [00:00<00:00, 68.49batch/s]\n"
     ]
    },
    {
     "name": "stdout",
     "output_type": "stream",
     "text": [
      "[Epoch 40]\t training loss = -2.810\t validation loss = -2.698\n"
     ]
    },
    {
     "name": "stderr",
     "output_type": "stream",
     "text": [
      "Epoch 41: 100%|██████████| 16/16 [00:00<00:00, 74.57batch/s]\n"
     ]
    },
    {
     "name": "stdout",
     "output_type": "stream",
     "text": [
      "[Epoch 41]\t training loss = -2.813\t validation loss = -2.699\n"
     ]
    },
    {
     "name": "stderr",
     "output_type": "stream",
     "text": [
      "Epoch 42: 100%|██████████| 16/16 [00:00<00:00, 58.23batch/s]\n"
     ]
    },
    {
     "name": "stdout",
     "output_type": "stream",
     "text": [
      "[Epoch 42]\t training loss = -2.815\t validation loss = -2.701\n"
     ]
    },
    {
     "name": "stderr",
     "output_type": "stream",
     "text": [
      "Epoch 43: 100%|██████████| 16/16 [00:00<00:00, 95.68batch/s]\n"
     ]
    },
    {
     "name": "stdout",
     "output_type": "stream",
     "text": [
      "[Epoch 43]\t training loss = -2.820\t validation loss = -2.701\n"
     ]
    },
    {
     "name": "stderr",
     "output_type": "stream",
     "text": [
      "Epoch 44: 100%|██████████| 16/16 [00:00<00:00, 62.94batch/s]\n"
     ]
    },
    {
     "name": "stdout",
     "output_type": "stream",
     "text": [
      "[Epoch 44]\t training loss = -2.822\t validation loss = -2.703\n"
     ]
    },
    {
     "name": "stderr",
     "output_type": "stream",
     "text": [
      "Epoch 45: 100%|██████████| 16/16 [00:00<00:00, 71.31batch/s]\n"
     ]
    },
    {
     "name": "stdout",
     "output_type": "stream",
     "text": [
      "[Epoch 45]\t training loss = -2.823\t validation loss = -2.704\n"
     ]
    },
    {
     "name": "stderr",
     "output_type": "stream",
     "text": [
      "Epoch 46: 100%|██████████| 16/16 [00:00<00:00, 74.77batch/s]\n"
     ]
    },
    {
     "name": "stdout",
     "output_type": "stream",
     "text": [
      "[Epoch 46]\t training loss = -2.826\t validation loss = -2.704\n"
     ]
    },
    {
     "name": "stderr",
     "output_type": "stream",
     "text": [
      "Epoch 47: 100%|██████████| 16/16 [00:00<00:00, 74.25batch/s]\n"
     ]
    },
    {
     "name": "stdout",
     "output_type": "stream",
     "text": [
      "[Epoch 47]\t training loss = -2.828\t validation loss = -2.705\n"
     ]
    },
    {
     "name": "stderr",
     "output_type": "stream",
     "text": [
      "Epoch 48: 100%|██████████| 16/16 [00:00<00:00, 66.31batch/s]\n"
     ]
    },
    {
     "name": "stdout",
     "output_type": "stream",
     "text": [
      "[Epoch 48]\t training loss = -2.829\t validation loss = -2.706\n"
     ]
    },
    {
     "name": "stderr",
     "output_type": "stream",
     "text": [
      "Epoch 49: 100%|██████████| 16/16 [00:00<00:00, 69.98batch/s]\n"
     ]
    },
    {
     "name": "stdout",
     "output_type": "stream",
     "text": [
      "[Epoch 49]\t training loss = -2.832\t validation loss = -2.707\n"
     ]
    },
    {
     "name": "stderr",
     "output_type": "stream",
     "text": [
      "Epoch 50: 100%|██████████| 16/16 [00:00<00:00, 72.54batch/s]\n"
     ]
    },
    {
     "name": "stdout",
     "output_type": "stream",
     "text": [
      "[Epoch 50]\t training loss = -2.835\t validation loss = -2.708\n"
     ]
    },
    {
     "name": "stderr",
     "output_type": "stream",
     "text": [
      "Epoch 51: 100%|██████████| 16/16 [00:00<00:00, 75.42batch/s]\n"
     ]
    },
    {
     "name": "stdout",
     "output_type": "stream",
     "text": [
      "[Epoch 51]\t training loss = -2.835\t validation loss = -2.710\n"
     ]
    },
    {
     "name": "stderr",
     "output_type": "stream",
     "text": [
      "Epoch 52: 100%|██████████| 16/16 [00:00<00:00, 69.98batch/s]\n"
     ]
    },
    {
     "name": "stdout",
     "output_type": "stream",
     "text": [
      "[Epoch 52]\t training loss = -2.838\t validation loss = -2.710\n"
     ]
    },
    {
     "name": "stderr",
     "output_type": "stream",
     "text": [
      "Epoch 53: 100%|██████████| 16/16 [00:00<00:00, 72.99batch/s]\n"
     ]
    },
    {
     "name": "stdout",
     "output_type": "stream",
     "text": [
      "[Epoch 53]\t training loss = -2.840\t validation loss = -2.710\n"
     ]
    },
    {
     "name": "stderr",
     "output_type": "stream",
     "text": [
      "Epoch 54: 100%|██████████| 16/16 [00:00<00:00, 77.53batch/s]\n"
     ]
    },
    {
     "name": "stdout",
     "output_type": "stream",
     "text": [
      "[Epoch 54]\t training loss = -2.844\t validation loss = -2.711\n"
     ]
    },
    {
     "name": "stderr",
     "output_type": "stream",
     "text": [
      "Epoch 55: 100%|██████████| 16/16 [00:00<00:00, 46.14batch/s]\n"
     ]
    },
    {
     "name": "stdout",
     "output_type": "stream",
     "text": [
      "[Epoch 55]\t training loss = -2.845\t validation loss = -2.711\n"
     ]
    },
    {
     "name": "stderr",
     "output_type": "stream",
     "text": [
      "Epoch 56: 100%|██████████| 16/16 [00:00<00:00, 72.17batch/s]\n"
     ]
    },
    {
     "name": "stdout",
     "output_type": "stream",
     "text": [
      "[Epoch 56]\t training loss = -2.846\t validation loss = -2.712\n"
     ]
    },
    {
     "name": "stderr",
     "output_type": "stream",
     "text": [
      "Epoch 57: 100%|██████████| 16/16 [00:00<00:00, 68.33batch/s]\n"
     ]
    },
    {
     "name": "stdout",
     "output_type": "stream",
     "text": [
      "[Epoch 57]\t training loss = -2.848\t validation loss = -2.712\n"
     ]
    },
    {
     "name": "stderr",
     "output_type": "stream",
     "text": [
      "Epoch 58: 100%|██████████| 16/16 [00:00<00:00, 68.31batch/s]\n"
     ]
    },
    {
     "name": "stdout",
     "output_type": "stream",
     "text": [
      "[Epoch 58]\t training loss = -2.849\t validation loss = -2.714\n"
     ]
    },
    {
     "name": "stderr",
     "output_type": "stream",
     "text": [
      "Epoch 59: 100%|██████████| 16/16 [00:00<00:00, 63.65batch/s]\n"
     ]
    },
    {
     "name": "stdout",
     "output_type": "stream",
     "text": [
      "[Epoch 59]\t training loss = -2.852\t validation loss = -2.713\n"
     ]
    },
    {
     "name": "stderr",
     "output_type": "stream",
     "text": [
      "Epoch 60: 100%|██████████| 16/16 [00:00<00:00, 72.07batch/s]\n"
     ]
    },
    {
     "name": "stdout",
     "output_type": "stream",
     "text": [
      "[Epoch 60]\t training loss = -2.853\t validation loss = -2.713\n"
     ]
    },
    {
     "name": "stderr",
     "output_type": "stream",
     "text": [
      "Epoch 61: 100%|██████████| 16/16 [00:00<00:00, 74.14batch/s]\n"
     ]
    },
    {
     "name": "stdout",
     "output_type": "stream",
     "text": [
      "[Epoch 61]\t training loss = -2.856\t validation loss = -2.714\n"
     ]
    },
    {
     "name": "stderr",
     "output_type": "stream",
     "text": [
      "Epoch 62: 100%|██████████| 16/16 [00:00<00:00, 74.87batch/s]\n"
     ]
    },
    {
     "name": "stdout",
     "output_type": "stream",
     "text": [
      "[Epoch 62]\t training loss = -2.857\t validation loss = -2.714\n"
     ]
    },
    {
     "name": "stderr",
     "output_type": "stream",
     "text": [
      "Epoch 63: 100%|██████████| 16/16 [00:00<00:00, 66.08batch/s]\n"
     ]
    },
    {
     "name": "stdout",
     "output_type": "stream",
     "text": [
      "[Epoch 63]\t training loss = -2.858\t validation loss = -2.714\n"
     ]
    },
    {
     "name": "stderr",
     "output_type": "stream",
     "text": [
      "Epoch 64: 100%|██████████| 16/16 [00:00<00:00, 68.08batch/s]\n"
     ]
    },
    {
     "name": "stdout",
     "output_type": "stream",
     "text": [
      "[Epoch 64]\t training loss = -2.859\t validation loss = -2.715\n"
     ]
    },
    {
     "name": "stderr",
     "output_type": "stream",
     "text": [
      "Epoch 65: 100%|██████████| 16/16 [00:00<00:00, 71.63batch/s]\n"
     ]
    },
    {
     "name": "stdout",
     "output_type": "stream",
     "text": [
      "[Epoch 65]\t training loss = -2.862\t validation loss = -2.714\n"
     ]
    },
    {
     "name": "stderr",
     "output_type": "stream",
     "text": [
      "Epoch 66: 100%|██████████| 16/16 [00:00<00:00, 71.42batch/s]\n"
     ]
    },
    {
     "name": "stdout",
     "output_type": "stream",
     "text": [
      "[Epoch 66]\t training loss = -2.862\t validation loss = -2.716\n"
     ]
    },
    {
     "name": "stderr",
     "output_type": "stream",
     "text": [
      "Epoch 67: 100%|██████████| 16/16 [00:00<00:00, 63.87batch/s]\n"
     ]
    },
    {
     "name": "stdout",
     "output_type": "stream",
     "text": [
      "[Epoch 67]\t training loss = -2.865\t validation loss = -2.716\n"
     ]
    },
    {
     "name": "stderr",
     "output_type": "stream",
     "text": [
      "Epoch 68: 100%|██████████| 16/16 [00:00<00:00, 44.52batch/s]\n"
     ]
    },
    {
     "name": "stdout",
     "output_type": "stream",
     "text": [
      "[Epoch 68]\t training loss = -2.866\t validation loss = -2.714\n"
     ]
    },
    {
     "name": "stderr",
     "output_type": "stream",
     "text": [
      "Epoch 69: 100%|██████████| 16/16 [00:00<00:00, 68.45batch/s]\n"
     ]
    },
    {
     "name": "stdout",
     "output_type": "stream",
     "text": [
      "[Epoch 69]\t training loss = -2.868\t validation loss = -2.716\n"
     ]
    },
    {
     "name": "stderr",
     "output_type": "stream",
     "text": [
      "Epoch 70: 100%|██████████| 16/16 [00:00<00:00, 71.43batch/s]\n"
     ]
    },
    {
     "name": "stdout",
     "output_type": "stream",
     "text": [
      "[Epoch 70]\t training loss = -2.868\t validation loss = -2.716\n"
     ]
    },
    {
     "name": "stderr",
     "output_type": "stream",
     "text": [
      "Epoch 71: 100%|██████████| 16/16 [00:00<00:00, 69.02batch/s]\n"
     ]
    },
    {
     "name": "stdout",
     "output_type": "stream",
     "text": [
      "[Epoch 71]\t training loss = -2.872\t validation loss = -2.716\n"
     ]
    },
    {
     "name": "stderr",
     "output_type": "stream",
     "text": [
      "Epoch 72: 100%|██████████| 16/16 [00:00<00:00, 72.71batch/s]\n"
     ]
    },
    {
     "name": "stdout",
     "output_type": "stream",
     "text": [
      "[Epoch 72]\t training loss = -2.872\t validation loss = -2.715\n"
     ]
    },
    {
     "name": "stderr",
     "output_type": "stream",
     "text": [
      "Epoch 73: 100%|██████████| 16/16 [00:00<00:00, 74.92batch/s]\n"
     ]
    },
    {
     "name": "stdout",
     "output_type": "stream",
     "text": [
      "[Epoch 73]\t training loss = -2.873\t validation loss = -2.716\n"
     ]
    },
    {
     "name": "stderr",
     "output_type": "stream",
     "text": [
      "Epoch 74: 100%|██████████| 16/16 [00:00<00:00, 71.25batch/s]\n"
     ]
    },
    {
     "name": "stdout",
     "output_type": "stream",
     "text": [
      "[Epoch 74]\t training loss = -2.875\t validation loss = -2.716\n"
     ]
    }
   ],
   "source": [
    "lag = 1\n",
    "model.fit(traj_x, lag)\n",
    "model.save_model(f'snrv_{lag}.pt')"
   ]
  },
  {
   "cell_type": "code",
   "execution_count": 21,
   "id": "2ef65396",
   "metadata": {},
   "outputs": [
    {
     "data": {
      "image/png": "[encoded data removed]",
      "text/plain": [
       "<Figure size 640x480 with 1 Axes>"
      ]
     },
     "metadata": {},
     "output_type": "display_data"
    }
   ],
   "source": [
    "fig, ax = plt.subplots()\n",
    "ax.plot(np.arange(len(model.training_losses)), model.training_losses)\n",
    "ax.plot(np.arange(len(model.validation_losses)), model.validation_losses)\n",
    "ax.set_xlabel('epoch')\n",
    "ax.set_ylabel('loss')\n",
    "ax.legend(['training','validation'])\n",
    "fig.tight_layout()"
   ]
  },
  {
   "cell_type": "code",
   "execution_count": 22,
   "id": "5cedd0de",
   "metadata": {},
   "outputs": [],
   "source": [
    "evecs_SRV_unbiased = model.transform(traj_x.float()).cpu().detach().numpy()"
   ]
  },
  {
   "cell_type": "code",
   "execution_count": 23,
   "id": "cf09332f",
   "metadata": {},
   "outputs": [
    {
     "data": {
      "application/vnd.plotly.v1+json": {
       "config": {
        "plotlyServerURL": "https://plot.ly"
       },
       "data": [
        {
         "hovertemplate": "TIC1=%{x}<br>TIC2=%{y}<extra></extra>",
         "legendgroup": "",
         "marker": {
          "color": "#636efa",
          "symbol": "circle"
         },
         "mode": "markers",
         "name": "",
         "showlegend": false,
         "type": "scattergl",
         "x": {
          "bdata": "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",
          "dtype": "f4"
         },
         "xaxis": "x",
         "y": {
          "bdata": "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",
          "dtype": "f4"
         },
         "yaxis": "y"
        }
       ],
       "layout": {
        "height": 600,
        "legend": {
         "tracegroupgap": 0
        },
        "margin": {
         "t": 60
        },
        "template": {
         "data": {
          "bar": [
           {
            "error_x": {
             "color": "#2a3f5f"
            },
            "error_y": {
             "color": "#2a3f5f"
            },
            "marker": {
             "line": {
              "color": "#E5ECF6",
              "width": 0.5
             },
             "pattern": {
              "fillmode": "overlay",
              "size": 10,
              "solidity": 0.2
             }
            },
            "type": "bar"
           }
          ],
          "barpolar": [
           {
            "marker": {
             "line": {
              "color": "#E5ECF6",
              "width": 0.5
             },
             "pattern": {
              "fillmode": "overlay",
              "size": 10,
              "solidity": 0.2
             }
            },
            "type": "barpolar"
           }
          ],
          "carpet": [
           {
            "aaxis": {
             "endlinecolor": "#2a3f5f",
             "gridcolor": "white",
             "linecolor": "white",
             "minorgridcolor": "white",
             "startlinecolor": "#2a3f5f"
            },
            "baxis": {
             "endlinecolor": "#2a3f5f",
             "gridcolor": "white",
             "linecolor": "white",
             "minorgridcolor": "white",
             "startlinecolor": "#2a3f5f"
            },
            "type": "carpet"
           }
          ],
          "choropleth": [
           {
            "colorbar": {
             "outlinewidth": 0,
             "ticks": ""
            },
            "type": "choropleth"
           }
          ],
          "contour": [
           {
            "colorbar": {
             "outlinewidth": 0,
             "ticks": ""
            },
            "colorscale": [
             [
              0,
              "#0d0887"
             ],
             [
              0.1111111111111111,
              "#46039f"
             ],
             [
              0.2222222222222222,
              "#7201a8"
             ],
             [
              0.3333333333333333,
              "#9c179e"
             ],
             [
              0.4444444444444444,
              "#bd3786"
             ],
             [
              0.5555555555555556,
              "#d8576b"
             ],
             [
              0.6666666666666666,
              "#ed7953"
             ],
             [
              0.7777777777777778,
              "#fb9f3a"
             ],
             [
              0.8888888888888888,
              "#fdca26"
             ],
             [
              1,
              "#f0f921"
             ]
            ],
            "type": "contour"
           }
          ],
          "contourcarpet": [
           {
            "colorbar": {
             "outlinewidth": 0,
             "ticks": ""
            },
            "type": "contourcarpet"
           }
          ],
          "heatmap": [
           {
            "colorbar": {
             "outlinewidth": 0,
             "ticks": ""
            },
            "colorscale": [
             [
              0,
              "#0d0887"
             ],
             [
              0.1111111111111111,
              "#46039f"
             ],
             [
              0.2222222222222222,
              "#7201a8"
             ],
             [
              0.3333333333333333,
              "#9c179e"
             ],
             [
              0.4444444444444444,
              "#bd3786"
             ],
             [
              0.5555555555555556,
              "#d8576b"
             ],
             [
              0.6666666666666666,
              "#ed7953"
             ],
             [
              0.7777777777777778,
              "#fb9f3a"
             ],
             [
              0.8888888888888888,
              "#fdca26"
             ],
             [
              1,
              "#f0f921"
             ]
            ],
            "type": "heatmap"
           }
          ],
          "histogram": [
           {
            "marker": {
             "pattern": {
              "fillmode": "overlay",
              "size": 10,
              "solidity": 0.2
             }
            },
            "type": "histogram"
           }
          ],
          "histogram2d": [
           {
            "colorbar": {
             "outlinewidth": 0,
             "ticks": ""
            },
            "colorscale": [
             [
              0,
              "#0d0887"
             ],
             [
              0.1111111111111111,
              "#46039f"
             ],
             [
              0.2222222222222222,
              "#7201a8"
             ],
             [
              0.3333333333333333,
              "#9c179e"
             ],
             [
              0.4444444444444444,
              "#bd3786"
             ],
             [
              0.5555555555555556,
              "#d8576b"
             ],
             [
              0.6666666666666666,
              "#ed7953"
             ],
             [
              0.7777777777777778,
              "#fb9f3a"
             ],
             [
              0.8888888888888888,
              "#fdca26"
             ],
             [
              1,
              "#f0f921"
             ]
            ],
            "type": "histogram2d"
           }
          ],
          "histogram2dcontour": [
           {
            "colorbar": {
             "outlinewidth": 0,
             "ticks": ""
            },
            "colorscale": [
             [
              0,
              "#0d0887"
             ],
             [
              0.1111111111111111,
              "#46039f"
             ],
             [
              0.2222222222222222,
              "#7201a8"
             ],
             [
              0.3333333333333333,
              "#9c179e"
             ],
             [
              0.4444444444444444,
              "#bd3786"
             ],
             [
              0.5555555555555556,
              "#d8576b"
             ],
             [
              0.6666666666666666,
              "#ed7953"
             ],
             [
              0.7777777777777778,
              "#fb9f3a"
             ],
             [
              0.8888888888888888,
              "#fdca26"
             ],
             [
              1,
              "#f0f921"
             ]
            ],
            "type": "histogram2dcontour"
           }
          ],
          "mesh3d": [
           {
            "colorbar": {
             "outlinewidth": 0,
             "ticks": ""
            },
            "type": "mesh3d"
           }
          ],
          "parcoords": [
           {
            "line": {
             "colorbar": {
              "outlinewidth": 0,
              "ticks": ""
             }
            },
            "type": "parcoords"
           }
          ],
          "pie": [
           {
            "automargin": true,
            "type": "pie"
           }
          ],
          "scatter": [
           {
            "fillpattern": {
             "fillmode": "overlay",
             "size": 10,
             "solidity": 0.2
            },
            "type": "scatter"
           }
          ],
          "scatter3d": [
           {
            "line": {
             "colorbar": {
              "outlinewidth": 0,
              "ticks": ""
             }
            },
            "marker": {
             "colorbar": {
              "outlinewidth": 0,
              "ticks": ""
             }
            },
            "type": "scatter3d"
           }
          ],
          "scattercarpet": [
           {
            "marker": {
             "colorbar": {
              "outlinewidth": 0,
              "ticks": ""
             }
            },
            "type": "scattercarpet"
           }
          ],
          "scattergeo": [
           {
            "marker": {
             "colorbar": {
              "outlinewidth": 0,
              "ticks": ""
             }
            },
            "type": "scattergeo"
           }
          ],
          "scattergl": [
           {
            "marker": {
             "colorbar": {
              "outlinewidth": 0,
              "ticks": ""
             }
            },
            "type": "scattergl"
           }
          ],
          "scattermap": [
           {
            "marker": {
             "colorbar": {
              "outlinewidth": 0,
              "ticks": ""
             }
            },
            "type": "scattermap"
           }
          ],
          "scattermapbox": [
           {
            "marker": {
             "colorbar": {
              "outlinewidth": 0,
              "ticks": ""
             }
            },
            "type": "scattermapbox"
           }
          ],
          "scatterpolar": [
           {
            "marker": {
             "colorbar": {
              "outlinewidth": 0,
              "ticks": ""
             }
            },
            "type": "scatterpolar"
           }
          ],
          "scatterpolargl": [
           {
            "marker": {
             "colorbar": {
              "outlinewidth": 0,
              "ticks": ""
             }
            },
            "type": "scatterpolargl"
           }
          ],
          "scatterternary": [
           {
            "marker": {
             "colorbar": {
              "outlinewidth": 0,
              "ticks": ""
             }
            },
            "type": "scatterternary"
           }
          ],
          "surface": [
           {
            "colorbar": {
             "outlinewidth": 0,
             "ticks": ""
            },
            "colorscale": [
             [
              0,
              "#0d0887"
             ],
             [
              0.1111111111111111,
              "#46039f"
             ],
             [
              0.2222222222222222,
              "#7201a8"
             ],
             [
              0.3333333333333333,
              "#9c179e"
             ],
             [
              0.4444444444444444,
              "#bd3786"
             ],
             [
              0.5555555555555556,
              "#d8576b"
             ],
             [
              0.6666666666666666,
              "#ed7953"
             ],
             [
              0.7777777777777778,
              "#fb9f3a"
             ],
             [
              0.8888888888888888,
              "#fdca26"
             ],
             [
              1,
              "#f0f921"
             ]
            ],
            "type": "surface"
           }
          ],
          "table": [
           {
            "cells": {
             "fill": {
              "color": "#EBF0F8"
             },
             "line": {
              "color": "white"
             }
            },
            "header": {
             "fill": {
              "color": "#C8D4E3"
             },
             "line": {
              "color": "white"
             }
            },
            "type": "table"
           }
          ]
         },
         "layout": {
          "annotationdefaults": {
           "arrowcolor": "#2a3f5f",
           "arrowhead": 0,
           "arrowwidth": 1
          },
          "autotypenumbers": "strict",
          "coloraxis": {
           "colorbar": {
            "outlinewidth": 0,
            "ticks": ""
           }
          },
          "colorscale": {
           "diverging": [
            [
             0,
             "#8e0152"
            ],
            [
             0.1,
             "#c51b7d"
            ],
            [
             0.2,
             "#de77ae"
            ],
            [
             0.3,
             "#f1b6da"
            ],
            [
             0.4,
             "#fde0ef"
            ],
            [
             0.5,
             "#f7f7f7"
            ],
            [
             0.6,
             "#e6f5d0"
            ],
            [
             0.7,
             "#b8e186"
            ],
            [
             0.8,
             "#7fbc41"
            ],
            [
             0.9,
             "#4d9221"
            ],
            [
             1,
             "#276419"
            ]
           ],
           "sequential": [
            [
             0,
             "#0d0887"
            ],
            [
             0.1111111111111111,
             "#46039f"
            ],
            [
             0.2222222222222222,
             "#7201a8"
            ],
            [
             0.3333333333333333,
             "#9c179e"
            ],
            [
             0.4444444444444444,
             "#bd3786"
            ],
            [
             0.5555555555555556,
             "#d8576b"
            ],
            [
             0.6666666666666666,
             "#ed7953"
            ],
            [
             0.7777777777777778,
             "#fb9f3a"
            ],
            [
             0.8888888888888888,
             "#fdca26"
            ],
            [
             1,
             "#f0f921"
            ]
           ],
           "sequentialminus": [
            [
             0,
             "#0d0887"
            ],
            [
             0.1111111111111111,
             "#46039f"
            ],
            [
             0.2222222222222222,
             "#7201a8"
            ],
            [
             0.3333333333333333,
             "#9c179e"
            ],
            [
             0.4444444444444444,
             "#bd3786"
            ],
            [
             0.5555555555555556,
             "#d8576b"
            ],
            [
             0.6666666666666666,
             "#ed7953"
            ],
            [
             0.7777777777777778,
             "#fb9f3a"
            ],
            [
             0.8888888888888888,
             "#fdca26"
            ],
            [
             1,
             "#f0f921"
            ]
           ]
          },
          "colorway": [
           "#636efa",
           "#EF553B",
           "#00cc96",
           "#ab63fa",
           "#FFA15A",
           "#19d3f3",
           "#FF6692",
           "#B6E880",
           "#FF97FF",
           "#FECB52"
          ],
          "font": {
           "color": "#2a3f5f"
          },
          "geo": {
           "bgcolor": "white",
           "lakecolor": "white",
           "landcolor": "#E5ECF6",
           "showlakes": true,
           "showland": true,
           "subunitcolor": "white"
          },
          "hoverlabel": {
           "align": "left"
          },
          "hovermode": "closest",
          "mapbox": {
           "style": "light"
          },
          "paper_bgcolor": "white",
          "plot_bgcolor": "#E5ECF6",
          "polar": {
           "angularaxis": {
            "gridcolor": "white",
            "linecolor": "white",
            "ticks": ""
           },
           "bgcolor": "#E5ECF6",
           "radialaxis": {
            "gridcolor": "white",
            "linecolor": "white",
            "ticks": ""
           }
          },
          "scene": {
           "xaxis": {
            "backgroundcolor": "#E5ECF6",
            "gridcolor": "white",
            "gridwidth": 2,
            "linecolor": "white",
            "showbackground": true,
            "ticks": "",
            "zerolinecolor": "white"
           },
           "yaxis": {
            "backgroundcolor": "#E5ECF6",
            "gridcolor": "white",
            "gridwidth": 2,
            "linecolor": "white",
            "showbackground": true,
            "ticks": "",
            "zerolinecolor": "white"
           },
           "zaxis": {
            "backgroundcolor": "#E5ECF6",
            "gridcolor": "white",
            "gridwidth": 2,
            "linecolor": "white",
            "showbackground": true,
            "ticks": "",
            "zerolinecolor": "white"
           }
          },
          "shapedefaults": {
           "line": {
            "color": "#2a3f5f"
           }
          },
          "ternary": {
           "aaxis": {
            "gridcolor": "white",
            "linecolor": "white",
            "ticks": ""
           },
           "baxis": {
            "gridcolor": "white",
            "linecolor": "white",
            "ticks": ""
           },
           "bgcolor": "#E5ECF6",
           "caxis": {
            "gridcolor": "white",
            "linecolor": "white",
            "ticks": ""
           }
          },
          "title": {
           "x": 0.05
          },
          "xaxis": {
           "automargin": true,
           "gridcolor": "white",
           "linecolor": "white",
           "ticks": "",
           "title": {
            "standoff": 15
           },
           "zerolinecolor": "white",
           "zerolinewidth": 2
          },
          "yaxis": {
           "automargin": true,
           "gridcolor": "white",
           "linecolor": "white",
           "ticks": "",
           "title": {
            "standoff": 15
           },
           "zerolinecolor": "white",
           "zerolinewidth": 2
          }
         }
        },
        "width": 600,
        "xaxis": {
         "anchor": "y",
         "domain": [
          0,
          1
         ],
         "title": {
          "text": "TIC1"
         }
        },
        "yaxis": {
         "anchor": "x",
         "domain": [
          0,
          1
         ],
         "title": {
          "text": "TIC2"
         }
        }
       }
      }
     },
     "metadata": {},
     "output_type": "display_data"
    }
   ],
   "source": [
    "dataset = pd.DataFrame(evecs_SRV_unbiased, columns=[\"TIC0\", \"TIC1\", \"TIC2\"])\n",
    "px.scatter(dataset, x=\"TIC1\", y=\"TIC2\", width=600, height=600)"
   ]
  },
  {
   "cell_type": "code",
   "execution_count": 24,
   "id": "ecae7b20",
   "metadata": {},
   "outputs": [
    {
     "name": "stdout",
     "output_type": "stream",
     "text": [
      "TIC0   -0.550926\n",
      "TIC1    1.880856\n",
      "TIC2    2.101291\n",
      "dtype: float32\n",
      "TIC0   -1.359628\n",
      "TIC1   -1.593674\n",
      "TIC2   -1.784795\n",
      "dtype: float32\n"
     ]
    }
   ],
   "source": [
    "print(dataset.max())\n",
    "print(dataset.min())"
   ]
  },
  {
   "cell_type": "code",
   "execution_count": 26,
   "id": "b32bd47e",
   "metadata": {},
   "outputs": [],
   "source": [
    "class CV(torch.nn.Module):\n",
    "    def __init__(self, model, idx):\n",
    "        super().__init__()\n",
    "        self.model = model\n",
    "        self.idx = idx\n",
    "        self.register_buffer(\"i_list_d\", i_list_d)\n",
    "        self.register_buffer(\"j_list_d\", j_list_d)\n",
    "        self.register_buffer(\"i_list_dih\", i_list_dih)\n",
    "        self.register_buffer(\"j_list_dih\", j_list_dih)\n",
    "        self.register_buffer(\"k_list_dih\", k_list_dih)\n",
    "        self.register_buffer(\"l_list_dih\", l_list_dih)\n",
    "\n",
    "    def compute_mic_dist(self, pos, box):\n",
    "        d = pos[self.i_list_d, :] - pos[self.j_list_d, :]  # shape: [T, M, 3]\n",
    "        d = d - box * torch.round(d / box)  # apply MIC\n",
    "        return torch.norm(d, dim=-1)  # shape: [T, M]\n",
    "    \n",
    "    def compute_mic_angles(self, pos, box):\n",
    "        # pos: [T, N, 3]\n",
    "        # box: [T, 1, 3]\n",
    "        # i, j, k: [M]\n",
    "        \n",
    "        # MIC vector: ri - rj\n",
    "        v1 = pos[self.i_list_a, :] - pos[self.j_list_a, :]  # [T, M, 3]\n",
    "        v1 = v1 - box * torch.round(v1 / box)\n",
    "\n",
    "        # MIC vector: rk - rj\n",
    "        v2 = pos[self.k_list_a, :] - pos[self.j_list_a, :]\n",
    "        v2 = v2 - box * torch.round(v2 / box)\n",
    "\n",
    "        # Normalize\n",
    "        v1_norm = torch.nn.functional.normalize(v1, dim=-1)\n",
    "        v2_norm = torch.nn.functional.normalize(v2, dim=-1)\n",
    "\n",
    "        # Dot product and angle\n",
    "        cos_theta = (v1_norm * v2_norm).sum(dim=-1).clamp(-1.0, 1.0)\n",
    "        angles = torch.acos(cos_theta)  # [T, M], in radians\n",
    "\n",
    "        return angles\n",
    "    \n",
    "    def compute_mic_dihedrals(self, pos, box):\n",
    "        # pos: [T, N, 3]\n",
    "        # box: [T, 1, 3] (broadcastable)\n",
    "        # i, j, k, l: [M]\n",
    "\n",
    "        # MIC vectors\n",
    "        b1 = pos[self.j_list_dih, :] - pos[self.i_list_dih, :]\n",
    "        b1 = b1 - box * torch.round(b1 / box)\n",
    "\n",
    "        b2 = pos[self.k_list_dih, :] - pos[self.j_list_dih, :]\n",
    "        b2 = b2 - box * torch.round(b2 / box)\n",
    "\n",
    "        b3 = pos[self.l_list_dih, :] - pos[self.k_list_dih, :]\n",
    "        b3 = b3 - box * torch.round(b3 / box)\n",
    "\n",
    "        # Normalize b2 for later\n",
    "        b2_norm = torch.nn.functional.normalize(b2, dim=-1)\n",
    "\n",
    "        # Compute normals to the planes\n",
    "        n1 = torch.cross(b1, b2, dim=-1)  # plane i-j-k\n",
    "        n2 = torch.cross(b2, b3, dim=-1)  # plane j-k-l\n",
    "\n",
    "        # Normalize\n",
    "        n1 = torch.nn.functional.normalize(n1, dim=-1)\n",
    "        n2 = torch.nn.functional.normalize(n2, dim=-1)\n",
    "\n",
    "        # Compute cosine and sine terms\n",
    "        cos_phi = (n1 * n2).sum(dim=-1).clamp(-1.0, 1.0)\n",
    "        sin_phi = (torch.cross(n1, n2, dim=-1) * b2_norm).sum(dim=-1)\n",
    "\n",
    "        # Final torsion angle\n",
    "        dihedrals = torch.atan2(sin_phi, cos_phi)  # shape: [T, M], radians\n",
    "\n",
    "        return dihedrals\n",
    "\n",
    "    def forward(self, positions, boxvectors):\n",
    "        \"\"\"The forward method returns the energy computed from positions.\n",
    "\n",
    "        Parameters\n",
    "        ----------\n",
    "        positions : torch.Tensor with shape (nparticles, 3)\n",
    "           positions[i,k] is the position (in nanometers) of spatial dimension k of particle i\n",
    "\n",
    "        Returns\n",
    "        -------\n",
    "        potential : torch.Scalar\n",
    "           The potential energy (in kJ/mol)\n",
    "        \"\"\"\n",
    "        boxsize = boxvectors.diag()\n",
    "        feat_d = self.compute_mic_dist(positions, boxsize)\n",
    "        feat_dih = self.compute_mic_dihedrals(positions, boxsize)\n",
    "        feats = torch.concat([feat_d, feat_dih])\n",
    "        evecs = self.model.transform(feats.view(1, -1))\n",
    "        CV = evecs[0][self.idx]\n",
    "        return CV\n",
    "\n",
    "model_output_1 = CV(model, 1)\n",
    "model_output_2 = CV(model, 2)\n",
    "\n",
    "torch.jit.script(model_output_1).save('cv1.pt')\n",
    "torch.jit.script(model_output_2).save('cv2.pt')"
   ]
  },
  {
   "cell_type": "code",
   "execution_count": null,
   "id": "a7677aa6",
   "metadata": {},
   "outputs": [],
   "source": []
  }
 ],
 "metadata": {
  "kernelspec": {
   "display_name": "psrv",
   "language": "python",
   "name": "python3"
  },
  "language_info": {
   "codemirror_mode": {
    "name": "ipython",
    "version": 3
   },
   "file_extension": ".py",
   "mimetype": "text/x-python",
   "name": "python",
   "nbconvert_exporter": "python",
   "pygments_lexer": "ipython3",
   "version": "3.9.18"
  }
 },
 "nbformat": 4,
 "nbformat_minor": 5
}
