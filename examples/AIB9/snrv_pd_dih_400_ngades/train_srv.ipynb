{
 "cells": [
  {
   "cell_type": "code",
   "execution_count": 1,
   "id": "de3ba76f",
   "metadata": {},
   "outputs": [],
   "source": [
    "import numpy as np\n",
    "import matplotlib.pyplot as plt\n",
    "import plotly.express as px\n",
    "import pandas as pd\n",
    "import mdtraj as md\n",
    "\n",
    "import torch\n",
    "\n",
    "from snrv import Snrv"
   ]
  },
  {
   "cell_type": "code",
   "execution_count": 2,
   "id": "9f998416",
   "metadata": {},
   "outputs": [],
   "source": [
    "traj = md.load(\"../traj_2000_2500.dcd\", top=\"../aib9.gro\")\n",
    "biasing_atom_ids = np.array([atom.index for atom in traj.topology.atoms if atom.residue.name != 'HOH'])\n",
    "feat_indices = np.array([atom.index for atom in traj.topology.atoms if (atom.name == 'CA' or atom.name == 'CAY' or atom.name == 'CAT')])\n",
    "pos = torch.from_numpy(traj.xyz)\n",
    "box = torch.from_numpy(np.asarray([np.diag(i) for i in traj.unitcell_vectors])).view(-1, 1, 3)"
   ]
  },
  {
   "cell_type": "code",
   "execution_count": 3,
   "id": "bc62ade1",
   "metadata": {},
   "outputs": [],
   "source": [
    "def generate_pair_indices_from_list(index_list):\n",
    "    i_list = []\n",
    "    j_list = []\n",
    "    for i in range(len(index_list)):\n",
    "        for j in range(i + 1, len(index_list)):\n",
    "            i_list.append(index_list[i])\n",
    "            j_list.append(index_list[j])\n",
    "    return torch.tensor(i_list), torch.tensor(j_list)"
   ]
  },
  {
   "cell_type": "code",
   "execution_count": 4,
   "id": "67de9e1d",
   "metadata": {},
   "outputs": [],
   "source": [
    "i_list_d, j_list_d = generate_pair_indices_from_list(feat_indices)"
   ]
  },
  {
   "cell_type": "code",
   "execution_count": 5,
   "id": "e61c3ded",
   "metadata": {},
   "outputs": [],
   "source": [
    "def compute_mic_dist(pos, box, i, j):\n",
    "    d = pos[:, i, :] - pos[:, j, :]  # shape: [T, M, 3]\n",
    "    d = d - box * torch.round(d / box)  # apply MIC\n",
    "    return torch.norm(d, dim=-1)  # shape: [T, M]"
   ]
  },
  {
   "cell_type": "code",
   "execution_count": 6,
   "id": "2bea652c",
   "metadata": {},
   "outputs": [],
   "source": [
    "traj_x_d = compute_mic_dist(pos, box, i_list_d, j_list_d)"
   ]
  },
  {
   "cell_type": "code",
   "execution_count": 7,
   "id": "dfb27771",
   "metadata": {},
   "outputs": [],
   "source": [
    "def generate_dihedral_indices_linear(index_list):\n",
    "    i_list = []\n",
    "    j_list = []\n",
    "    k_list = []\n",
    "    l_list = []\n",
    "\n",
    "    for n in range(len(index_list) - 3):\n",
    "        i_list.append(index_list[n])\n",
    "        j_list.append(index_list[n + 1])\n",
    "        k_list.append(index_list[n + 2])\n",
    "        l_list.append(index_list[n + 3])\n",
    "\n",
    "    return (\n",
    "        torch.tensor(i_list, dtype=torch.long),\n",
    "        torch.tensor(j_list, dtype=torch.long),\n",
    "        torch.tensor(k_list, dtype=torch.long),\n",
    "        torch.tensor(l_list, dtype=torch.long),\n",
    "    )"
   ]
  },
  {
   "cell_type": "code",
   "execution_count": 8,
   "id": "4aecea78",
   "metadata": {},
   "outputs": [],
   "source": [
    "i_list_dih, j_list_dih, k_list_dih, l_list_dih = generate_dihedral_indices_linear(feat_indices)"
   ]
  },
  {
   "cell_type": "code",
   "execution_count": 9,
   "id": "51bed899",
   "metadata": {},
   "outputs": [],
   "source": [
    "def compute_mic_dihedrals(pos, box, i, j, k, l):\n",
    "    # pos: [T, N, 3]\n",
    "    # box: [T, 1, 3] (broadcastable)\n",
    "    # i, j, k, l: [M]\n",
    "\n",
    "    # MIC vectors\n",
    "    b1 = pos[:, j, :] - pos[:, i, :]\n",
    "    b1 = b1 - box * torch.round(b1 / box)\n",
    "\n",
    "    b2 = pos[:, k, :] - pos[:, j, :]\n",
    "    b2 = b2 - box * torch.round(b2 / box)\n",
    "\n",
    "    b3 = pos[:, l, :] - pos[:, k, :]\n",
    "    b3 = b3 - box * torch.round(b3 / box)\n",
    "\n",
    "    # Normalize b2 for later\n",
    "    b2_norm = torch.nn.functional.normalize(b2, dim=-1)\n",
    "\n",
    "    # Compute normals to the planes\n",
    "    n1 = torch.cross(b1, b2, dim=-1)  # plane i-j-k\n",
    "    n2 = torch.cross(b2, b3, dim=-1)  # plane j-k-l\n",
    "\n",
    "    # Normalize\n",
    "    n1 = torch.nn.functional.normalize(n1, dim=-1)\n",
    "    n2 = torch.nn.functional.normalize(n2, dim=-1)\n",
    "\n",
    "    # Compute cosine and sine terms\n",
    "    cos_phi = (n1 * n2).sum(dim=-1).clamp(-1.0, 1.0)\n",
    "    sin_phi = (torch.cross(n1, n2, dim=-1) * b2_norm).sum(dim=-1)\n",
    "\n",
    "    # Final torsion angle\n",
    "    dihedrals = torch.atan2(sin_phi, cos_phi)  # shape: [T, M], radians\n",
    "\n",
    "    return dihedrals"
   ]
  },
  {
   "cell_type": "code",
   "execution_count": 10,
   "id": "7d71ba65",
   "metadata": {},
   "outputs": [],
   "source": [
    "traj_x_dih = compute_mic_dihedrals(pos, box, i_list_dih, j_list_dih, k_list_dih, l_list_dih)"
   ]
  },
  {
   "cell_type": "code",
   "execution_count": 11,
   "id": "50e04b25",
   "metadata": {},
   "outputs": [],
   "source": [
    "traj_x = torch.concat([traj_x_d, traj_x_dih], dim=1)"
   ]
  },
  {
   "cell_type": "code",
   "execution_count": 12,
   "id": "2529c848",
   "metadata": {},
   "outputs": [
    {
     "data": {
      "text/plain": [
       "torch.Size([10000, 63])"
      ]
     },
     "execution_count": 12,
     "metadata": {},
     "output_type": "execute_result"
    }
   ],
   "source": [
    "traj_x.shape"
   ]
  },
  {
   "cell_type": "code",
   "execution_count": 13,
   "id": "845a5418",
   "metadata": {},
   "outputs": [],
   "source": [
    "input_size = traj_x.size()[1]\n",
    "output_size = 3\n",
    "hidden_depth = 3\n",
    "hidden_size = 500\n",
    "batch_norm = True\n",
    "dropout_rate = 0.\n",
    "lr = 1E-5\n",
    "weight_decay = 0.\n",
    "val_frac = 0.20\n",
    "n_epochs = 75\n",
    "batch_size = 500\n",
    "VAMPdegree = 2\n",
    "is_reversible = True\n",
    "num_workers = 0\n",
    "\n",
    "model = Snrv(input_size, output_size, hidden_depth=hidden_depth, hidden_size=hidden_size,\n",
    "            batch_norm=batch_norm, dropout_rate=dropout_rate, lr=lr, weight_decay=weight_decay, \n",
    "            val_frac=val_frac, n_epochs=n_epochs, batch_size=batch_size, \n",
    "            VAMPdegree=VAMPdegree, is_reversible=is_reversible, num_workers=num_workers, device=\"cuda\")\n",
    "model = model.to(\"cuda\")"
   ]
  },
  {
   "cell_type": "code",
   "execution_count": 14,
   "id": "6a3c8a69",
   "metadata": {},
   "outputs": [
    {
     "name": "stderr",
     "output_type": "stream",
     "text": [
      "Epoch 0: 100%|██████████| 16/16 [00:00<00:00, 31.98batch/s]\n"
     ]
    },
    {
     "name": "stdout",
     "output_type": "stream",
     "text": [
      "[Epoch 0]\t training loss = -1.491\t validation loss = -1.545\n"
     ]
    },
    {
     "name": "stderr",
     "output_type": "stream",
     "text": [
      "Epoch 1: 100%|██████████| 16/16 [00:00<00:00, 96.10batch/s]\n"
     ]
    },
    {
     "name": "stdout",
     "output_type": "stream",
     "text": [
      "[Epoch 1]\t training loss = -1.704\t validation loss = -1.695\n"
     ]
    },
    {
     "name": "stderr",
     "output_type": "stream",
     "text": [
      "Epoch 2: 100%|██████████| 16/16 [00:00<00:00, 95.66batch/s]\n"
     ]
    },
    {
     "name": "stdout",
     "output_type": "stream",
     "text": [
      "[Epoch 2]\t training loss = -1.858\t validation loss = -1.826\n"
     ]
    },
    {
     "name": "stderr",
     "output_type": "stream",
     "text": [
      "Epoch 3: 100%|██████████| 16/16 [00:00<00:00, 99.40batch/s] \n"
     ]
    },
    {
     "name": "stdout",
     "output_type": "stream",
     "text": [
      "[Epoch 3]\t training loss = -1.995\t validation loss = -1.957\n"
     ]
    },
    {
     "name": "stderr",
     "output_type": "stream",
     "text": [
      "Epoch 4: 100%|██████████| 16/16 [00:00<00:00, 94.77batch/s]\n"
     ]
    },
    {
     "name": "stdout",
     "output_type": "stream",
     "text": [
      "[Epoch 4]\t training loss = -2.122\t validation loss = -2.087\n"
     ]
    },
    {
     "name": "stderr",
     "output_type": "stream",
     "text": [
      "Epoch 5: 100%|██████████| 16/16 [00:00<00:00, 97.47batch/s]\n"
     ]
    },
    {
     "name": "stdout",
     "output_type": "stream",
     "text": [
      "[Epoch 5]\t training loss = -2.230\t validation loss = -2.184\n"
     ]
    },
    {
     "name": "stderr",
     "output_type": "stream",
     "text": [
      "Epoch 6: 100%|██████████| 16/16 [00:00<00:00, 96.88batch/s]\n"
     ]
    },
    {
     "name": "stdout",
     "output_type": "stream",
     "text": [
      "[Epoch 6]\t training loss = -2.314\t validation loss = -2.261\n"
     ]
    },
    {
     "name": "stderr",
     "output_type": "stream",
     "text": [
      "Epoch 7: 100%|██████████| 16/16 [00:00<00:00, 100.33batch/s]\n"
     ]
    },
    {
     "name": "stdout",
     "output_type": "stream",
     "text": [
      "[Epoch 7]\t training loss = -2.376\t validation loss = -2.323\n"
     ]
    },
    {
     "name": "stderr",
     "output_type": "stream",
     "text": [
      "Epoch 8: 100%|██████████| 16/16 [00:00<00:00, 94.44batch/s] \n"
     ]
    },
    {
     "name": "stdout",
     "output_type": "stream",
     "text": [
      "[Epoch 8]\t training loss = -2.427\t validation loss = -2.374\n"
     ]
    },
    {
     "name": "stderr",
     "output_type": "stream",
     "text": [
      "Epoch 9: 100%|██████████| 16/16 [00:00<00:00, 112.25batch/s]\n"
     ]
    },
    {
     "name": "stdout",
     "output_type": "stream",
     "text": [
      "[Epoch 9]\t training loss = -2.470\t validation loss = -2.420\n"
     ]
    },
    {
     "name": "stderr",
     "output_type": "stream",
     "text": [
      "Epoch 10: 100%|██████████| 16/16 [00:00<00:00, 114.23batch/s]\n"
     ]
    },
    {
     "name": "stdout",
     "output_type": "stream",
     "text": [
      "[Epoch 10]\t training loss = -2.505\t validation loss = -2.457\n"
     ]
    },
    {
     "name": "stderr",
     "output_type": "stream",
     "text": [
      "Epoch 11: 100%|██████████| 16/16 [00:00<00:00, 111.86batch/s]\n"
     ]
    },
    {
     "name": "stdout",
     "output_type": "stream",
     "text": [
      "[Epoch 11]\t training loss = -2.532\t validation loss = -2.484\n"
     ]
    },
    {
     "name": "stderr",
     "output_type": "stream",
     "text": [
      "Epoch 12: 100%|██████████| 16/16 [00:00<00:00, 100.52batch/s]\n"
     ]
    },
    {
     "name": "stdout",
     "output_type": "stream",
     "text": [
      "[Epoch 12]\t training loss = -2.556\t validation loss = -2.509\n"
     ]
    },
    {
     "name": "stderr",
     "output_type": "stream",
     "text": [
      "Epoch 13: 100%|██████████| 16/16 [00:00<00:00, 96.61batch/s]\n"
     ]
    },
    {
     "name": "stdout",
     "output_type": "stream",
     "text": [
      "[Epoch 13]\t training loss = -2.574\t validation loss = -2.530\n"
     ]
    },
    {
     "name": "stderr",
     "output_type": "stream",
     "text": [
      "Epoch 14: 100%|██████████| 16/16 [00:00<00:00, 90.83batch/s]\n"
     ]
    },
    {
     "name": "stdout",
     "output_type": "stream",
     "text": [
      "[Epoch 14]\t training loss = -2.590\t validation loss = -2.544\n"
     ]
    },
    {
     "name": "stderr",
     "output_type": "stream",
     "text": [
      "Epoch 15: 100%|██████████| 16/16 [00:00<00:00, 90.24batch/s]\n"
     ]
    },
    {
     "name": "stdout",
     "output_type": "stream",
     "text": [
      "[Epoch 15]\t training loss = -2.603\t validation loss = -2.557\n"
     ]
    },
    {
     "name": "stderr",
     "output_type": "stream",
     "text": [
      "Epoch 16: 100%|██████████| 16/16 [00:00<00:00, 98.55batch/s] \n"
     ]
    },
    {
     "name": "stdout",
     "output_type": "stream",
     "text": [
      "[Epoch 16]\t training loss = -2.615\t validation loss = -2.567\n"
     ]
    },
    {
     "name": "stderr",
     "output_type": "stream",
     "text": [
      "Epoch 17: 100%|██████████| 16/16 [00:00<00:00, 93.81batch/s]\n"
     ]
    },
    {
     "name": "stdout",
     "output_type": "stream",
     "text": [
      "[Epoch 17]\t training loss = -2.625\t validation loss = -2.577\n"
     ]
    },
    {
     "name": "stderr",
     "output_type": "stream",
     "text": [
      "Epoch 18: 100%|██████████| 16/16 [00:00<00:00, 97.10batch/s]\n"
     ]
    },
    {
     "name": "stdout",
     "output_type": "stream",
     "text": [
      "[Epoch 18]\t training loss = -2.633\t validation loss = -2.584\n"
     ]
    },
    {
     "name": "stderr",
     "output_type": "stream",
     "text": [
      "Epoch 19: 100%|██████████| 16/16 [00:00<00:00, 100.24batch/s]\n"
     ]
    },
    {
     "name": "stdout",
     "output_type": "stream",
     "text": [
      "[Epoch 19]\t training loss = -2.642\t validation loss = -2.591\n"
     ]
    },
    {
     "name": "stderr",
     "output_type": "stream",
     "text": [
      "Epoch 20: 100%|██████████| 16/16 [00:00<00:00, 100.18batch/s]\n"
     ]
    },
    {
     "name": "stdout",
     "output_type": "stream",
     "text": [
      "[Epoch 20]\t training loss = -2.649\t validation loss = -2.597\n"
     ]
    },
    {
     "name": "stderr",
     "output_type": "stream",
     "text": [
      "Epoch 21: 100%|██████████| 16/16 [00:00<00:00, 100.33batch/s]\n"
     ]
    },
    {
     "name": "stdout",
     "output_type": "stream",
     "text": [
      "[Epoch 21]\t training loss = -2.656\t validation loss = -2.602\n"
     ]
    },
    {
     "name": "stderr",
     "output_type": "stream",
     "text": [
      "Epoch 22: 100%|██████████| 16/16 [00:00<00:00, 93.92batch/s] \n"
     ]
    },
    {
     "name": "stdout",
     "output_type": "stream",
     "text": [
      "[Epoch 22]\t training loss = -2.663\t validation loss = -2.609\n"
     ]
    },
    {
     "name": "stderr",
     "output_type": "stream",
     "text": [
      "Epoch 23: 100%|██████████| 16/16 [00:00<00:00, 98.23batch/s]\n"
     ]
    },
    {
     "name": "stdout",
     "output_type": "stream",
     "text": [
      "[Epoch 23]\t training loss = -2.669\t validation loss = -2.612\n"
     ]
    },
    {
     "name": "stderr",
     "output_type": "stream",
     "text": [
      "Epoch 24: 100%|██████████| 16/16 [00:00<00:00, 97.46batch/s]\n"
     ]
    },
    {
     "name": "stdout",
     "output_type": "stream",
     "text": [
      "[Epoch 24]\t training loss = -2.673\t validation loss = -2.616\n"
     ]
    },
    {
     "name": "stderr",
     "output_type": "stream",
     "text": [
      "Epoch 25: 100%|██████████| 16/16 [00:00<00:00, 97.15batch/s]\n"
     ]
    },
    {
     "name": "stdout",
     "output_type": "stream",
     "text": [
      "[Epoch 25]\t training loss = -2.681\t validation loss = -2.620\n"
     ]
    },
    {
     "name": "stderr",
     "output_type": "stream",
     "text": [
      "Epoch 26: 100%|██████████| 16/16 [00:00<00:00, 99.59batch/s] \n"
     ]
    },
    {
     "name": "stdout",
     "output_type": "stream",
     "text": [
      "[Epoch 26]\t training loss = -2.686\t validation loss = -2.623\n"
     ]
    },
    {
     "name": "stderr",
     "output_type": "stream",
     "text": [
      "Epoch 27: 100%|██████████| 16/16 [00:00<00:00, 96.21batch/s]\n"
     ]
    },
    {
     "name": "stdout",
     "output_type": "stream",
     "text": [
      "[Epoch 27]\t training loss = -2.691\t validation loss = -2.625\n"
     ]
    },
    {
     "name": "stderr",
     "output_type": "stream",
     "text": [
      "Epoch 28: 100%|██████████| 16/16 [00:00<00:00, 87.22batch/s]\n"
     ]
    },
    {
     "name": "stdout",
     "output_type": "stream",
     "text": [
      "[Epoch 28]\t training loss = -2.696\t validation loss = -2.628\n"
     ]
    },
    {
     "name": "stderr",
     "output_type": "stream",
     "text": [
      "Epoch 29: 100%|██████████| 16/16 [00:00<00:00, 99.05batch/s]\n"
     ]
    },
    {
     "name": "stdout",
     "output_type": "stream",
     "text": [
      "[Epoch 29]\t training loss = -2.699\t validation loss = -2.630\n"
     ]
    },
    {
     "name": "stderr",
     "output_type": "stream",
     "text": [
      "Epoch 30: 100%|██████████| 16/16 [00:00<00:00, 100.18batch/s]\n"
     ]
    },
    {
     "name": "stdout",
     "output_type": "stream",
     "text": [
      "[Epoch 30]\t training loss = -2.704\t validation loss = -2.632\n"
     ]
    },
    {
     "name": "stderr",
     "output_type": "stream",
     "text": [
      "Epoch 31: 100%|██████████| 16/16 [00:00<00:00, 98.41batch/s]\n"
     ]
    },
    {
     "name": "stdout",
     "output_type": "stream",
     "text": [
      "[Epoch 31]\t training loss = -2.706\t validation loss = -2.634\n"
     ]
    },
    {
     "name": "stderr",
     "output_type": "stream",
     "text": [
      "Epoch 32: 100%|██████████| 16/16 [00:00<00:00, 98.94batch/s] \n"
     ]
    },
    {
     "name": "stdout",
     "output_type": "stream",
     "text": [
      "[Epoch 32]\t training loss = -2.711\t validation loss = -2.637\n"
     ]
    },
    {
     "name": "stderr",
     "output_type": "stream",
     "text": [
      "Epoch 33: 100%|██████████| 16/16 [00:00<00:00, 100.60batch/s]\n"
     ]
    },
    {
     "name": "stdout",
     "output_type": "stream",
     "text": [
      "[Epoch 33]\t training loss = -2.717\t validation loss = -2.638\n"
     ]
    },
    {
     "name": "stderr",
     "output_type": "stream",
     "text": [
      "Epoch 34: 100%|██████████| 16/16 [00:00<00:00, 108.49batch/s]\n"
     ]
    },
    {
     "name": "stdout",
     "output_type": "stream",
     "text": [
      "[Epoch 34]\t training loss = -2.719\t validation loss = -2.640\n"
     ]
    },
    {
     "name": "stderr",
     "output_type": "stream",
     "text": [
      "Epoch 35: 100%|██████████| 16/16 [00:00<00:00, 103.38batch/s]\n"
     ]
    },
    {
     "name": "stdout",
     "output_type": "stream",
     "text": [
      "[Epoch 35]\t training loss = -2.722\t validation loss = -2.641\n"
     ]
    },
    {
     "name": "stderr",
     "output_type": "stream",
     "text": [
      "Epoch 36: 100%|██████████| 16/16 [00:00<00:00, 105.40batch/s]\n"
     ]
    },
    {
     "name": "stdout",
     "output_type": "stream",
     "text": [
      "[Epoch 36]\t training loss = -2.728\t validation loss = -2.643\n"
     ]
    },
    {
     "name": "stderr",
     "output_type": "stream",
     "text": [
      "Epoch 37: 100%|██████████| 16/16 [00:00<00:00, 106.32batch/s]\n"
     ]
    },
    {
     "name": "stdout",
     "output_type": "stream",
     "text": [
      "[Epoch 37]\t training loss = -2.731\t validation loss = -2.643\n"
     ]
    },
    {
     "name": "stderr",
     "output_type": "stream",
     "text": [
      "Epoch 38: 100%|██████████| 16/16 [00:00<00:00, 114.90batch/s]\n"
     ]
    },
    {
     "name": "stdout",
     "output_type": "stream",
     "text": [
      "[Epoch 38]\t training loss = -2.733\t validation loss = -2.645\n"
     ]
    },
    {
     "name": "stderr",
     "output_type": "stream",
     "text": [
      "Epoch 39: 100%|██████████| 16/16 [00:00<00:00, 112.46batch/s]\n"
     ]
    },
    {
     "name": "stdout",
     "output_type": "stream",
     "text": [
      "[Epoch 39]\t training loss = -2.736\t validation loss = -2.645\n"
     ]
    },
    {
     "name": "stderr",
     "output_type": "stream",
     "text": [
      "Epoch 40: 100%|██████████| 16/16 [00:00<00:00, 113.53batch/s]\n"
     ]
    },
    {
     "name": "stdout",
     "output_type": "stream",
     "text": [
      "[Epoch 40]\t training loss = -2.739\t validation loss = -2.647\n"
     ]
    },
    {
     "name": "stderr",
     "output_type": "stream",
     "text": [
      "Epoch 41: 100%|██████████| 16/16 [00:00<00:00, 90.17batch/s]\n"
     ]
    },
    {
     "name": "stdout",
     "output_type": "stream",
     "text": [
      "[Epoch 41]\t training loss = -2.742\t validation loss = -2.647\n"
     ]
    },
    {
     "name": "stderr",
     "output_type": "stream",
     "text": [
      "Epoch 42: 100%|██████████| 16/16 [00:00<00:00, 92.84batch/s]\n"
     ]
    },
    {
     "name": "stdout",
     "output_type": "stream",
     "text": [
      "[Epoch 42]\t training loss = -2.745\t validation loss = -2.647\n"
     ]
    },
    {
     "name": "stderr",
     "output_type": "stream",
     "text": [
      "Epoch 43: 100%|██████████| 16/16 [00:00<00:00, 83.11batch/s]\n"
     ]
    },
    {
     "name": "stdout",
     "output_type": "stream",
     "text": [
      "[Epoch 43]\t training loss = -2.749\t validation loss = -2.649\n"
     ]
    },
    {
     "name": "stderr",
     "output_type": "stream",
     "text": [
      "Epoch 44: 100%|██████████| 16/16 [00:00<00:00, 92.73batch/s]\n"
     ]
    },
    {
     "name": "stdout",
     "output_type": "stream",
     "text": [
      "[Epoch 44]\t training loss = -2.750\t validation loss = -2.648\n"
     ]
    },
    {
     "name": "stderr",
     "output_type": "stream",
     "text": [
      "Epoch 45: 100%|██████████| 16/16 [00:00<00:00, 94.47batch/s]\n"
     ]
    },
    {
     "name": "stdout",
     "output_type": "stream",
     "text": [
      "[Epoch 45]\t training loss = -2.752\t validation loss = -2.649\n"
     ]
    },
    {
     "name": "stderr",
     "output_type": "stream",
     "text": [
      "Epoch 46: 100%|██████████| 16/16 [00:00<00:00, 87.90batch/s]\n"
     ]
    },
    {
     "name": "stdout",
     "output_type": "stream",
     "text": [
      "[Epoch 46]\t training loss = -2.758\t validation loss = -2.648\n"
     ]
    },
    {
     "name": "stderr",
     "output_type": "stream",
     "text": [
      "Epoch 47: 100%|██████████| 16/16 [00:00<00:00, 91.24batch/s]\n"
     ]
    },
    {
     "name": "stdout",
     "output_type": "stream",
     "text": [
      "[Epoch 47]\t training loss = -2.759\t validation loss = -2.649\n"
     ]
    },
    {
     "name": "stderr",
     "output_type": "stream",
     "text": [
      "Epoch 48: 100%|██████████| 16/16 [00:00<00:00, 93.08batch/s]\n"
     ]
    },
    {
     "name": "stdout",
     "output_type": "stream",
     "text": [
      "[Epoch 48]\t training loss = -2.763\t validation loss = -2.648\n"
     ]
    },
    {
     "name": "stderr",
     "output_type": "stream",
     "text": [
      "Epoch 49: 100%|██████████| 16/16 [00:00<00:00, 98.78batch/s]\n"
     ]
    },
    {
     "name": "stdout",
     "output_type": "stream",
     "text": [
      "[Epoch 49]\t training loss = -2.765\t validation loss = -2.648\n"
     ]
    },
    {
     "name": "stderr",
     "output_type": "stream",
     "text": [
      "Epoch 50: 100%|██████████| 16/16 [00:00<00:00, 107.16batch/s]\n"
     ]
    },
    {
     "name": "stdout",
     "output_type": "stream",
     "text": [
      "[Epoch 50]\t training loss = -2.768\t validation loss = -2.649\n"
     ]
    },
    {
     "name": "stderr",
     "output_type": "stream",
     "text": [
      "Epoch 51: 100%|██████████| 16/16 [00:00<00:00, 109.15batch/s]\n"
     ]
    },
    {
     "name": "stdout",
     "output_type": "stream",
     "text": [
      "[Epoch 51]\t training loss = -2.770\t validation loss = -2.648\n"
     ]
    },
    {
     "name": "stderr",
     "output_type": "stream",
     "text": [
      "Epoch 52: 100%|██████████| 16/16 [00:00<00:00, 92.74batch/s]\n"
     ]
    },
    {
     "name": "stdout",
     "output_type": "stream",
     "text": [
      "[Epoch 52]\t training loss = -2.773\t validation loss = -2.648\n"
     ]
    },
    {
     "name": "stderr",
     "output_type": "stream",
     "text": [
      "Epoch 53: 100%|██████████| 16/16 [00:00<00:00, 90.63batch/s]\n"
     ]
    },
    {
     "name": "stdout",
     "output_type": "stream",
     "text": [
      "[Epoch 53]\t training loss = -2.776\t validation loss = -2.649\n"
     ]
    },
    {
     "name": "stderr",
     "output_type": "stream",
     "text": [
      "Epoch 54: 100%|██████████| 16/16 [00:00<00:00, 94.83batch/s]\n"
     ]
    },
    {
     "name": "stdout",
     "output_type": "stream",
     "text": [
      "[Epoch 54]\t training loss = -2.779\t validation loss = -2.649\n"
     ]
    },
    {
     "name": "stderr",
     "output_type": "stream",
     "text": [
      "Epoch 55: 100%|██████████| 16/16 [00:00<00:00, 99.99batch/s]\n"
     ]
    },
    {
     "name": "stdout",
     "output_type": "stream",
     "text": [
      "[Epoch 55]\t training loss = -2.781\t validation loss = -2.649\n"
     ]
    },
    {
     "name": "stderr",
     "output_type": "stream",
     "text": [
      "Epoch 56: 100%|██████████| 16/16 [00:00<00:00, 97.98batch/s] \n"
     ]
    },
    {
     "name": "stdout",
     "output_type": "stream",
     "text": [
      "[Epoch 56]\t training loss = -2.782\t validation loss = -2.650\n"
     ]
    },
    {
     "name": "stderr",
     "output_type": "stream",
     "text": [
      "Epoch 57: 100%|██████████| 16/16 [00:00<00:00, 84.44batch/s]\n"
     ]
    },
    {
     "name": "stdout",
     "output_type": "stream",
     "text": [
      "[Epoch 57]\t training loss = -2.786\t validation loss = -2.648\n"
     ]
    },
    {
     "name": "stderr",
     "output_type": "stream",
     "text": [
      "Epoch 58: 100%|██████████| 16/16 [00:00<00:00, 96.31batch/s]\n"
     ]
    },
    {
     "name": "stdout",
     "output_type": "stream",
     "text": [
      "[Epoch 58]\t training loss = -2.788\t validation loss = -2.648\n"
     ]
    },
    {
     "name": "stderr",
     "output_type": "stream",
     "text": [
      "Epoch 59: 100%|██████████| 16/16 [00:00<00:00, 95.19batch/s]\n"
     ]
    },
    {
     "name": "stdout",
     "output_type": "stream",
     "text": [
      "[Epoch 59]\t training loss = -2.790\t validation loss = -2.648\n"
     ]
    },
    {
     "name": "stderr",
     "output_type": "stream",
     "text": [
      "Epoch 60: 100%|██████████| 16/16 [00:00<00:00, 94.26batch/s]\n"
     ]
    },
    {
     "name": "stdout",
     "output_type": "stream",
     "text": [
      "[Epoch 60]\t training loss = -2.792\t validation loss = -2.648\n"
     ]
    },
    {
     "name": "stderr",
     "output_type": "stream",
     "text": [
      "Epoch 61: 100%|██████████| 16/16 [00:00<00:00, 94.43batch/s]\n"
     ]
    },
    {
     "name": "stdout",
     "output_type": "stream",
     "text": [
      "[Epoch 61]\t training loss = -2.795\t validation loss = -2.648\n"
     ]
    },
    {
     "name": "stderr",
     "output_type": "stream",
     "text": [
      "Epoch 62: 100%|██████████| 16/16 [00:00<00:00, 94.44batch/s]\n"
     ]
    },
    {
     "name": "stdout",
     "output_type": "stream",
     "text": [
      "[Epoch 62]\t training loss = -2.797\t validation loss = -2.648\n"
     ]
    },
    {
     "name": "stderr",
     "output_type": "stream",
     "text": [
      "Epoch 63: 100%|██████████| 16/16 [00:00<00:00, 91.97batch/s]\n"
     ]
    },
    {
     "name": "stdout",
     "output_type": "stream",
     "text": [
      "[Epoch 63]\t training loss = -2.800\t validation loss = -2.648\n"
     ]
    },
    {
     "name": "stderr",
     "output_type": "stream",
     "text": [
      "Epoch 64: 100%|██████████| 16/16 [00:00<00:00, 95.32batch/s]\n"
     ]
    },
    {
     "name": "stdout",
     "output_type": "stream",
     "text": [
      "[Epoch 64]\t training loss = -2.802\t validation loss = -2.647\n"
     ]
    },
    {
     "name": "stderr",
     "output_type": "stream",
     "text": [
      "Epoch 65: 100%|██████████| 16/16 [00:00<00:00, 99.56batch/s] \n"
     ]
    },
    {
     "name": "stdout",
     "output_type": "stream",
     "text": [
      "[Epoch 65]\t training loss = -2.804\t validation loss = -2.648\n"
     ]
    },
    {
     "name": "stderr",
     "output_type": "stream",
     "text": [
      "Epoch 66: 100%|██████████| 16/16 [00:00<00:00, 97.86batch/s]\n"
     ]
    },
    {
     "name": "stdout",
     "output_type": "stream",
     "text": [
      "[Epoch 66]\t training loss = -2.806\t validation loss = -2.648\n"
     ]
    },
    {
     "name": "stderr",
     "output_type": "stream",
     "text": [
      "Epoch 67: 100%|██████████| 16/16 [00:00<00:00, 93.23batch/s]\n"
     ]
    },
    {
     "name": "stdout",
     "output_type": "stream",
     "text": [
      "[Epoch 67]\t training loss = -2.808\t validation loss = -2.646\n"
     ]
    },
    {
     "name": "stderr",
     "output_type": "stream",
     "text": [
      "Epoch 68: 100%|██████████| 16/16 [00:00<00:00, 88.52batch/s]\n"
     ]
    },
    {
     "name": "stdout",
     "output_type": "stream",
     "text": [
      "[Epoch 68]\t training loss = -2.810\t validation loss = -2.647\n"
     ]
    },
    {
     "name": "stderr",
     "output_type": "stream",
     "text": [
      "Epoch 69: 100%|██████████| 16/16 [00:00<00:00, 94.95batch/s]\n"
     ]
    },
    {
     "name": "stdout",
     "output_type": "stream",
     "text": [
      "[Epoch 69]\t training loss = -2.812\t validation loss = -2.647\n"
     ]
    },
    {
     "name": "stderr",
     "output_type": "stream",
     "text": [
      "Epoch 70: 100%|██████████| 16/16 [00:00<00:00, 93.52batch/s]\n"
     ]
    },
    {
     "name": "stdout",
     "output_type": "stream",
     "text": [
      "[Epoch 70]\t training loss = -2.814\t validation loss = -2.647\n"
     ]
    },
    {
     "name": "stderr",
     "output_type": "stream",
     "text": [
      "Epoch 71: 100%|██████████| 16/16 [00:00<00:00, 90.70batch/s]\n"
     ]
    },
    {
     "name": "stdout",
     "output_type": "stream",
     "text": [
      "[Epoch 71]\t training loss = -2.816\t validation loss = -2.646\n"
     ]
    },
    {
     "name": "stderr",
     "output_type": "stream",
     "text": [
      "Epoch 72: 100%|██████████| 16/16 [00:00<00:00, 93.74batch/s]\n"
     ]
    },
    {
     "name": "stdout",
     "output_type": "stream",
     "text": [
      "[Epoch 72]\t training loss = -2.820\t validation loss = -2.645\n"
     ]
    },
    {
     "name": "stderr",
     "output_type": "stream",
     "text": [
      "Epoch 73: 100%|██████████| 16/16 [00:00<00:00, 91.44batch/s]\n"
     ]
    },
    {
     "name": "stdout",
     "output_type": "stream",
     "text": [
      "[Epoch 73]\t training loss = -2.819\t validation loss = -2.645\n"
     ]
    },
    {
     "name": "stderr",
     "output_type": "stream",
     "text": [
      "Epoch 74: 100%|██████████| 16/16 [00:00<00:00, 91.04batch/s]\n"
     ]
    },
    {
     "name": "stdout",
     "output_type": "stream",
     "text": [
      "[Epoch 74]\t training loss = -2.821\t validation loss = -2.645\n"
     ]
    }
   ],
   "source": [
    "lag = 1\n",
    "model.fit(traj_x, lag)\n",
    "model.save_model(f'snrv_{lag}.pt')"
   ]
  },
  {
   "cell_type": "code",
   "execution_count": 15,
   "id": "2ef65396",
   "metadata": {},
   "outputs": [
    {
     "data": {
      "image/png": "[encoded data removed]",
      "text/plain": [
       "<Figure size 640x480 with 1 Axes>"
      ]
     },
     "metadata": {},
     "output_type": "display_data"
    }
   ],
   "source": [
    "fig, ax = plt.subplots()\n",
    "ax.plot(np.arange(len(model.training_losses)), model.training_losses)\n",
    "ax.plot(np.arange(len(model.validation_losses)), model.validation_losses)\n",
    "ax.set_xlabel('epoch')\n",
    "ax.set_ylabel('loss')\n",
    "ax.legend(['training','validation'])\n",
    "fig.tight_layout()"
   ]
  },
  {
   "cell_type": "code",
   "execution_count": 16,
   "id": "5cedd0de",
   "metadata": {},
   "outputs": [],
   "source": [
    "evecs_SRV_unbiased = model.transform(traj_x.float()).cpu().detach().numpy()"
   ]
  },
  {
   "cell_type": "code",
   "execution_count": 17,
   "id": "cf09332f",
   "metadata": {},
   "outputs": [
    {
     "data": {
      "application/vnd.plotly.v1+json": {
       "config": {
        "plotlyServerURL": "https://plot.ly"
       },
       "data": [
        {
         "hovertemplate": "TIC1=%{x}<br>TIC2=%{y}<extra></extra>",
         "legendgroup": "",
         "marker": {
          "color": "#636efa",
          "symbol": "circle"
         },
         "mode": "markers",
         "name": "",
         "showlegend": false,
         "type": "scattergl",
         "x": {
          "bdata": "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",
          "dtype": "f4"
         },
         "xaxis": "x",
         "y": {
          "bdata": "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",
          "dtype": "f4"
         },
         "yaxis": "y"
        }
       ],
       "layout": {
        "height": 600,
        "legend": {
         "tracegroupgap": 0
        },
        "margin": {
         "t": 60
        },
        "template": {
         "data": {
          "bar": [
           {
            "error_x": {
             "color": "#2a3f5f"
            },
            "error_y": {
             "color": "#2a3f5f"
            },
            "marker": {
             "line": {
              "color": "#E5ECF6",
              "width": 0.5
             },
             "pattern": {
              "fillmode": "overlay",
              "size": 10,
              "solidity": 0.2
             }
            },
            "type": "bar"
           }
          ],
          "barpolar": [
           {
            "marker": {
             "line": {
              "color": "#E5ECF6",
              "width": 0.5
             },
             "pattern": {
              "fillmode": "overlay",
              "size": 10,
              "solidity": 0.2
             }
            },
            "type": "barpolar"
           }
          ],
          "carpet": [
           {
            "aaxis": {
             "endlinecolor": "#2a3f5f",
             "gridcolor": "white",
             "linecolor": "white",
             "minorgridcolor": "white",
             "startlinecolor": "#2a3f5f"
            },
            "baxis": {
             "endlinecolor": "#2a3f5f",
             "gridcolor": "white",
             "linecolor": "white",
             "minorgridcolor": "white",
             "startlinecolor": "#2a3f5f"
            },
            "type": "carpet"
           }
          ],
          "choropleth": [
           {
            "colorbar": {
             "outlinewidth": 0,
             "ticks": ""
            },
            "type": "choropleth"
           }
          ],
          "contour": [
           {
            "colorbar": {
             "outlinewidth": 0,
             "ticks": ""
            },
            "colorscale": [
             [
              0,
              "#0d0887"
             ],
             [
              0.1111111111111111,
              "#46039f"
             ],
             [
              0.2222222222222222,
              "#7201a8"
             ],
             [
              0.3333333333333333,
              "#9c179e"
             ],
             [
              0.4444444444444444,
              "#bd3786"
             ],
             [
              0.5555555555555556,
              "#d8576b"
             ],
             [
              0.6666666666666666,
              "#ed7953"
             ],
             [
              0.7777777777777778,
              "#fb9f3a"
             ],
             [
              0.8888888888888888,
              "#fdca26"
             ],
             [
              1,
              "#f0f921"
             ]
            ],
            "type": "contour"
           }
          ],
          "contourcarpet": [
           {
            "colorbar": {
             "outlinewidth": 0,
             "ticks": ""
            },
            "type": "contourcarpet"
           }
          ],
          "heatmap": [
           {
            "colorbar": {
             "outlinewidth": 0,
             "ticks": ""
            },
            "colorscale": [
             [
              0,
              "#0d0887"
             ],
             [
              0.1111111111111111,
              "#46039f"
             ],
             [
              0.2222222222222222,
              "#7201a8"
             ],
             [
              0.3333333333333333,
              "#9c179e"
             ],
             [
              0.4444444444444444,
              "#bd3786"
             ],
             [
              0.5555555555555556,
              "#d8576b"
             ],
             [
              0.6666666666666666,
              "#ed7953"
             ],
             [
              0.7777777777777778,
              "#fb9f3a"
             ],
             [
              0.8888888888888888,
              "#fdca26"
             ],
             [
              1,
              "#f0f921"
             ]
            ],
            "type": "heatmap"
           }
          ],
          "histogram": [
           {
            "marker": {
             "pattern": {
              "fillmode": "overlay",
              "size": 10,
              "solidity": 0.2
             }
            },
            "type": "histogram"
           }
          ],
          "histogram2d": [
           {
            "colorbar": {
             "outlinewidth": 0,
             "ticks": ""
            },
            "colorscale": [
             [
              0,
              "#0d0887"
             ],
             [
              0.1111111111111111,
              "#46039f"
             ],
             [
              0.2222222222222222,
              "#7201a8"
             ],
             [
              0.3333333333333333,
              "#9c179e"
             ],
             [
              0.4444444444444444,
              "#bd3786"
             ],
             [
              0.5555555555555556,
              "#d8576b"
             ],
             [
              0.6666666666666666,
              "#ed7953"
             ],
             [
              0.7777777777777778,
              "#fb9f3a"
             ],
             [
              0.8888888888888888,
              "#fdca26"
             ],
             [
              1,
              "#f0f921"
             ]
            ],
            "type": "histogram2d"
           }
          ],
          "histogram2dcontour": [
           {
            "colorbar": {
             "outlinewidth": 0,
             "ticks": ""
            },
            "colorscale": [
             [
              0,
              "#0d0887"
             ],
             [
              0.1111111111111111,
              "#46039f"
             ],
             [
              0.2222222222222222,
              "#7201a8"
             ],
             [
              0.3333333333333333,
              "#9c179e"
             ],
             [
              0.4444444444444444,
              "#bd3786"
             ],
             [
              0.5555555555555556,
              "#d8576b"
             ],
             [
              0.6666666666666666,
              "#ed7953"
             ],
             [
              0.7777777777777778,
              "#fb9f3a"
             ],
             [
              0.8888888888888888,
              "#fdca26"
             ],
             [
              1,
              "#f0f921"
             ]
            ],
            "type": "histogram2dcontour"
           }
          ],
          "mesh3d": [
           {
            "colorbar": {
             "outlinewidth": 0,
             "ticks": ""
            },
            "type": "mesh3d"
           }
          ],
          "parcoords": [
           {
            "line": {
             "colorbar": {
              "outlinewidth": 0,
              "ticks": ""
             }
            },
            "type": "parcoords"
           }
          ],
          "pie": [
           {
            "automargin": true,
            "type": "pie"
           }
          ],
          "scatter": [
           {
            "fillpattern": {
             "fillmode": "overlay",
             "size": 10,
             "solidity": 0.2
            },
            "type": "scatter"
           }
          ],
          "scatter3d": [
           {
            "line": {
             "colorbar": {
              "outlinewidth": 0,
              "ticks": ""
             }
            },
            "marker": {
             "colorbar": {
              "outlinewidth": 0,
              "ticks": ""
             }
            },
            "type": "scatter3d"
           }
          ],
          "scattercarpet": [
           {
            "marker": {
             "colorbar": {
              "outlinewidth": 0,
              "ticks": ""
             }
            },
            "type": "scattercarpet"
           }
          ],
          "scattergeo": [
           {
            "marker": {
             "colorbar": {
              "outlinewidth": 0,
              "ticks": ""
             }
            },
            "type": "scattergeo"
           }
          ],
          "scattergl": [
           {
            "marker": {
             "colorbar": {
              "outlinewidth": 0,
              "ticks": ""
             }
            },
            "type": "scattergl"
           }
          ],
          "scattermap": [
           {
            "marker": {
             "colorbar": {
              "outlinewidth": 0,
              "ticks": ""
             }
            },
            "type": "scattermap"
           }
          ],
          "scattermapbox": [
           {
            "marker": {
             "colorbar": {
              "outlinewidth": 0,
              "ticks": ""
             }
            },
            "type": "scattermapbox"
           }
          ],
          "scatterpolar": [
           {
            "marker": {
             "colorbar": {
              "outlinewidth": 0,
              "ticks": ""
             }
            },
            "type": "scatterpolar"
           }
          ],
          "scatterpolargl": [
           {
            "marker": {
             "colorbar": {
              "outlinewidth": 0,
              "ticks": ""
             }
            },
            "type": "scatterpolargl"
           }
          ],
          "scatterternary": [
           {
            "marker": {
             "colorbar": {
              "outlinewidth": 0,
              "ticks": ""
             }
            },
            "type": "scatterternary"
           }
          ],
          "surface": [
           {
            "colorbar": {
             "outlinewidth": 0,
             "ticks": ""
            },
            "colorscale": [
             [
              0,
              "#0d0887"
             ],
             [
              0.1111111111111111,
              "#46039f"
             ],
             [
              0.2222222222222222,
              "#7201a8"
             ],
             [
              0.3333333333333333,
              "#9c179e"
             ],
             [
              0.4444444444444444,
              "#bd3786"
             ],
             [
              0.5555555555555556,
              "#d8576b"
             ],
             [
              0.6666666666666666,
              "#ed7953"
             ],
             [
              0.7777777777777778,
              "#fb9f3a"
             ],
             [
              0.8888888888888888,
              "#fdca26"
             ],
             [
              1,
              "#f0f921"
             ]
            ],
            "type": "surface"
           }
          ],
          "table": [
           {
            "cells": {
             "fill": {
              "color": "#EBF0F8"
             },
             "line": {
              "color": "white"
             }
            },
            "header": {
             "fill": {
              "color": "#C8D4E3"
             },
             "line": {
              "color": "white"
             }
            },
            "type": "table"
           }
          ]
         },
         "layout": {
          "annotationdefaults": {
           "arrowcolor": "#2a3f5f",
           "arrowhead": 0,
           "arrowwidth": 1
          },
          "autotypenumbers": "strict",
          "coloraxis": {
           "colorbar": {
            "outlinewidth": 0,
            "ticks": ""
           }
          },
          "colorscale": {
           "diverging": [
            [
             0,
             "#8e0152"
            ],
            [
             0.1,
             "#c51b7d"
            ],
            [
             0.2,
             "#de77ae"
            ],
            [
             0.3,
             "#f1b6da"
            ],
            [
             0.4,
             "#fde0ef"
            ],
            [
             0.5,
             "#f7f7f7"
            ],
            [
             0.6,
             "#e6f5d0"
            ],
            [
             0.7,
             "#b8e186"
            ],
            [
             0.8,
             "#7fbc41"
            ],
            [
             0.9,
             "#4d9221"
            ],
            [
             1,
             "#276419"
            ]
           ],
           "sequential": [
            [
             0,
             "#0d0887"
            ],
            [
             0.1111111111111111,
             "#46039f"
            ],
            [
             0.2222222222222222,
             "#7201a8"
            ],
            [
             0.3333333333333333,
             "#9c179e"
            ],
            [
             0.4444444444444444,
             "#bd3786"
            ],
            [
             0.5555555555555556,
             "#d8576b"
            ],
            [
             0.6666666666666666,
             "#ed7953"
            ],
            [
             0.7777777777777778,
             "#fb9f3a"
            ],
            [
             0.8888888888888888,
             "#fdca26"
            ],
            [
             1,
             "#f0f921"
            ]
           ],
           "sequentialminus": [
            [
             0,
             "#0d0887"
            ],
            [
             0.1111111111111111,
             "#46039f"
            ],
            [
             0.2222222222222222,
             "#7201a8"
            ],
            [
             0.3333333333333333,
             "#9c179e"
            ],
            [
             0.4444444444444444,
             "#bd3786"
            ],
            [
             0.5555555555555556,
             "#d8576b"
            ],
            [
             0.6666666666666666,
             "#ed7953"
            ],
            [
             0.7777777777777778,
             "#fb9f3a"
            ],
            [
             0.8888888888888888,
             "#fdca26"
            ],
            [
             1,
             "#f0f921"
            ]
           ]
          },
          "colorway": [
           "#636efa",
           "#EF553B",
           "#00cc96",
           "#ab63fa",
           "#FFA15A",
           "#19d3f3",
           "#FF6692",
           "#B6E880",
           "#FF97FF",
           "#FECB52"
          ],
          "font": {
           "color": "#2a3f5f"
          },
          "geo": {
           "bgcolor": "white",
           "lakecolor": "white",
           "landcolor": "#E5ECF6",
           "showlakes": true,
           "showland": true,
           "subunitcolor": "white"
          },
          "hoverlabel": {
           "align": "left"
          },
          "hovermode": "closest",
          "mapbox": {
           "style": "light"
          },
          "paper_bgcolor": "white",
          "plot_bgcolor": "#E5ECF6",
          "polar": {
           "angularaxis": {
            "gridcolor": "white",
            "linecolor": "white",
            "ticks": ""
           },
           "bgcolor": "#E5ECF6",
           "radialaxis": {
            "gridcolor": "white",
            "linecolor": "white",
            "ticks": ""
           }
          },
          "scene": {
           "xaxis": {
            "backgroundcolor": "#E5ECF6",
            "gridcolor": "white",
            "gridwidth": 2,
            "linecolor": "white",
            "showbackground": true,
            "ticks": "",
            "zerolinecolor": "white"
           },
           "yaxis": {
            "backgroundcolor": "#E5ECF6",
            "gridcolor": "white",
            "gridwidth": 2,
            "linecolor": "white",
            "showbackground": true,
            "ticks": "",
            "zerolinecolor": "white"
           },
           "zaxis": {
            "backgroundcolor": "#E5ECF6",
            "gridcolor": "white",
            "gridwidth": 2,
            "linecolor": "white",
            "showbackground": true,
            "ticks": "",
            "zerolinecolor": "white"
           }
          },
          "shapedefaults": {
           "line": {
            "color": "#2a3f5f"
           }
          },
          "ternary": {
           "aaxis": {
            "gridcolor": "white",
            "linecolor": "white",
            "ticks": ""
           },
           "baxis": {
            "gridcolor": "white",
            "linecolor": "white",
            "ticks": ""
           },
           "bgcolor": "#E5ECF6",
           "caxis": {
            "gridcolor": "white",
            "linecolor": "white",
            "ticks": ""
           }
          },
          "title": {
           "x": 0.05
          },
          "xaxis": {
           "automargin": true,
           "gridcolor": "white",
           "linecolor": "white",
           "ticks": "",
           "title": {
            "standoff": 15
           },
           "zerolinecolor": "white",
           "zerolinewidth": 2
          },
          "yaxis": {
           "automargin": true,
           "gridcolor": "white",
           "linecolor": "white",
           "ticks": "",
           "title": {
            "standoff": 15
           },
           "zerolinecolor": "white",
           "zerolinewidth": 2
          }
         }
        },
        "width": 600,
        "xaxis": {
         "anchor": "y",
         "domain": [
          0,
          1
         ],
         "title": {
          "text": "TIC1"
         }
        },
        "yaxis": {
         "anchor": "x",
         "domain": [
          0,
          1
         ],
         "title": {
          "text": "TIC2"
         }
        }
       }
      }
     },
     "metadata": {},
     "output_type": "display_data"
    }
   ],
   "source": [
    "dataset = pd.DataFrame(evecs_SRV_unbiased, columns=[\"TIC0\", \"TIC1\", \"TIC2\"])\n",
    "px.scatter(dataset, x=\"TIC1\", y=\"TIC2\", width=600, height=600)"
   ]
  },
  {
   "cell_type": "code",
   "execution_count": 18,
   "id": "ecae7b20",
   "metadata": {},
   "outputs": [
    {
     "name": "stdout",
     "output_type": "stream",
     "text": [
      "TIC0    1.518877\n",
      "TIC1    1.981122\n",
      "TIC2    2.424743\n",
      "dtype: float32\n",
      "TIC0    0.679517\n",
      "TIC1   -1.330376\n",
      "TIC2   -2.310448\n",
      "dtype: float32\n"
     ]
    }
   ],
   "source": [
    "print(dataset.max())\n",
    "print(dataset.min())"
   ]
  },
  {
   "cell_type": "code",
   "execution_count": 19,
   "id": "b32bd47e",
   "metadata": {},
   "outputs": [],
   "source": [
    "class CV(torch.nn.Module):\n",
    "    def __init__(self, model, idx):\n",
    "        super().__init__()\n",
    "        self.model = model\n",
    "        self.idx = idx\n",
    "        self.register_buffer(\"i_list_d\", i_list_d)\n",
    "        self.register_buffer(\"j_list_d\", j_list_d)\n",
    "        self.register_buffer(\"i_list_dih\", i_list_dih)\n",
    "        self.register_buffer(\"j_list_dih\", j_list_dih)\n",
    "        self.register_buffer(\"k_list_dih\", k_list_dih)\n",
    "        self.register_buffer(\"l_list_dih\", l_list_dih)\n",
    "\n",
    "    def compute_mic_dist(self, pos, box):\n",
    "        d = pos[self.i_list_d, :] - pos[self.j_list_d, :]  # shape: [T, M, 3]\n",
    "        d = d - box * torch.round(d / box)  # apply MIC\n",
    "        return torch.norm(d, dim=-1)  # shape: [T, M]\n",
    "    \n",
    "    def compute_mic_angles(self, pos, box):\n",
    "        # pos: [T, N, 3]\n",
    "        # box: [T, 1, 3]\n",
    "        # i, j, k: [M]\n",
    "        \n",
    "        # MIC vector: ri - rj\n",
    "        v1 = pos[self.i_list_a, :] - pos[self.j_list_a, :]  # [T, M, 3]\n",
    "        v1 = v1 - box * torch.round(v1 / box)\n",
    "\n",
    "        # MIC vector: rk - rj\n",
    "        v2 = pos[self.k_list_a, :] - pos[self.j_list_a, :]\n",
    "        v2 = v2 - box * torch.round(v2 / box)\n",
    "\n",
    "        # Normalize\n",
    "        v1_norm = torch.nn.functional.normalize(v1, dim=-1)\n",
    "        v2_norm = torch.nn.functional.normalize(v2, dim=-1)\n",
    "\n",
    "        # Dot product and angle\n",
    "        cos_theta = (v1_norm * v2_norm).sum(dim=-1).clamp(-1.0, 1.0)\n",
    "        angles = torch.acos(cos_theta)  # [T, M], in radians\n",
    "\n",
    "        return angles\n",
    "    \n",
    "    def compute_mic_dihedrals(self, pos, box):\n",
    "        # pos: [T, N, 3]\n",
    "        # box: [T, 1, 3] (broadcastable)\n",
    "        # i, j, k, l: [M]\n",
    "\n",
    "        # MIC vectors\n",
    "        b1 = pos[self.j_list_dih, :] - pos[self.i_list_dih, :]\n",
    "        b1 = b1 - box * torch.round(b1 / box)\n",
    "\n",
    "        b2 = pos[self.k_list_dih, :] - pos[self.j_list_dih, :]\n",
    "        b2 = b2 - box * torch.round(b2 / box)\n",
    "\n",
    "        b3 = pos[self.l_list_dih, :] - pos[self.k_list_dih, :]\n",
    "        b3 = b3 - box * torch.round(b3 / box)\n",
    "\n",
    "        # Normalize b2 for later\n",
    "        b2_norm = torch.nn.functional.normalize(b2, dim=-1)\n",
    "\n",
    "        # Compute normals to the planes\n",
    "        n1 = torch.cross(b1, b2, dim=-1)  # plane i-j-k\n",
    "        n2 = torch.cross(b2, b3, dim=-1)  # plane j-k-l\n",
    "\n",
    "        # Normalize\n",
    "        n1 = torch.nn.functional.normalize(n1, dim=-1)\n",
    "        n2 = torch.nn.functional.normalize(n2, dim=-1)\n",
    "\n",
    "        # Compute cosine and sine terms\n",
    "        cos_phi = (n1 * n2).sum(dim=-1).clamp(-1.0, 1.0)\n",
    "        sin_phi = (torch.cross(n1, n2, dim=-1) * b2_norm).sum(dim=-1)\n",
    "\n",
    "        # Final torsion angle\n",
    "        dihedrals = torch.atan2(sin_phi, cos_phi)  # shape: [T, M], radians\n",
    "\n",
    "        return dihedrals\n",
    "\n",
    "    def forward(self, positions, boxvectors):\n",
    "        \"\"\"The forward method returns the energy computed from positions.\n",
    "\n",
    "        Parameters\n",
    "        ----------\n",
    "        positions : torch.Tensor with shape (nparticles, 3)\n",
    "           positions[i,k] is the position (in nanometers) of spatial dimension k of particle i\n",
    "\n",
    "        Returns\n",
    "        -------\n",
    "        potential : torch.Scalar\n",
    "           The potential energy (in kJ/mol)\n",
    "        \"\"\"\n",
    "        boxsize = boxvectors.diag()\n",
    "        feat_d = self.compute_mic_dist(positions, boxsize)\n",
    "        feat_dih = self.compute_mic_dihedrals(positions, boxsize)\n",
    "        feats = torch.concat([feat_d, feat_dih])\n",
    "        evecs = self.model.transform(feats.view(1, -1))\n",
    "        CV = evecs[0][self.idx]\n",
    "        return CV\n",
    "\n",
    "model_output_1 = CV(model, 1)\n",
    "model_output_2 = CV(model, 2)\n",
    "\n",
    "torch.jit.script(model_output_1).save('cv1.pt')\n",
    "torch.jit.script(model_output_2).save('cv2.pt')"
   ]
  },
  {
   "cell_type": "code",
   "execution_count": null,
   "id": "a7677aa6",
   "metadata": {},
   "outputs": [],
   "source": []
  }
 ],
 "metadata": {
  "kernelspec": {
   "display_name": "GADES",
   "language": "python",
   "name": "python3"
  },
  "language_info": {
   "codemirror_mode": {
    "name": "ipython",
    "version": 3
   },
   "file_extension": ".py",
   "mimetype": "text/x-python",
   "name": "python",
   "nbconvert_exporter": "python",
   "pygments_lexer": "ipython3",
   "version": "3.11.10"
  }
 },
 "nbformat": 4,
 "nbformat_minor": 5
}
