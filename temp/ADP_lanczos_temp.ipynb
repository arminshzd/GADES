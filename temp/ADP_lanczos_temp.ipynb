{
 "cells": [
  {
   "cell_type": "code",
   "execution_count": 1,
   "metadata": {},
   "outputs": [
    {
     "name": "stderr",
     "output_type": "stream",
     "text": [
      "/Users/arminsh/miniconda3/envs/GAD/lib/python3.9/site-packages/dmff/operators/parmed.py:12: UserWarning: Parmed is not installed. Parmed optimization cannot be used.\n",
      "  warnings.warn(\"Parmed is not installed. Parmed optimization cannot be used.\")\n",
      "/Users/arminsh/miniconda3/envs/GAD/lib/python3.9/site-packages/dmff/admp/qeq.py:33: UserWarning: jaxopt not found, QEQ cannot be used.\n",
      "  warnings.warn(\"jaxopt not found, QEQ cannot be used.\")\n"
     ]
    }
   ],
   "source": [
    "import jax\n",
    "import jax.numpy as jnp\n",
    "import numpy as np\n",
    "import openmm.app as app\n",
    "import openmm.unit as unit\n",
    "from dmff import Hamiltonian, NeighborListFreud"
   ]
  },
  {
   "cell_type": "code",
   "execution_count": 4,
   "metadata": {},
   "outputs": [],
   "source": [
    "path = '/Users/arminsh/Documents/GADES/examples/AlanineDipeptide/'\n",
    "prmtop = app.AmberPrmtopFile(f\"{path}/alanine-dipeptide.prmtop\")\n",
    "inpcrd = app.AmberInpcrdFile(f\"{path}/alanine-dipeptide.inpcrd\")"
   ]
  },
  {
   "cell_type": "code",
   "execution_count": 5,
   "metadata": {},
   "outputs": [
    {
     "name": "stdout",
     "output_type": "stream",
     "text": [
      "DMFF Pot E:  -55.794260834909345\n"
     ]
    }
   ],
   "source": [
    "ff = Hamiltonian(f\"{path}/protein.ff14SB.xml\")\n",
    "\n",
    "potentials = ff.createPotential(prmtop.topology, nonbondedMethod=app.NoCutoff, useDispersionCorrection=False)\n",
    "params = ff.getParameters()\n",
    "positions = jnp.array(inpcrd.getPositions(asNumpy=True).value_in_unit(unit.nanometer))\n",
    "\n",
    "box = jnp.array([[20.0, 0.0, 0.0], [0.0, 20.0, 0.0], [0.0, 0.0, 20.0]])\n",
    "\n",
    "nbList = NeighborListFreud(box, 3, potentials.meta[\"cov_map\"]) # maybe remove the box?\n",
    "nbList.allocate(positions)\n",
    "pairs = nbList.pairs\n",
    "efunc_all = potentials.getPotentialFunc()\n",
    "dmff_e = efunc_all(positions, box, pairs, ff.paramset)\n",
    "\n",
    "print(\"DMFF Pot E: \", dmff_e)"
   ]
  },
  {
   "cell_type": "code",
   "execution_count": 6,
   "metadata": {},
   "outputs": [
    {
     "name": "stdout",
     "output_type": "stream",
     "text": [
      "Forces: \n",
      " [-1.71865366e+02 -3.18532912e+01  6.93394280e-01 -2.69338193e+02\n",
      " -3.51439108e+02 -2.29458474e+00 -5.28602801e+00  4.40961711e+01\n",
      "  4.26381335e+01 -6.79627810e+00  4.33137449e+01 -4.09523736e+01\n",
      "  4.52549770e+02  2.17764116e+02 -2.35854039e+02  6.63423153e+02\n",
      "  4.01344132e+02 -3.88141697e+02  9.49967236e+01  7.69630908e+02\n",
      "  4.01534867e+02 -4.90775901e+01 -4.57633388e+01  7.38115682e+00\n",
      " -4.28528076e+02 -3.13662037e+02 -1.89956133e+02  1.74440184e+01\n",
      "  8.66267050e+00 -4.23307622e+01  1.04952670e+01  1.14678495e+02\n",
      "  3.50646113e+02 -1.77497554e+01  2.76645948e+01  6.28447219e+01\n",
      " -8.25922834e+01  2.01080786e+02  1.30534383e+02 -4.08666513e+02\n",
      " -2.61975927e+02  3.33848622e+02  5.80858470e+01 -1.93137316e+01\n",
      " -2.68883324e+02  2.16593345e+02  4.39660829e+01  1.80234687e+01\n",
      "  6.44641858e+01 -3.42606470e+02 -1.88895749e+02  1.40152566e+02\n",
      "  1.03662316e+02  6.88386192e+00 -2.76119653e+02 -2.02536969e+02\n",
      "  1.60757282e-01 -3.92006329e+01 -2.84702293e+02  9.29432738e-01\n",
      "  1.83045552e+01 -6.15960480e+01 -2.15381072e+01  1.87109380e+01\n",
      " -6.04148037e+01  2.27278578e+01]\n"
     ]
    },
    {
     "data": {
      "text/plain": [
       "(66,)"
      ]
     },
     "execution_count": 6,
     "metadata": {},
     "output_type": "execute_result"
    }
   ],
   "source": [
    "params = ff.paramset # easy for implemenentation - must not change\n",
    "\n",
    "efunc_pos = lambda pos: efunc_all(pos.reshape(-1, 3), box, pairs, ff.paramset) # for easy implementation \n",
    "grad_vec = jax.grad(efunc_pos)\n",
    "\n",
    "force = grad_vec(positions.flatten())\n",
    "print(\"Forces: \\n\", force)\n",
    "force.shape"
   ]
  },
  {
   "cell_type": "code",
   "execution_count": 7,
   "metadata": {},
   "outputs": [
    {
     "name": "stdout",
     "output_type": "stream",
     "text": [
      "(66, 66)\n"
     ]
    }
   ],
   "source": [
    "hessian_vec = jax.hessian(efunc_pos)\n",
    "\n",
    "hess = hessian_vec(positions.flatten())\n",
    "print(hess.shape)"
   ]
  },
  {
   "cell_type": "code",
   "execution_count": 10,
   "metadata": {},
   "outputs": [
    {
     "name": "stdout",
     "output_type": "stream",
     "text": [
      "-1205.1526670440148\n"
     ]
    }
   ],
   "source": [
    "# Compute the eigenvalues\n",
    "w, v = jnp.linalg.eigh(hess)\n",
    "w_idx = w.argsort()\n",
    "w = w[w_idx]\n",
    "v = v[:, w_idx]\n",
    "\n",
    "print(w[0])"
   ]
  },
  {
   "cell_type": "code",
   "execution_count": null,
   "metadata": {},
   "outputs": [],
   "source": []
  }
 ],
 "metadata": {
  "kernelspec": {
   "display_name": "GAD",
   "language": "python",
   "name": "python3"
  },
  "language_info": {
   "codemirror_mode": {
    "name": "ipython",
    "version": 3
   },
   "file_extension": ".py",
   "mimetype": "text/x-python",
   "name": "python",
   "nbconvert_exporter": "python",
   "pygments_lexer": "ipython3",
   "version": "3.9.18"
  }
 },
 "nbformat": 4,
 "nbformat_minor": 2
}
