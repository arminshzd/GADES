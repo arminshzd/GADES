{
 "cells": [
  {
   "cell_type": "code",
   "execution_count": 1,
   "id": "76c02844",
   "metadata": {},
   "outputs": [],
   "source": [
    "import numpy as np\n",
    "\n",
    "import openmm\n",
    "from openmm import Platform, MonteCarloBarostat\n",
    "import openmm.app as app\n",
    "import openmm.unit as unit\n",
    "from openmm.app import Simulation\n",
    "from openmm import LocalEnergyMinimizer\n",
    "\n",
    "import mdtraj as md\n",
    "\n",
    "from utils import _get_openMM_forces as get_forces\n",
    "from utils import compute_hessian_force_fd_block_serial, compute_hessian_force_fd_block_parallel"
   ]
  },
  {
   "cell_type": "markdown",
   "id": "17a8029d",
   "metadata": {},
   "source": [
    "## With dimer system"
   ]
  },
  {
   "cell_type": "code",
   "execution_count": 2,
   "id": "a3454c03",
   "metadata": {},
   "outputs": [],
   "source": [
    "def create_harmonic_dimer(k=300.0, r0=0.1):\n",
    "    system = openmm.System()\n",
    "    mass = 12.0 * unit.amu\n",
    "    system.addParticle(mass)\n",
    "    system.addParticle(mass)\n",
    "\n",
    "    # Add custom harmonic bond force\n",
    "    force = openmm.HarmonicBondForce()\n",
    "    force.addBond(0, 1, r0 * unit.nanometer, k * unit.kilojoule_per_mole / unit.nanometer**2)\n",
    "    system.addForce(force)\n",
    "\n",
    "    # Initial positions: atoms along x-axis at equilibrium distance\n",
    "    positions = unit.Quantity(\n",
    "        np.array([[0, 0, 0], [r0, 0, 0]]),\n",
    "        unit.nanometer\n",
    "    )\n",
    "    return system, positions"
   ]
  },
  {
   "cell_type": "code",
   "execution_count": 3,
   "id": "ba73677f",
   "metadata": {},
   "outputs": [],
   "source": [
    "system, position = create_harmonic_dimer()"
   ]
  },
  {
   "cell_type": "code",
   "execution_count": 4,
   "id": "244e710f",
   "metadata": {},
   "outputs": [],
   "source": [
    "def analytical_dimer_hessian(k):\n",
    "    H = np.zeros((6, 6))\n",
    "    H[0, 0] = H[3, 3] = k   # x1-x1 and x2-x2\n",
    "    H[0, 3] = H[3, 0] = -k  # x1-x2 and x2-x1\n",
    "    return H\n",
    "\n",
    "def run_numerical_hessian(system, positions, hessian_func, epsilon=1e-4):\n",
    "    # Use your provided Hessian function (serial or parallel version)\n",
    "    hessian = hessian_func(system, positions, atom_indices=[0, 1], epsilon=epsilon, platform_name='CPU')\n",
    "    return hessian"
   ]
  },
  {
   "cell_type": "code",
   "execution_count": 5,
   "id": "abfbac7a",
   "metadata": {},
   "outputs": [
    {
     "name": "stdout",
     "output_type": "stream",
     "text": [
      "Analytical Hessian (nonzero part):\n",
      "[[ 300.    0.    0. -300.]\n",
      " [   0.    0.    0.    0.]\n",
      " [   0.    0.    0.    0.]\n",
      " [-300.    0.    0.  300.]]\n"
     ]
    }
   ],
   "source": [
    "H_analytic = analytical_dimer_hessian(300.0)\n",
    "print(\"Analytical Hessian (nonzero part):\")\n",
    "print(H_analytic[:4, :4])  # just x components"
   ]
  },
  {
   "cell_type": "code",
   "execution_count": 6,
   "id": "4dada0ed",
   "metadata": {},
   "outputs": [
    {
     "name": "stdout",
     "output_type": "stream",
     "text": [
      "\n",
      "Numerical Hessian (block):\n",
      "[[ 3.00000000e+02 -2.08166817e-06 -2.08166817e-06 -3.00000000e+02\n",
      "  -2.08166817e-06 -2.08166817e-06]\n",
      " [-2.08166817e-06  4.16333634e-14  0.00000000e+00  2.08166817e-06\n",
      "  -4.16333634e-14  0.00000000e+00]\n",
      " [-2.08166817e-06  0.00000000e+00  4.16333634e-14  2.08166817e-06\n",
      "   0.00000000e+00 -4.16333634e-14]\n",
      " [-3.00000000e+02  2.08166817e-06  2.08166817e-06  3.00000000e+02\n",
      "   2.08166817e-06  2.08166817e-06]\n",
      " [-2.08166817e-06 -4.16333634e-14  0.00000000e+00  2.08166817e-06\n",
      "   4.16333634e-14  0.00000000e+00]\n",
      " [-2.08166817e-06  0.00000000e+00 -4.16333634e-14  2.08166817e-06\n",
      "   0.00000000e+00  4.16333634e-14]]\n"
     ]
    }
   ],
   "source": [
    "H_numeric = run_numerical_hessian(\n",
    "    system, position, compute_hessian_force_fd_block_parallel, epsilon=1e-9\n",
    ")\n",
    "\n",
    "print(\"\\nNumerical Hessian (block):\")\n",
    "print(H_numeric)"
   ]
  },
  {
   "cell_type": "code",
   "execution_count": 7,
   "id": "5390ce3e",
   "metadata": {},
   "outputs": [
    {
     "name": "stdout",
     "output_type": "stream",
     "text": [
      "\n",
      "Absolute difference: 8.333e-06\n",
      "Relative difference: 1.389e-08\n"
     ]
    }
   ],
   "source": [
    "# Compare\n",
    "diff = np.linalg.norm(H_numeric[:6, :6] - H_analytic)\n",
    "rel_diff = diff / np.linalg.norm(H_analytic)\n",
    "print(f\"\\nAbsolute difference: {diff:.3e}\")\n",
    "print(f\"Relative difference: {rel_diff:.3e}\")"
   ]
  },
  {
   "cell_type": "code",
   "execution_count": 8,
   "id": "00f9332b",
   "metadata": {},
   "outputs": [],
   "source": [
    "def test_hessian_eigenvalues(system, positions, hessian_func, **hessian_kwargs):\n",
    "    \"\"\"\n",
    "    Minimize the system, compute the Hessian, and check eigenvalue structure.\n",
    "    \"\"\"\n",
    "    integrator = openmm.LangevinIntegrator(300 * unit.kelvin, 1/unit.picosecond, 2 * unit.femtoseconds)\n",
    "    platform = openmm.Platform.getPlatformByName('CPU')\n",
    "    simulation = Simulation(app.Topology(), system, integrator, platform)\n",
    "    simulation.context.setPositions(positions)\n",
    "\n",
    "    # Minimize\n",
    "    LocalEnergyMinimizer.minimize(simulation.context, tolerance=1)\n",
    "    state = simulation.context.getState(getPositions=True)\n",
    "    minimized_positions = state.getPositions()\n",
    "\n",
    "    state_F = simulation.context.getState(getForces=True)\n",
    "    max_force = np.max(np.abs(state_F.getForces(asNumpy=True)))\n",
    "    print(\"Max force after minimization:\", max_force)\n",
    "\n",
    "    state_e = simulation.context.getState(getEnergy=True, getVelocities=False, getForces=False, getPositions=False)\n",
    "    energy = state_e.getPotentialEnergy()\n",
    "    print(\"OpenMM Pot E (minimized): \", energy)\n",
    "\n",
    "    # Compute Hessian\n",
    "    hessian = hessian_func(system, minimized_positions, **hessian_kwargs)\n",
    "\n",
    "    # Compute eigenvalues\n",
    "    eigvals = np.linalg.eigvalsh(hessian)\n",
    "    num_negative = np.sum(eigvals < -1e-6)\n",
    "    num_near_zero = np.sum(np.abs(eigvals) < 1e-6)\n",
    "\n",
    "    print(f\"Eigenvalues: {eigvals}\")\n",
    "    print(f\"Eigenvalues (min, max): {eigvals.min():.3e}, {eigvals.max():.3e}\")\n",
    "    print(f\"Negative eigenvalues: {num_negative}\")\n",
    "    print(f\"Near-zero eigenvalues (expected ~6 for rigid body modes): {num_near_zero}\")\n",
    "\n",
    "    del simulation"
   ]
  },
  {
   "cell_type": "code",
   "execution_count": 9,
   "id": "0dd55dce",
   "metadata": {},
   "outputs": [
    {
     "name": "stdout",
     "output_type": "stream",
     "text": [
      "Max force after minimization: 0.0\n",
      "OpenMM Pot E (minimized):  0.0 kJ/mol\n",
      "Eigenvalues: [-5.19664871e-14  6.67551315e-15  6.62052256e-14  8.32667268e-14\n",
      "  1.00411450e-13  6.00000000e+02]\n",
      "Eigenvalues (min, max): -5.197e-14, 6.000e+02\n",
      "Negative eigenvalues: 0\n",
      "Near-zero eigenvalues (expected ~6 for rigid body modes): 5\n"
     ]
    }
   ],
   "source": [
    "test_hessian_eigenvalues(system, position, hessian_func=compute_hessian_force_fd_block_serial, epsilon=1e-9, atom_indices=None)"
   ]
  },
  {
   "cell_type": "markdown",
   "id": "60a1688c",
   "metadata": {},
   "source": [
    "## with ADP system"
   ]
  },
  {
   "cell_type": "code",
   "execution_count": 34,
   "id": "8e9d27b4",
   "metadata": {},
   "outputs": [
    {
     "name": "stdout",
     "output_type": "stream",
     "text": [
      "OpenMM Pot E:  -12061.050880030336 kJ/mol\n"
     ]
    }
   ],
   "source": [
    "pdb = app.PDBFile(\"/Users/arminsh/Documents/GADES/GADES/equilibrated.pdb\")\n",
    "traj = md.load(\"/Users/arminsh/Documents/GADES/GADES/equilibrated.pdb\")\n",
    "adp_atom_indices = np.array([atom.index for atom in traj.topology.atoms if atom.residue.name != 'HOH']) # what atoms do you want to pick\n",
    "\n",
    "forcefield = app.ForceField(\"amber14/protein.ff14SB.xml\", \n",
    "                        \"amber14/tip3p.xml\")\n",
    "system = forcefield.createSystem(pdb.topology, nonbondedMethod=app.PME, constraints=None)\n",
    "\n",
    "integrator = openmm.LangevinIntegrator(300 * unit.kelvin, 1 / unit.picosecond, 2 * unit.femtoseconds)\n",
    "platform = Platform.getPlatformByName(\"OpenCL\")\n",
    "\n",
    "simulation = app.Simulation(pdb.topology, system, integrator, platform)\n",
    "simulation.context.setPositions(pdb.positions)\n",
    "\n",
    "state = simulation.context.getState(getEnergy=True, getVelocities=False, getForces=False, getPositions=False)\n",
    "energy = state.getPotentialEnergy()\n",
    "print(\"OpenMM Pot E: \", energy)"
   ]
  },
  {
   "cell_type": "code",
   "execution_count": 35,
   "id": "6183bd75",
   "metadata": {},
   "outputs": [],
   "source": [
    "def test_force_prediction(system, positions, hessian, atom_indices, epsilon=1e-4, platform_name='CPU'):\n",
    "    \"\"\"\n",
    "    Test if Hessian predicts force changes under random displacement.\n",
    "    \"\"\"\n",
    "    n_atoms = len(positions)\n",
    "    positions_array = np.array(positions.value_in_unit(unit.nanometer))\n",
    "\n",
    "    if atom_indices is None:\n",
    "        atom_indices = np.arange(0, n_atoms)\n",
    "\n",
    "    coord_indices = []\n",
    "    for idx in atom_indices:\n",
    "        coord_indices.extend([3 * idx, 3 * idx + 1, 3 * idx + 2])\n",
    "\n",
    "    integrator = openmm.VerletIntegrator(1.0 * unit.femtoseconds)\n",
    "    platform = openmm.Platform.getPlatformByName(platform_name)\n",
    "    context = openmm.Context(system, integrator, platform)\n",
    "\n",
    "    positions_nm = positions_array * unit.nanometer\n",
    "    context.setPositions(positions_nm)\n",
    "\n",
    "    f0 = get_forces(context, positions_nm)[coord_indices]\n",
    "\n",
    "    # Random displacement\n",
    "    delta_x = np.random.randn(len(coord_indices)) * epsilon\n",
    "    perturbed_positions = positions_array.flatten()\n",
    "    perturbed_positions[coord_indices] += delta_x\n",
    "    perturbed_positions = perturbed_positions.reshape((-1, 3)) * unit.nanometer\n",
    "\n",
    "    f_perturbed = get_forces(context, perturbed_positions)[coord_indices]\n",
    "    f_predicted = f0 + hessian @ delta_x\n",
    "\n",
    "    error = np.linalg.norm(f_perturbed - f_predicted) / np.linalg.norm(f_perturbed)\n",
    "    print(f\"Relative force prediction error: {error:.3e}\")\n",
    "\n",
    "    del context\n",
    "    del integrator"
   ]
  },
  {
   "cell_type": "code",
   "execution_count": 36,
   "id": "bf2ee0da",
   "metadata": {},
   "outputs": [
    {
     "name": "stdout",
     "output_type": "stream",
     "text": [
      "Relative force prediction error: 7.102e-05\n"
     ]
    }
   ],
   "source": [
    "hessian_block = compute_hessian_force_fd_block_serial(system, pdb.positions, atom_indices=None, epsilon=1e-4)\n",
    "test_force_prediction(system, pdb.positions, hessian_block, atom_indices=None, epsilon=1e-4)"
   ]
  },
  {
   "cell_type": "code",
   "execution_count": 37,
   "id": "59dc8d89",
   "metadata": {},
   "outputs": [],
   "source": [
    "def test_hessian_eigenvalues(system, positions, hessian_func, **hessian_kwargs):\n",
    "    \"\"\"\n",
    "    Minimize the system, compute the Hessian, and check eigenvalue structure.\n",
    "    \"\"\"\n",
    "    integrator = openmm.LangevinIntegrator(300 * unit.kelvin, 1/unit.picosecond, 2 * unit.femtoseconds)\n",
    "    platform = openmm.Platform.getPlatformByName('CPU')\n",
    "    simulation = Simulation(app.Topology(), system, integrator, platform)\n",
    "    simulation.context.setPositions(positions)\n",
    "\n",
    "    # Minimize\n",
    "    LocalEnergyMinimizer.minimize(simulation.context, tolerance=1e-6)\n",
    "    state = simulation.context.getState(getPositions=True, getForces=True, getEnergy=True)\n",
    "    minimized_positions = state.getPositions()\n",
    "\n",
    "    max_force = np.max(np.abs(state.getForces(asNumpy=True)))\n",
    "    print(\"Max force after minimization:\", max_force)\n",
    "\n",
    "    energy = state.getPotentialEnergy()\n",
    "    print(\"OpenMM Pot E (minimized): \", energy)\n",
    "\n",
    "    # Compute Hessian\n",
    "    hessian = hessian_func(system, minimized_positions, **hessian_kwargs)\n",
    "\n",
    "    # Compute eigenvalues\n",
    "    eigvals = np.linalg.eigvalsh(hessian)\n",
    "    num_negative = np.sum(eigvals < -1e-6)\n",
    "    num_near_zero = np.sum(np.abs(eigvals) < 1e-6)\n",
    "\n",
    "    print(f\"Eigenvalues (min, max): {eigvals.min():.3e}, {eigvals.max():.3e}\")\n",
    "    print(f\"Negative eigenvalues: {num_negative}\")\n",
    "    print(f\"Near-zero eigenvalues (expected ~6 for rigid body modes): {num_near_zero}\")\n",
    "\n",
    "    del simulation"
   ]
  },
  {
   "cell_type": "code",
   "execution_count": 38,
   "id": "fb70d6ce",
   "metadata": {},
   "outputs": [
    {
     "name": "stdout",
     "output_type": "stream",
     "text": [
      "Max force after minimization: 2061.4990234375\n",
      "OpenMM Pot E (minimized):  -20344.527294915457 kJ/mol\n",
      "Eigenvalues (min, max): -1.329e+08, 1.376e+08\n",
      "Negative eigenvalues: 1850\n",
      "Near-zero eigenvalues (expected ~6 for rigid body modes): 0\n"
     ]
    }
   ],
   "source": [
    "test_hessian_eigenvalues(system, pdb.positions, hessian_func=compute_hessian_force_fd_block_serial, epsilon=1e-9, atom_indices=None)"
   ]
  },
  {
   "cell_type": "code",
   "execution_count": null,
   "id": "3f5c3798",
   "metadata": {},
   "outputs": [],
   "source": []
  },
  {
   "cell_type": "code",
   "execution_count": null,
   "id": "e90a1c83",
   "metadata": {},
   "outputs": [],
   "source": []
  }
 ],
 "metadata": {
  "kernelspec": {
   "display_name": "GADES",
   "language": "python",
   "name": "python3"
  },
  "language_info": {
   "codemirror_mode": {
    "name": "ipython",
    "version": 3
   },
   "file_extension": ".py",
   "mimetype": "text/x-python",
   "name": "python",
   "nbconvert_exporter": "python",
   "pygments_lexer": "ipython3",
   "version": "3.9.18"
  }
 },
 "nbformat": 4,
 "nbformat_minor": 5
}
